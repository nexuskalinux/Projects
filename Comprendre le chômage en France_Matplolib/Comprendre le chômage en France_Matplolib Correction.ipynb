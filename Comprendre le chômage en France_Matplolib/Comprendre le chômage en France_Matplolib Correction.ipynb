{
 "cells": [
  {
   "cell_type": "markdown",
   "metadata": {
    "colab_type": "text",
    "id": "ZwEXvTBHQpTz"
   },
   "source": [
    "# Comprendre le chômage en France \n",
    "\n",
    "Vous êtes vous déjà demandé d'où sortaient les chiffres qu'annoncent les politiques ou les media lorsqu'ils parlent de chômage. Etant un sujet d'intérêt dans les pays occidents, tentons de comprendre ce qu'ils se passent en termes de chômages en France. Pour cela, nous avons récupéré des données sur [data.gouv](https://www.insee.fr/fr/statistiques/3555153#consulter). Elles représentent les données du chômage en France en 2017\n",
    "\n"
   ]
  },
  {
   "cell_type": "markdown",
   "metadata": {
    "colab_type": "text",
    "id": "0Y97GFc4QzSX"
   },
   "source": [
    "## Documentation du dataset \n",
    "\n",
    "Regarder la documentation du dataset [ici](https://www.insee.fr/fr/statistiques/3555153#documentation)"
   ]
  },
  {
   "cell_type": "markdown",
   "metadata": {
    "colab_type": "text",
    "id": "Ovsu2EqEcBO9"
   },
   "source": [
    "* Allez sur le lien suivant : [Dataset](https://www.insee.fr/fr/statistiques/3555153#consulter) et téléchargez le petit dataset de 9Mo. \n",
    "\n",
    "* En utilisant la commande `!unzip filename.zip` dézippez le fichier que vous avez téléchargé "
   ]
  },
  {
   "cell_type": "code",
   "execution_count": 1,
   "metadata": {},
   "outputs": [
    {
     "data": {
      "text/plain": [
       "<zipfile.ZipFile filename='C:\\\\Users\\\\utilisateur\\\\Documents\\\\jupyter\\\\Comprendre le chômage en France_Matplolib\\\\fd_eec17_dbase.zip' mode='r'>"
      ]
     },
     "execution_count": 1,
     "metadata": {},
     "output_type": "execute_result"
    }
   ],
   "source": [
    "from zipfile import ZipFile\n",
    "ZipFile(\"C:\\\\Users\\\\utilisateur\\\\Documents\\\\jupyter\\\\Comprendre le chômage en France_Matplolib\\\\fd_eec17_dbase.zip\")"
   ]
  },
  {
   "cell_type": "markdown",
   "metadata": {
    "colab_type": "text",
    "id": "s77X1TKKcW3s"
   },
   "source": [
    "* Importez les librairies \n",
    "  * pandas \n",
    "  * numpy "
   ]
  },
  {
   "cell_type": "code",
   "execution_count": 2,
   "metadata": {
    "colab": {},
    "colab_type": "code",
    "id": "UVrfg-b9QkfB"
   },
   "outputs": [],
   "source": [
    "import pandas as pd \n",
    "import numpy as np"
   ]
  },
  {
   "cell_type": "markdown",
   "metadata": {
    "colab_type": "text",
    "id": "NWOuJ-zCcbcT"
   },
   "source": [
    "* Nous allons avoir besoin d'installer une librairie sur notre notebook pour pouvoir lire les fichiers. Utilisez la commande suivante : \n",
    "\n",
    "`!pip install simpledbf`"
   ]
  },
  {
   "cell_type": "code",
   "execution_count": 3,
   "metadata": {
    "colab": {
     "base_uri": "https://localhost:8080/",
     "height": 188
    },
    "colab_type": "code",
    "id": "elOxqN4eQ-MV",
    "outputId": "38a4d491-362a-4e7a-9e86-18b9aa574ff7"
   },
   "outputs": [
    {
     "name": "stdout",
     "output_type": "stream",
     "text": [
      "Requirement already satisfied: simpledbf in c:\\users\\utilisateur\\anaconda3\\lib\\site-packages (0.2.6)\n"
     ]
    }
   ],
   "source": [
    "!pip install simpledbf"
   ]
  },
  {
   "cell_type": "markdown",
   "metadata": {
    "colab_type": "text",
    "id": "b3PGutLIcnZQ"
   },
   "source": [
    "* Appliquez ensuite le code suivant : \n",
    "\n",
    "```\n",
    "from simpledbf import Dbf5\n",
    "dataset = Dbf5(\"fdeec17.dbf\").to_dataframe()\n",
    "dataset.head()\n",
    "```"
   ]
  },
  {
   "cell_type": "code",
   "execution_count": 4,
   "metadata": {
    "colab": {
     "base_uri": "https://localhost:8080/",
     "height": 244
    },
    "colab_type": "code",
    "id": "2gWkIascSXLy",
    "outputId": "d51afde2-695b-4fb1-9679-99bd8f88f840"
   },
   "outputs": [
    {
     "data": {
      "text/html": [
       "<div>\n",
       "<style scoped>\n",
       "    .dataframe tbody tr th:only-of-type {\n",
       "        vertical-align: middle;\n",
       "    }\n",
       "\n",
       "    .dataframe tbody tr th {\n",
       "        vertical-align: top;\n",
       "    }\n",
       "\n",
       "    .dataframe thead th {\n",
       "        text-align: right;\n",
       "    }\n",
       "</style>\n",
       "<table border=\"1\" class=\"dataframe\">\n",
       "  <thead>\n",
       "    <tr style=\"text-align: right;\">\n",
       "      <th></th>\n",
       "      <th>ANNEE</th>\n",
       "      <th>TRIM</th>\n",
       "      <th>CATAU2010R</th>\n",
       "      <th>METRODOM</th>\n",
       "      <th>TYPMEN7</th>\n",
       "      <th>AGE3</th>\n",
       "      <th>AGE5</th>\n",
       "      <th>COURED</th>\n",
       "      <th>ENFRED</th>\n",
       "      <th>NFRRED</th>\n",
       "      <th>...</th>\n",
       "      <th>DIP11</th>\n",
       "      <th>CSTOTPRM</th>\n",
       "      <th>IDENTM</th>\n",
       "      <th>EXTRIAN</th>\n",
       "      <th>EMPNBH</th>\n",
       "      <th>HREC</th>\n",
       "      <th>HHCE</th>\n",
       "      <th>HPLUSA</th>\n",
       "      <th>JOURTR</th>\n",
       "      <th>NBTOTE</th>\n",
       "    </tr>\n",
       "  </thead>\n",
       "  <tbody>\n",
       "    <tr>\n",
       "      <th>0</th>\n",
       "      <td>2017</td>\n",
       "      <td>1</td>\n",
       "      <td>1</td>\n",
       "      <td>1</td>\n",
       "      <td>2</td>\n",
       "      <td>50</td>\n",
       "      <td>50</td>\n",
       "      <td>2</td>\n",
       "      <td>1</td>\n",
       "      <td>1</td>\n",
       "      <td>...</td>\n",
       "      <td>30</td>\n",
       "      <td>52</td>\n",
       "      <td>1</td>\n",
       "      <td>263.388752</td>\n",
       "      <td>37.0</td>\n",
       "      <td>NaN</td>\n",
       "      <td>37.0</td>\n",
       "      <td>NaN</td>\n",
       "      <td>5.0</td>\n",
       "      <td>NaN</td>\n",
       "    </tr>\n",
       "    <tr>\n",
       "      <th>1</th>\n",
       "      <td>2017</td>\n",
       "      <td>1</td>\n",
       "      <td>1</td>\n",
       "      <td>1</td>\n",
       "      <td>2</td>\n",
       "      <td>15</td>\n",
       "      <td>15</td>\n",
       "      <td>2</td>\n",
       "      <td>2</td>\n",
       "      <td>1</td>\n",
       "      <td>...</td>\n",
       "      <td>42</td>\n",
       "      <td>52</td>\n",
       "      <td>1</td>\n",
       "      <td>263.388752</td>\n",
       "      <td>32.0</td>\n",
       "      <td>NaN</td>\n",
       "      <td>32.0</td>\n",
       "      <td>NaN</td>\n",
       "      <td>4.0</td>\n",
       "      <td>NaN</td>\n",
       "    </tr>\n",
       "    <tr>\n",
       "      <th>2</th>\n",
       "      <td>2017</td>\n",
       "      <td>1</td>\n",
       "      <td>1</td>\n",
       "      <td>1</td>\n",
       "      <td>2</td>\n",
       "      <td>15</td>\n",
       "      <td>15</td>\n",
       "      <td>2</td>\n",
       "      <td>2</td>\n",
       "      <td>1</td>\n",
       "      <td>...</td>\n",
       "      <td>31</td>\n",
       "      <td>52</td>\n",
       "      <td>1</td>\n",
       "      <td>263.388752</td>\n",
       "      <td>38.0</td>\n",
       "      <td>NaN</td>\n",
       "      <td>38.0</td>\n",
       "      <td>NaN</td>\n",
       "      <td>5.0</td>\n",
       "      <td>NaN</td>\n",
       "    </tr>\n",
       "    <tr>\n",
       "      <th>3</th>\n",
       "      <td>2017</td>\n",
       "      <td>3</td>\n",
       "      <td>1</td>\n",
       "      <td>1</td>\n",
       "      <td>2</td>\n",
       "      <td>50</td>\n",
       "      <td>50</td>\n",
       "      <td>2</td>\n",
       "      <td>1</td>\n",
       "      <td>1</td>\n",
       "      <td>...</td>\n",
       "      <td>30</td>\n",
       "      <td>52</td>\n",
       "      <td>2</td>\n",
       "      <td>176.893923</td>\n",
       "      <td>37.0</td>\n",
       "      <td>NaN</td>\n",
       "      <td>37.0</td>\n",
       "      <td>NaN</td>\n",
       "      <td>5.0</td>\n",
       "      <td>NaN</td>\n",
       "    </tr>\n",
       "    <tr>\n",
       "      <th>4</th>\n",
       "      <td>2017</td>\n",
       "      <td>3</td>\n",
       "      <td>1</td>\n",
       "      <td>1</td>\n",
       "      <td>2</td>\n",
       "      <td>15</td>\n",
       "      <td>15</td>\n",
       "      <td>2</td>\n",
       "      <td>2</td>\n",
       "      <td>1</td>\n",
       "      <td>...</td>\n",
       "      <td>42</td>\n",
       "      <td>52</td>\n",
       "      <td>2</td>\n",
       "      <td>176.893923</td>\n",
       "      <td>40.0</td>\n",
       "      <td>NaN</td>\n",
       "      <td>32.0</td>\n",
       "      <td>NaN</td>\n",
       "      <td>4.0</td>\n",
       "      <td>NaN</td>\n",
       "    </tr>\n",
       "  </tbody>\n",
       "</table>\n",
       "<p>5 rows × 125 columns</p>\n",
       "</div>"
      ],
      "text/plain": [
       "  ANNEE TRIM CATAU2010R METRODOM TYPMEN7 AGE3 AGE5 COURED ENFRED NFRRED  ...  \\\n",
       "0  2017    1          1        1       2   50   50      2      1      1  ...   \n",
       "1  2017    1          1        1       2   15   15      2      2      1  ...   \n",
       "2  2017    1          1        1       2   15   15      2      2      1  ...   \n",
       "3  2017    3          1        1       2   50   50      2      1      1  ...   \n",
       "4  2017    3          1        1       2   15   15      2      2      1  ...   \n",
       "\n",
       "  DIP11 CSTOTPRM IDENTM     EXTRIAN EMPNBH HREC  HHCE HPLUSA JOURTR NBTOTE  \n",
       "0    30       52      1  263.388752   37.0  NaN  37.0    NaN    5.0    NaN  \n",
       "1    42       52      1  263.388752   32.0  NaN  32.0    NaN    4.0    NaN  \n",
       "2    31       52      1  263.388752   38.0  NaN  38.0    NaN    5.0    NaN  \n",
       "3    30       52      2  176.893923   37.0  NaN  37.0    NaN    5.0    NaN  \n",
       "4    42       52      2  176.893923   40.0  NaN  32.0    NaN    4.0    NaN  \n",
       "\n",
       "[5 rows x 125 columns]"
      ]
     },
     "execution_count": 4,
     "metadata": {},
     "output_type": "execute_result"
    }
   ],
   "source": [
    "from simpledbf import Dbf5\n",
    "dataset = Dbf5(\"C:\\\\Users\\\\utilisateur\\\\Documents\\\\jupyter\\\\Comprendre le chômage en France_Matplolib\\\\fdeec17.dbf\").to_dataframe()\n",
    "dataset.head(5)"
   ]
  },
  {
   "cell_type": "markdown",
   "metadata": {
    "colab_type": "text",
    "id": "wAjJDo-0cxyM"
   },
   "source": [
    "* Importez `matplotlib`"
   ]
  },
  {
   "cell_type": "code",
   "execution_count": 5,
   "metadata": {
    "colab": {},
    "colab_type": "code",
    "id": "waDEF5_2U9bD"
   },
   "outputs": [],
   "source": [
    "import matplotlib.pyplot as plt"
   ]
  },
  {
   "cell_type": "markdown",
   "metadata": {
    "colab_type": "text",
    "id": "DhqXJDXCY49a"
   },
   "source": [
    "* En faisant un [pie-chart](https://matplotlib.org/3.1.1/api/_as_gen/matplotlib.pyplot.pie.html), montrez la part de chômeurs, d'inactifs et d'actifs occupés en France à partir de la variable ACTEU. Faites attention de faire apparaitre : \n",
    "\n",
    "  * Le pourcentage de chaque partie \n",
    "  * Une légende "
   ]
  },
  {
   "cell_type": "markdown",
   "metadata": {},
   "source": [
    "Pour cela nous allons renommer les catégories numériques afin d'avoir une légende plus parlante. Analyser la ligne de commande suivante et comprenez comment elle fonctionne."
   ]
  },
  {
   "cell_type": "code",
   "execution_count": 6,
   "metadata": {
    "colab": {},
    "colab_type": "code",
    "id": "4h1KGsteaRRO"
   },
   "outputs": [
    {
     "name": "stdout",
     "output_type": "stream",
     "text": [
      "Inactif         207520\n",
      "Actif Occupé    198054\n",
      "Chômeur          21864\n",
      "NAN               1204\n",
      "Name: ACTEU, dtype: int64\n"
     ]
    }
   ],
   "source": [
    "chomeurs = dataset.ACTEU.apply(lambda x: \n",
    "                               \"Actif Occupé\" if x==\"1\" \n",
    "                               else \"Chômeur\" if x == \"2\"\n",
    "                               else \"Inactif\" if x==\"3\" \n",
    "                               else \"NAN\")\n",
    "#Avec la fonction lambda on déroule la colonne ACTEU de notre base de donnée dataset et on applique des \"alias\" à chaque numéro \n",
    "#en fonction de la documentation\n",
    "\n",
    "chcount= chomeurs.value_counts()\n",
    "#On récupére une table avec les compte de la colonne ACTEU\n",
    "\n",
    "print(chcount)\n",
    "\n",
    "#J'ai pris le réflexe de print tout ce que je fais et plus globalement de découper au maximum mon travail. "
   ]
  },
  {
   "cell_type": "code",
   "execution_count": 7,
   "metadata": {
    "colab": {
     "base_uri": "https://localhost:8080/",
     "height": 101
    },
    "colab_type": "code",
    "id": "tZVEocaXZwVu",
    "outputId": "df63cf35-960b-4cfe-e915-573fc2236262"
   },
   "outputs": [
    {
     "data": {
      "image/png": "[encoded data removed]",
      "text/plain": [
       "<Figure size 432x288 with 1 Axes>"
      ]
     },
     "metadata": {},
     "output_type": "display_data"
    }
   ],
   "source": [
    "plt.pie(x=chomeurs.value_counts(), explode=(0.2,0.2,0.5,0.1), autopct=\"%1.1f%%\", shadow=True, startangle=90, radius=1.5)\n",
    "plt.legend(labels=chomeurs.value_counts().index, bbox_to_anchor=(1.7, 1.5))\n",
    "plt.show()"
   ]
  },
  {
   "cell_type": "code",
   "execution_count": null,
   "metadata": {
    "colab": {
     "base_uri": "https://localhost:8080/",
     "height": 360
    },
    "colab_type": "code",
    "id": "IQYfutZAY3nA",
    "outputId": "7062a4d2-441f-4405-f64b-d35e458d4718"
   },
   "outputs": [],
   "source": []
  },
  {
   "cell_type": "markdown",
   "metadata": {
    "colab_type": "text",
    "id": "WymEmd73g2Wi"
   },
   "source": [
    "---> Le chiffre du chômage semble bas et, si on regarde l'explication des *inactifs*, celle-ci semble inclure beaucoup de monde (étudiants, personne ne cherchant pas d'emploi etc.)"
   ]
  },
  {
   "cell_type": "markdown",
   "metadata": {
    "colab_type": "text",
    "id": "mX9t8VnQhCu0"
   },
   "source": [
    "* Faites le même graphique sur la variable ACTEU6 qui est plus précise sur le type d'actifs   \n",
    "Renommer les valeurs numériques :   \n",
    "    1 : Actif Occupé  \n",
    "    3 : Chômeur PSERE  \n",
    "    4 : Autre Chômeur BIT  \n",
    "    5 : Etudiant, élève, stagiaire en formation  \n",
    "    6 : Autres inactifs (dont retraité)  \n",
    "    "
   ]
  },
  {
   "cell_type": "code",
   "execution_count": 8,
   "metadata": {
    "colab": {},
    "colab_type": "code",
    "id": "2GvU42xLbQT0"
   },
   "outputs": [
    {
     "name": "stdout",
     "output_type": "stream",
     "text": [
      "Actif Occupé                               198054\n",
      "Autres inactifs (dont retraité)            172921\n",
      "Etudiant, élève, stagiaire en formation     34599\n",
      "Chômeur PSERE                               20854\n",
      "NAN                                          1204\n",
      "Autre chômeur BIT                            1010\n",
      "Name: ACTEU6, dtype: int64\n"
     ]
    }
   ],
   "source": [
    "#On reproduit la même fonction lambda que pour ACTEU mais avec une nouvelle colonne\n",
    "# ATTENTION avec vos variable pensezà recréer de nouvelles variables pour éviter d'écraser vos anciennes données.\n",
    "#Ici chomeurs6 (Et pas chomeurs). Celà est important quand vous devez rappeller des variables plus tard.\n",
    "chomeurs6 = dataset.ACTEU6.apply(lambda z: \n",
    "                               \"Actif Occupé\" if z==\"1\" \n",
    "                               else \"Chômeur PSERE\" if z == \"3\"\n",
    "                               else \"Autre chômeur BIT\" if z==\"4\" \n",
    "                               else \"Etudiant, élève, stagiaire en formation\" if z==\"5\"\n",
    "                               else \"Autres inactifs (dont retraité)\" if z==\"6\" \n",
    "                               else \"NAN\")\n",
    "chcount6= chomeurs6.value_counts()\n",
    "print(chcount6)\n",
    "#Encore une fois je vérifie tout ce que je fais en direct"
   ]
  },
  {
   "cell_type": "code",
   "execution_count": null,
   "metadata": {
    "colab": {
     "base_uri": "https://localhost:8080/",
     "height": 134
    },
    "colab_type": "code",
    "id": "2ndmQN-zjSzW",
    "outputId": "adc7479d-9eea-4648-8341-e8a9e6688980"
   },
   "outputs": [],
   "source": []
  },
  {
   "cell_type": "code",
   "execution_count": 9,
   "metadata": {},
   "outputs": [
    {
     "name": "stdout",
     "output_type": "stream",
     "text": [
      "0         Actif Occupé\n",
      "1         Actif Occupé\n",
      "2         Actif Occupé\n",
      "3         Actif Occupé\n",
      "4         Actif Occupé\n",
      "              ...     \n",
      "428637         Inactif\n",
      "428638         Inactif\n",
      "428639         Inactif\n",
      "428640         Inactif\n",
      "428641         Inactif\n",
      "Name: ACTEU, Length: 428642, dtype: object\n",
      "Inactif         207520\n",
      "Actif Occupé    198054\n",
      "Chômeur          21864\n",
      "NAN               1204\n",
      "Name: ACTEU, dtype: int64\n"
     ]
    }
   ],
   "source": [
    "#Attention ici justement si vous avez écraser la première variable sortie par le premier lambda car on va le réutiliser ici \n",
    "#Pour modifié le dataset directement\n",
    "dataset.ACTEU=chomeurs\n",
    "#Attention ici vous modifé directement la base de donnée et pouvez cassser votre code car chaque champs va être modifié par sa valeur\n",
    "#de chomage\n",
    "print(dataset.ACTEU)\n",
    "print(chcount)\n",
    "#On vérifie ce que ça fonctionne bien "
   ]
  },
  {
   "cell_type": "markdown",
   "metadata": {},
   "source": [
    "Regardez la documentation pour renommer les valeurs de la colonne ACTEU."
   ]
  },
  {
   "cell_type": "code",
   "execution_count": null,
   "metadata": {
    "colab": {
     "base_uri": "https://localhost:8080/",
     "height": 101
    },
    "colab_type": "code",
    "id": "mfFcPreepD0Z",
    "outputId": "fabe98cd-01c8-437f-ae11-9dab90c19b87"
   },
   "outputs": [],
   "source": []
  },
  {
   "cell_type": "markdown",
   "metadata": {
    "colab_type": "text",
    "id": "EZOe0bmqm8bq"
   },
   "source": [
    "* En créant un [stacked bar chart](https://pythonmatplotlibtips.blogspot.com/2018/11/normalized-stacked-barplot-number-percentage-python-matplotlib.html), comparez :\n",
    "\n",
    "  * le rapport *chômeurs* / *Actifs occupés* \n",
    "  * Le rapport *chômeurs* / *Actifs occupés + Inactifs*"
   ]
  },
  {
   "cell_type": "code",
   "execution_count": null,
   "metadata": {
    "colab": {
     "base_uri": "https://localhost:8080/",
     "height": 50
    },
    "colab_type": "code",
    "id": "acS4ybNVpP69",
    "outputId": "84aacd6e-a8e5-47a0-e11c-28295996d3bb"
   },
   "outputs": [],
   "source": []
  },
  {
   "cell_type": "code",
   "execution_count": 10,
   "metadata": {},
   "outputs": [
    {
     "name": "stdout",
     "output_type": "stream",
     "text": [
      "Rapports de chômeurs\n",
      " [0.11039413493289708, 0.05390878113488537]\n"
     ]
    }
   ],
   "source": [
    "\n",
    "#Ici on fait les rapports entre les valeurs indexé (0,1,2,3 ici) et on applique nos opérations demandé pour avoir rapport.\n",
    "#Oubliez pas le .value pour ne récupérer que la valeur numérique.\n",
    "#Le résultat récupéré est un pourcentage  \n",
    "#Je nomme mes valeurs numérique a et b (Attention au parenthése pour l'ordre des opérations.)\n",
    "\n",
    "#a = chômeur / actif occupé \n",
    "a = dataset[\"ACTEU\"].value_counts().values[2] / dataset[\"ACTEU\"].value_counts().values[1]\n",
    "#b = chômeur / actif occupé + inactif\n",
    "b = dataset[\"ACTEU\"].value_counts().values[2] / (dataset[\"ACTEU\"].value_counts().values[1] + dataset[\"ACTEU\"].value_counts().values[0])\n",
    "print(\"Rapports de chômeurs\\n\", [a, b])\n",
    "\n"
   ]
  },
  {
   "cell_type": "code",
   "execution_count": null,
   "metadata": {
    "colab": {
     "base_uri": "https://localhost:8080/",
     "height": 50
    },
    "colab_type": "code",
    "id": "vzJkrRXKuSFE",
    "outputId": "e8c6bff6-f34e-45e2-a918-1c548bf9c286"
   },
   "outputs": [],
   "source": []
  },
  {
   "cell_type": "code",
   "execution_count": 11,
   "metadata": {},
   "outputs": [
    {
     "name": "stdout",
     "output_type": "stream",
     "text": [
      "Rapports d'actifs\n",
      "[ 0.8896058650671029 ,  0.9460912188651146 ]\n"
     ]
    }
   ],
   "source": [
    "print(\"Rapports d'actifs\")\n",
    "# c et d sont les valeurs mirroir du pourcentage. (a+c=100% = 1 donc c=1-a)\n",
    "# Possible de recalculer avec les valeurs connus mais moins rapide. \n",
    "c=1-a\n",
    "d=1-b\n",
    "print(\"[\",c,\", \",d,\"]\")"
   ]
  },
  {
   "cell_type": "code",
   "execution_count": 12,
   "metadata": {
    "colab": {
     "base_uri": "https://localhost:8080/",
     "height": 34
    },
    "colab_type": "code",
    "id": "QEuOlrL-rP-3",
    "outputId": "4c52b85b-fed3-432a-ff5a-390bd1e01fa7"
   },
   "outputs": [],
   "source": [
    "#Pour la suite j'ai copier / Coller ce code tutorial pour visualiser et reproduire les barcharts.\n",
    "#Voici la source : https://pythonspot.com/matplotlib-bar-chart/\n",
    "\n",
    "#objects = ('Python', 'C++', 'Java', 'Perl', 'Scala', 'Lisp')\n",
    "#y_pos = np.arange(len(objects))\n",
    "#performance = [10,8,6,4,2,1]\n",
    "\n",
    "#plt.bar(y_pos, performance, align='center', alpha=0.5)\n",
    "#plt.xticks(y_pos, objects)\n",
    "#plt.ylabel('Usage')\n",
    "#plt.title('Programming language usage')"
   ]
  },
  {
   "cell_type": "code",
   "execution_count": 13,
   "metadata": {},
   "outputs": [
    {
     "data": {
      "text/plain": [
       "([<matplotlib.axis.XTick at 0x27a03595088>,\n",
       "  <matplotlib.axis.XTick at 0x27a0358a588>],\n",
       " <a list of 2 Text xticklabel objects>)"
      ]
     },
     "execution_count": 13,
     "metadata": {},
     "output_type": "execute_result"
    },
    {
     "data": {
      "image/png": "[encoded data removed]",
      "text/plain": [
       "<Figure size 432x288 with 1 Axes>"
      ]
     },
     "metadata": {
      "needs_background": "light"
     },
     "output_type": "display_data"
    }
   ],
   "source": [
    "#On commence par créer nos listes de valeurs alignés l'une par rapport à l'autre (a avec c et b avec d)\n",
    "#La raison est simple: comme on l'a dis plus haut a+c= 100% et b+d= 100% c'est ainsi qu'on aura les visuels en % que l'on souhaite\n",
    "listp=[a,b]\n",
    "listq=[c,d]\n",
    "\n",
    "#On fixe une liste de légendes ici on le fait à la mains on vera comment l'implémenter directement d'une liste...\n",
    "objects= (\"Chômeur / Actifs Occupés\",\"Chômeur / actif + Inactif\")\n",
    "#La fonction arange permet de fixer une valeurs d'inverval avec len pour autant de valeurs que la liste\n",
    "y_pos = np.arange(len(objects))\n",
    "#On appelle notre premier graphique en bar \n",
    "#Le premier argument est une valeur positionnelle généré par np.arange ici y_pos pour nous.\n",
    "#Le deuxième argument est une liste contenant nos valeur ici listp et listq\n",
    "#Les deux autres arguments sont optionel\n",
    "plt.bar(y_pos,listp, align='center', alpha=0.5)\n",
    "#Selon le même principe que pour le premier visuel on pose la seconde bar\n",
    "#Je vous invite à tester l'argument \"bottom\" avec des valeurs numérique pour comprendre son fonctionnement\n",
    "#Ici on fixe la valeur sur le premier graphique pour que notre deuxième graphique commence à la fin du premier.\n",
    "plt.bar(y_pos,listq, align='center', alpha=0.5, bottom=listp)\n",
    "#On pose enfin notre légendes sur la bar du bas.\n",
    "plt.xticks(y_pos, objects)"
   ]
  },
  {
   "cell_type": "code",
   "execution_count": 14,
   "metadata": {
    "colab": {
     "base_uri": "https://localhost:8080/",
     "height": 282
    },
    "colab_type": "code",
    "id": "HUs4NJTyh7Vo",
    "outputId": "001e9ec9-ade2-4f1b-e29e-39cc268b6c8b"
   },
   "outputs": [],
   "source": [
    "#Félicitation si vous êtes arrivé jusqu'ici vous avez presque terminé la suite de l'exercice constitue\n",
    "#une répétition de diverses formules que l'on a déjà utilisé dans cette exercice ou dans l'exercice Seaborn. \n",
    "#Si vous n'avez pas réussi le premier barplot je vous conseille d'essayer de faire la suite en appliquant tout ce que je vous ai \n",
    "#expliqué plus haut."
   ]
  },
  {
   "cell_type": "code",
   "execution_count": null,
   "metadata": {},
   "outputs": [],
   "source": []
  },
  {
   "cell_type": "markdown",
   "metadata": {
    "colab_type": "text",
    "id": "rjhLdoc9v6PM"
   },
   "source": [
    "Il semblerait que nous étions 11% de chômeurs parmi la population active (travailleuse) en France en 2017 selon le BIT"
   ]
  },
  {
   "cell_type": "markdown",
   "metadata": {
    "colab_type": "text",
    "id": "imCCe_2byFzg"
   },
   "source": [
    "* En créant à nouveau un [*bar chart*](https://matplotlib.org/3.1.1/api/_as_gen/matplotlib.pyplot.bar.html) , regardez cette fois la répartition de l'ancienneté du chômage. Le nom de la variable est ANCCHOM, regardez la documentation pour recoder la valeur de cette colonne."
   ]
  },
  {
   "cell_type": "code",
   "execution_count": 15,
   "metadata": {},
   "outputs": [
    {
     "name": "stdout",
     "output_type": "stream",
     "text": [
      "NAN                                 406904\n",
      "3 ans ou plus                         3906\n",
      "De 6 mois à moins d'un an             3648\n",
      "De 1 an à moins d'un an et demi       3398\n",
      "De 1 mois à moins de 3 mois           3270\n",
      "De 3 mois à moins de 6 mois           3193\n",
      "De 2 ans à moins de 3 ans             2289\n",
      "De 1 an et demi à moins de 2 ans      1132\n",
      "Moins d'un mois                        902\n",
      "Name: ANCCHOM, dtype: int64\n"
     ]
    }
   ],
   "source": [
    "\n",
    "#On commence par réapliquer notre fonction Lambda et value.counts pour vérifié.\n",
    "ancien= dataset.ANCCHOM.apply(lambda x: \"Moins d'un mois\" if x==\"1\"\n",
    "                                 else \"De 1 mois à moins de 3 mois \" if x == \"2\"\n",
    "                                 else \"De 3 mois à moins de 6 mois\" if x == \"3\"\n",
    "                                 else \"De 6 mois à moins d'un an\" if x==\"4\"\n",
    "                                 else \"De 1 an à moins d'un an et demi\" if x==\"5\"\n",
    "                                 else \"De 1 an et demi à moins de 2 ans\" if x==\"6\"\n",
    "                                 else \"De 2 ans à moins de 3 ans\" if x==\"7\"\n",
    "                                 else \"3 ans ou plus\" if x==\"8\"\n",
    "                                 else \"NAN\")\n",
    "chcountA= ancien.value_counts()\n",
    "print(chcountA)\n",
    "#On applique à notre dataset (Attention cela modifie notre base de donnée soyez sures de vos variables.)\n",
    "dataset[\"ANCCHOM\"]=ancien"
   ]
  },
  {
   "cell_type": "code",
   "execution_count": null,
   "metadata": {
    "colab": {
     "base_uri": "https://localhost:8080/",
     "height": 185
    },
    "colab_type": "code",
    "id": "LRVh9ARMojIJ",
    "outputId": "ac7ff50a-b846-4dd4-eb52-4cb66fb4f6f6"
   },
   "outputs": [],
   "source": []
  },
  {
   "cell_type": "code",
   "execution_count": 16,
   "metadata": {},
   "outputs": [
    {
     "name": "stdout",
     "output_type": "stream",
     "text": [
      "3 ans ou plus                       3906\n",
      "De 6 mois à moins d'un an           3648\n",
      "De 1 an à moins d'un an et demi     3398\n",
      "De 1 mois à moins de 3 mois         3270\n",
      "De 3 mois à moins de 6 mois         3193\n",
      "De 2 ans à moins de 3 ans           2289\n",
      "De 1 an et demi à moins de 2 ans    1132\n",
      "Moins d'un mois                      902\n",
      "Name: ANCCHOM, dtype: int64\n",
      "['3 ans ou plus', \"De 6 mois à moins d'un an\", \"De 1 an à moins d'un an et demi\", 'De 1 mois à moins de 3 mois ', 'De 3 mois à moins de 6 mois', 'De 2 ans à moins de 3 ans', 'De 1 an et demi à moins de 2 ans', \"Moins d'un mois\"]\n",
      "['3 ans ou plus', \"De 6 mois à moins d'un an\", \"De 1 an à moins d'un an et demi\", 'De 1 mois à moins de 3 mois ', 'De 3 mois à moins de 6 mois', 'De 2 ans à moins de 3 ans', 'De 1 an et demi à moins de 2 ans', \"Moins d'un mois\"]\n"
     ]
    },
    {
     "data": {
      "text/plain": [
       "(array([   0.,  500., 1000., 1500., 2000., 2500., 3000., 3500., 4000.,\n",
       "        4500.]),\n",
       " <a list of 10 Text yticklabel objects>)"
      ]
     },
     "execution_count": 16,
     "metadata": {},
     "output_type": "execute_result"
    },
    {
     "data": {
      "image/png": "[encoded data removed]",
      "text/plain": [
       "<Figure size 1296x252 with 1 Axes>"
      ]
     },
     "metadata": {
      "needs_background": "light"
     },
     "output_type": "display_data"
    }
   ],
   "source": [
    "#Ici les solutions sont multiples pour ma part je fais le choix de créer un nouveau dataset comme dans l'exercice Seaborn\n",
    "#J'utilise la fonction query qui me permet d'appliquer un filtre différent de \"NAN\" sur notre colonne.\n",
    "dataset_2=dataset.query('ANCCHOM != \"NAN\"')\n",
    "\n",
    "#Je test\n",
    "chcount2= dataset_2['ANCCHOM'].value_counts()\n",
    "print(chcount2)\n",
    "\n",
    "#Ici deux mannière de stocké notre légende dans une variable liste. Les deux fonctionnes et reviennent exactement au même \n",
    "#Le .index.tolist permet de stocker notre index de chcount2 dans une variable liste.\n",
    "bar2= dataset_2['ANCCHOM'].value_counts().index.tolist()\n",
    "bar= chcount2.index.tolist()\n",
    "print(bar)\n",
    "print(bar2)\n",
    "\n",
    "# On répéte encore une fois les étapes pour créer un barplot avec bar comme variable object pour y_pos\n",
    "y_pos= np.arange(len(bar)) \n",
    "plt.figure(figsize=(18,3.5))\n",
    "listo=np.arange(len(bar))\n",
    "valeur=chcount2.values\n",
    "plt.bar(y_pos, valeur, align='center', alpha= 0.5)\n",
    "\n",
    "plt.xticks(y_pos, bar, fontsize=7)\n",
    "plt.yticks(fontsize=7)"
   ]
  },
  {
   "cell_type": "code",
   "execution_count": null,
   "metadata": {
    "colab": {
     "base_uri": "https://localhost:8080/",
     "height": 360
    },
    "colab_type": "code",
    "id": "VBK072x20tcu",
    "outputId": "e528187c-bf18-44f9-f3c3-d60b735ea6ae"
   },
   "outputs": [],
   "source": []
  },
  {
   "cell_type": "markdown",
   "metadata": {
    "colab_type": "text",
    "id": "SOZ0dz4k2tMY"
   },
   "source": [
    "* La répartition se voit assez mal sur le *bar chart*, tentez de le refaire sur un *pie chart* "
   ]
  },
  {
   "cell_type": "code",
   "execution_count": 17,
   "metadata": {},
   "outputs": [
    {
     "data": {
      "text/plain": [
       "([<matplotlib.patches.Wedge at 0x27a039dee48>,\n",
       "  <matplotlib.patches.Wedge at 0x27a039ea748>,\n",
       "  <matplotlib.patches.Wedge at 0x27a039f6b88>,\n",
       "  <matplotlib.patches.Wedge at 0x27a03a04888>,\n",
       "  <matplotlib.patches.Wedge at 0x27a03a1ea88>,\n",
       "  <matplotlib.patches.Wedge at 0x27a03a33e08>,\n",
       "  <matplotlib.patches.Wedge at 0x27a03a46088>,\n",
       "  <matplotlib.patches.Wedge at 0x27a03a5b6c8>],\n",
       " [Text(-1.1769821471310258, 1.85868583287624, ''),\n",
       "  Text(-2.1919801919923554, -0.1876774837671174, ''),\n",
       "  Text(-0.9906400714278336, -1.964340156103687, ''),\n",
       "  Text(1.0481142952202893, -1.9342844734306475, ''),\n",
       "  Text(2.178418301951003, -0.30739827866289193, ''),\n",
       "  Text(1.7486143248167, 1.3350460452905126, ''),\n",
       "  Text(0.9057287004497171, 2.004907858526588, ''),\n",
       "  Text(0.2859756341558149, 2.1813339810008876, '')],\n",
       " [Text(-0.6419902620714685, 1.0138286361143125, '18.0%'),\n",
       "  Text(-1.1956255592685574, -0.10236953660024585, '16.8%'),\n",
       "  Text(-0.5403491298697274, -1.0714582669656474, '15.6%'),\n",
       "  Text(0.5716987064837942, -1.0550642582348986, '15.0%'),\n",
       "  Text(1.188228164700547, -0.1676717883615774, '14.7%'),\n",
       "  Text(0.9537896317182, 0.7282069337948249, '10.5%'),\n",
       "  Text(0.4940338366089365, 1.093586104650866, '5.2%'),\n",
       "  Text(0.15598670953953536, 1.189818535091393, '4.1%')])"
      ]
     },
     "execution_count": 17,
     "metadata": {},
     "output_type": "execute_result"
    },
    {
     "data": {
      "image/png": "[encoded data removed]",
      "text/plain": [
       "<Figure size 432x288 with 1 Axes>"
      ]
     },
     "metadata": {},
     "output_type": "display_data"
    }
   ],
   "source": [
    "#On créait un nouveau pieplot beaucoup plus classique que les autres d'ailleurs. \n",
    "plt.pie(x= chcount2, startangle=90, shadow=True, radius=2, autopct=\"%1.1f%%\")"
   ]
  },
  {
   "cell_type": "code",
   "execution_count": null,
   "metadata": {
    "colab": {
     "base_uri": "https://localhost:8080/",
     "height": 442
    },
    "colab_type": "code",
    "id": "MA-ApYQu1CK5",
    "outputId": "870a31e2-e2ab-4963-a83a-9a1987450333"
   },
   "outputs": [],
   "source": []
  },
  {
   "cell_type": "markdown",
   "metadata": {
    "colab_type": "text",
    "id": "8LIfy88y5cnO"
   },
   "source": [
    "* Il serait intéressant de voir la répartition des personnes inscrites à Pôle Emploi ou dans un organisme de placement parmi ces personnes au chômage. Regardez cette répartition grâce à la colonne CONTACT \n",
    "  * Enlevez directement les NaN de votre graphique"
   ]
  },
  {
   "cell_type": "code",
   "execution_count": 18,
   "metadata": {},
   "outputs": [
    {
     "name": "stdout",
     "output_type": "stream",
     "text": [
      "NAN    399514\n",
      "Non     15984\n",
      "Oui     13144\n",
      "Name: CONTACT, dtype: int64\n"
     ]
    }
   ],
   "source": [
    "#Retour à une fonction Lambda\n",
    "inscrit= dataset.CONTACT.apply(lambda x: \"Oui\" if x==\"1\"\n",
    "                                           else \"Non\" if x == \"2\"\n",
    "                                           else \"NAN\")\n",
    "#On retest (Encore)\n",
    "chcoi= inscrit.value_counts()\n",
    "print(chcoi)"
   ]
  },
  {
   "cell_type": "code",
   "execution_count": 19,
   "metadata": {
    "colab": {
     "base_uri": "https://localhost:8080/",
     "height": 84
    },
    "colab_type": "code",
    "id": "Xviz1js24gOu",
    "outputId": "35944ab1-45f6-4066-d11b-aec3bdb9c5fb"
   },
   "outputs": [
    {
     "name": "stdout",
     "output_type": "stream",
     "text": [
      "('Non', 'Oui')\n",
      "[15984, 13144]\n"
     ]
    },
    {
     "data": {
      "text/plain": [
       "Text(0.5, 1.0, 'inscription dans un organisme de placement')"
      ]
     },
     "execution_count": 19,
     "metadata": {},
     "output_type": "execute_result"
    },
    {
     "data": {
      "image/png": "[encoded data removed]",
      "text/plain": [
       "<Figure size 432x288 with 1 Axes>"
      ]
     },
     "metadata": {
      "needs_background": "light"
     },
     "output_type": "display_data"
    }
   ],
   "source": [
    "#Ici on doit pouvoir automatisé voir créer une nouvelle base comme dans le barplot précédent étant donné que l'on a que\n",
    "#Deux donné je me suis contenté de faire le processus manuellement \n",
    "\n",
    "bar= ('Non', 'Oui')\n",
    "y_pose= np.arange(len(bar))\n",
    "\n",
    "#Petite subtilité ici je récupére seulement les données qui m'intéresse grace à l'index (Voir exercice avec les rapports)\n",
    "count= [dataset[\"CONTACT\"].value_counts().values[0],dataset[\"CONTACT\"].value_counts().values[1]]\n",
    "print(bar)\n",
    "print(count)\n",
    "plt.bar(y_pose, count, align=\"center\", alpha=0.5)\n",
    "plt.xticks(y_pose, bar)\n",
    "#On rajoute un titre\n",
    "plt.title('inscription dans un organisme de placement')"
   ]
  },
  {
   "cell_type": "code",
   "execution_count": null,
   "metadata": {
    "colab": {
     "base_uri": "https://localhost:8080/",
     "height": 281
    },
    "colab_type": "code",
    "id": "QfwY4DH26QCV",
    "outputId": "53449a02-0d28-47bd-fc0b-814ca207716a"
   },
   "outputs": [],
   "source": []
  },
  {
   "cell_type": "markdown",
   "metadata": {
    "colab_type": "text",
    "id": "SizUWI_f7pgw"
   },
   "source": [
    "* Regardons ce qui pousse les français à changer d'emploi, grâce à la colonne CREACCP, crééz un bar chart horizontale qui va permettre de connaitre les principales raisons de changement d'emploi des français. "
   ]
  },
  {
   "cell_type": "code",
   "execution_count": 20,
   "metadata": {
    "colab": {
     "base_uri": "https://localhost:8080/",
     "height": 272
    },
    "colab_type": "code",
    "id": "XtoXCk5r6jcD",
    "outputId": "855149ef-01f3-4f65-f99c-77ade8b43025"
   },
   "outputs": [
    {
     "name": "stdout",
     "output_type": "stream",
     "text": [
      "Doit ou veut déménager                                                                   216\n",
      "Veut s'installer à son compte                                                            354\n",
      "Désire diminuer son temps de transport                                                   598\n",
      "Désire un travail avec un rythme horaire plus adapté ou plus modulable                  1102\n",
      "Trouve l'ambiance de travail mauvaise, les relations de travail conflictuelles          1223\n",
      "Veut changer de métier ou de secteur                                                    1392\n",
      "Veut travailler plus d'heures                                                           1404\n",
      "Risque de perdre ou va perdre son emploi actuel (y compris fin de contrats courts)      1582\n",
      "Désire des conditions de travail moins pénibles ou plus adaptées à sa santé             1820\n",
      "Veut un emploi plus stable (CDI)                                                        2462\n",
      "Désire un emploi plus intéressant                                                       2779\n",
      "Désire augmenter ses revenus                                                            6775\n",
      "NAN                                                                                   406935\n",
      "Name: CREACCP, dtype: int64\n"
     ]
    }
   ],
   "source": [
    "#On utilise une fonction lambda\n",
    "\n",
    "raison = dataset.CREACCP.apply(lambda x: \"Risque de perdre ou va perdre son emploi actuel (y compris fin de contrats courts)\" if x==\"1\"\n",
    "                                           else \"Désire un emploi plus intéressant\" if x == \"2\"\n",
    "                                           else \"Veut un emploi plus stable (CDI)\" if x == \"3\"\n",
    "                                           else \"Veut travailler plus d'heures\" if x==\"4\"\n",
    "                                           else \"Désire un travail avec un rythme horaire plus adapté ou plus modulable\" if x==\"5\"\n",
    "                                           else \"Désire des conditions de travail moins pénibles ou plus adaptées à sa santé\" if x==\"6\"\n",
    "                                           else \"Désire augmenter ses revenus\" if x==\"7\"\n",
    "                                           else \"Désire diminuer son temps de transport\" if x==\"8\"\n",
    "                                           else \"Doit ou veut déménager\" if x==\"9\"\n",
    "                                           else \"Veut s'installer à son compte\" if x==\"10\"\n",
    "                                           else \"Veut changer de métier ou de secteur\" if x==\"11\"\n",
    "                                           else \"Trouve l'ambiance de travail mauvaise, les relations de travail conflictuelles\" if x==\"12\"\n",
    "                                           else \"NAN\")\n",
    "dataset.CREACCP=raison\n",
    "# ascending permet d'appliquer un tri sur nos données de value_count.\n",
    "chrai= raison.value_counts(ascending=True)\n",
    "print(chrai)"
   ]
  },
  {
   "cell_type": "code",
   "execution_count": 21,
   "metadata": {
    "colab": {
     "base_uri": "https://localhost:8080/"
    },
    "colab_type": "code",
    "id": "lC71A0zC890B",
    "outputId": "24046306-44c2-4dd1-fa10-7a3350d5cfc4"
   },
   "outputs": [
    {
     "name": "stdout",
     "output_type": "stream",
     "text": [
      "Doit ou veut déménager                                                                 216\n",
      "Veut s'installer à son compte                                                          354\n",
      "Désire diminuer son temps de transport                                                 598\n",
      "Désire un travail avec un rythme horaire plus adapté ou plus modulable                1102\n",
      "Trouve l'ambiance de travail mauvaise, les relations de travail conflictuelles        1223\n",
      "Veut changer de métier ou de secteur                                                  1392\n",
      "Veut travailler plus d'heures                                                         1404\n",
      "Risque de perdre ou va perdre son emploi actuel (y compris fin de contrats courts)    1582\n",
      "Désire des conditions de travail moins pénibles ou plus adaptées à sa santé           1820\n",
      "Veut un emploi plus stable (CDI)                                                      2462\n",
      "Désire un emploi plus intéressant                                                     2779\n",
      "Désire augmenter ses revenus                                                          6775\n",
      "Name: CREACCP, dtype: int64\n"
     ]
    }
   ],
   "source": [
    "#On créait un nouveau dataset excluant les NAN\n",
    "dataset_3=dataset.query(\"CREACCP!='NAN'\")\n",
    "\n",
    "chrai3=dataset_3.CREACCP.value_counts(ascending=True)\n",
    "print(chrai3)"
   ]
  },
  {
   "cell_type": "code",
   "execution_count": 22,
   "metadata": {
    "colab": {
     "base_uri": "https://localhost:8080/",
     "height": 34
    },
    "colab_type": "code",
    "id": "fMlBDKUr-m-W",
    "outputId": "2ade27f7-5a0f-4b57-8c9d-c152cf54a27c"
   },
   "outputs": [
    {
     "name": "stdout",
     "output_type": "stream",
     "text": [
      "[ 1.    1.63  2.75  5.08  5.63  6.41  6.47  7.29  8.38 11.34 12.8  31.21]\n"
     ]
    }
   ],
   "source": [
    "\n",
    "#On créer une liste de valeur \n",
    "#normalize permet de normaliser les valeurs : on divise chaque valeurs par le total de données \n",
    "#Celà créait des valeurs allant de 0 à 1 dont le total est égale à 1\n",
    "#on obtient un pourcentage et en multipliant le tout par 100 on récupére des valeurs facilements lisibles.\n",
    "prct=dataset_3[\"CREACCP\"].value_counts(ascending= True, normalize= True).values * 100\n",
    "\n",
    "#On arrondit les pourcentages\n",
    "prct=prct.round(2)\n",
    "print(prct)"
   ]
  },
  {
   "cell_type": "code",
   "execution_count": 23,
   "metadata": {
    "colab": {
     "base_uri": "https://localhost:8080/",
     "height": 316
    },
    "colab_type": "code",
    "id": "I3j4qraB-9GU",
    "outputId": "8bfd741f-fe00-465b-df6c-2b6b5ea15512"
   },
   "outputs": [
    {
     "data": {
      "image/png": "[encoded data removed]",
      "text/plain": [
       "<Figure size 439.2x288 with 1 Axes>"
      ]
     },
     "metadata": {
      "needs_background": "light"
     },
     "output_type": "display_data"
    }
   ],
   "source": [
    "\n",
    "#On créer un nouveau barchart mais cette fois horizontal. \n",
    "#Un bar classique mais avec barh. \n",
    "#On stock l'index dans une variable\n",
    "labels = chrai3.index\n",
    "#Et on créer notre interval avec arange. \n",
    "y_pos = np.arange(len(chrai3))\n",
    "\n",
    "#Taille de la figure \n",
    "plt.figure(figsize=(6.1,4))\n",
    "#On argument notre barh\n",
    "plt.barh(y_pos, prct, align='center', alpha=0.5, tick_label=prct)\n",
    "#plt.xticks((0, 5, 10, 15, 20, 25, 30), prct)\n",
    "#Le Xticks est généré tout seul.\n",
    "plt.yticks(y_pos, labels)\n",
    "plt.xlabel(\"Répartition en pourcentage\")\n",
    "plt.title(\"Classement des raisons pour lesquelles les français veulent changer d'emploi\")\n",
    "\n",
    "#Petite boucle pour généré les textes des bars \n",
    "for index, value in enumerate(prct):\n",
    "    plt.text(value, index, str(value))\n",
    "    \n",
    "plt.show()"
   ]
  },
  {
   "cell_type": "code",
   "execution_count": null,
   "metadata": {},
   "outputs": [],
   "source": []
  }
 ],
 "metadata": {
  "colab": {
   "collapsed_sections": [],
   "name": "Comprendre le chômage en France - Exercice.ipynb",
   "provenance": [],
   "version": "0.3.2"
  },
  "kernelspec": {
   "display_name": "Python 3",
   "language": "python",
   "name": "python3"
  },
  "language_info": {
   "codemirror_mode": {
    "name": "ipython",
    "version": 3
   },
   "file_extension": ".py",
   "mimetype": "text/x-python",
   "name": "python",
   "nbconvert_exporter": "python",
   "pygments_lexer": "ipython3",
   "version": "3.7.6"
  }
 },
 "nbformat": 4,
 "nbformat_minor": 1
}
