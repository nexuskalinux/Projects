{
 "cells": [
  {
   "cell_type": "markdown",
   "metadata": {
    "colab_type": "text",
    "id": "ZwEXvTBHQpTz"
   },
   "source": [
    "# Comprendre le chômage en France \n",
    "\n",
    "Vous êtes vous déjà demandé d'où sortaient les chiffres qu'annoncent les politiques ou les media lorsqu'ils parlent de chômage. Etant un sujet d'intérêt dans les pays occidents, tentons de comprendre ce qu'ils se passent en termes de chômages en France. Pour cela, nous avons récupéré des données sur [data.gouv](https://www.insee.fr/fr/statistiques/3555153#consulter). Elles représentent les données du chômage en France en 2017\n",
    "\n"
   ]
  },
  {
   "cell_type": "markdown",
   "metadata": {
    "colab_type": "text",
    "id": "0Y97GFc4QzSX"
   },
   "source": [
    "## Documentation du dataset \n",
    "\n",
    "Regarder la documentation du dataset [ici](https://www.insee.fr/fr/statistiques/3555153#documentation)"
   ]
  },
  {
   "cell_type": "markdown",
   "metadata": {
    "colab_type": "text",
    "id": "Ovsu2EqEcBO9"
   },
   "source": [
    "* Allez sur le lien suivant : [Dataset](https://www.insee.fr/fr/statistiques/3555153#consulter) et téléchargez le petit dataset de 9Mo. \n",
    "\n",
    "* En utilisant la commande `!unzip filename.zip` dézippez le fichier que vous avez téléchargé "
   ]
  },
  {
   "cell_type": "code",
   "execution_count": 1,
   "metadata": {},
   "outputs": [],
   "source": [
    "from zipfile import ZipFile\n",
    "#ZipFile(\"./fd_eec17_dbase.zip\")"
   ]
  },
  {
   "cell_type": "markdown",
   "metadata": {
    "colab_type": "text",
    "id": "s77X1TKKcW3s"
   },
   "source": [
    "* Importez les librairies \n",
    "  * pandas \n",
    "  * numpy "
   ]
  },
  {
   "cell_type": "code",
   "execution_count": 2,
   "metadata": {
    "colab": {},
    "colab_type": "code",
    "id": "UVrfg-b9QkfB"
   },
   "outputs": [],
   "source": [
    "import pandas as pd \n",
    "import numpy as np"
   ]
  },
  {
   "cell_type": "markdown",
   "metadata": {
    "colab_type": "text",
    "id": "NWOuJ-zCcbcT"
   },
   "source": [
    "* Nous allons avoir besoin d'installer une librairie sur notre notebook pour pouvoir lire les fichiers. Utilisez la commande suivante : \n",
    "\n",
    "`!pip install simpledbf`"
   ]
  },
  {
   "cell_type": "code",
   "execution_count": 3,
   "metadata": {
    "colab": {
     "base_uri": "https://localhost:8080/",
     "height": 188
    },
    "colab_type": "code",
    "id": "elOxqN4eQ-MV",
    "outputId": "38a4d491-362a-4e7a-9e86-18b9aa574ff7"
   },
   "outputs": [],
   "source": [
    "#!pip install simpledbf"
   ]
  },
  {
   "cell_type": "markdown",
   "metadata": {
    "colab_type": "text",
    "id": "b3PGutLIcnZQ"
   },
   "source": [
    "* Appliquez ensuite le code suivant : \n",
    "\n",
    "```\n",
    "from simpledbf import Dbf5\n",
    "dataset = Dbf5(\"fdeec17.dbf\").to_dataframe()\n",
    "dataset.head()\n",
    "```"
   ]
  },
  {
   "cell_type": "code",
   "execution_count": 4,
   "metadata": {
    "colab": {
     "base_uri": "https://localhost:8080/",
     "height": 244
    },
    "colab_type": "code",
    "id": "2gWkIascSXLy",
    "outputId": "d51afde2-695b-4fb1-9679-99bd8f88f840"
   },
   "outputs": [
    {
     "data": {
      "text/html": [
       "<div>\n",
       "<style scoped>\n",
       "    .dataframe tbody tr th:only-of-type {\n",
       "        vertical-align: middle;\n",
       "    }\n",
       "\n",
       "    .dataframe tbody tr th {\n",
       "        vertical-align: top;\n",
       "    }\n",
       "\n",
       "    .dataframe thead th {\n",
       "        text-align: right;\n",
       "    }\n",
       "</style>\n",
       "<table border=\"1\" class=\"dataframe\">\n",
       "  <thead>\n",
       "    <tr style=\"text-align: right;\">\n",
       "      <th></th>\n",
       "      <th>ANNEE</th>\n",
       "      <th>TRIM</th>\n",
       "      <th>CATAU2010R</th>\n",
       "      <th>METRODOM</th>\n",
       "      <th>TYPMEN7</th>\n",
       "      <th>AGE3</th>\n",
       "      <th>AGE5</th>\n",
       "      <th>COURED</th>\n",
       "      <th>ENFRED</th>\n",
       "      <th>NFRRED</th>\n",
       "      <th>...</th>\n",
       "      <th>DIP11</th>\n",
       "      <th>CSTOTPRM</th>\n",
       "      <th>IDENTM</th>\n",
       "      <th>EXTRIAN</th>\n",
       "      <th>EMPNBH</th>\n",
       "      <th>HREC</th>\n",
       "      <th>HHCE</th>\n",
       "      <th>HPLUSA</th>\n",
       "      <th>JOURTR</th>\n",
       "      <th>NBTOTE</th>\n",
       "    </tr>\n",
       "  </thead>\n",
       "  <tbody>\n",
       "    <tr>\n",
       "      <th>0</th>\n",
       "      <td>2017</td>\n",
       "      <td>1</td>\n",
       "      <td>1</td>\n",
       "      <td>1</td>\n",
       "      <td>2</td>\n",
       "      <td>50</td>\n",
       "      <td>50</td>\n",
       "      <td>2</td>\n",
       "      <td>1</td>\n",
       "      <td>1</td>\n",
       "      <td>...</td>\n",
       "      <td>30</td>\n",
       "      <td>52</td>\n",
       "      <td>1</td>\n",
       "      <td>263.388752</td>\n",
       "      <td>37.0</td>\n",
       "      <td>NaN</td>\n",
       "      <td>37.0</td>\n",
       "      <td>NaN</td>\n",
       "      <td>5.0</td>\n",
       "      <td>NaN</td>\n",
       "    </tr>\n",
       "    <tr>\n",
       "      <th>1</th>\n",
       "      <td>2017</td>\n",
       "      <td>1</td>\n",
       "      <td>1</td>\n",
       "      <td>1</td>\n",
       "      <td>2</td>\n",
       "      <td>15</td>\n",
       "      <td>15</td>\n",
       "      <td>2</td>\n",
       "      <td>2</td>\n",
       "      <td>1</td>\n",
       "      <td>...</td>\n",
       "      <td>42</td>\n",
       "      <td>52</td>\n",
       "      <td>1</td>\n",
       "      <td>263.388752</td>\n",
       "      <td>32.0</td>\n",
       "      <td>NaN</td>\n",
       "      <td>32.0</td>\n",
       "      <td>NaN</td>\n",
       "      <td>4.0</td>\n",
       "      <td>NaN</td>\n",
       "    </tr>\n",
       "    <tr>\n",
       "      <th>2</th>\n",
       "      <td>2017</td>\n",
       "      <td>1</td>\n",
       "      <td>1</td>\n",
       "      <td>1</td>\n",
       "      <td>2</td>\n",
       "      <td>15</td>\n",
       "      <td>15</td>\n",
       "      <td>2</td>\n",
       "      <td>2</td>\n",
       "      <td>1</td>\n",
       "      <td>...</td>\n",
       "      <td>31</td>\n",
       "      <td>52</td>\n",
       "      <td>1</td>\n",
       "      <td>263.388752</td>\n",
       "      <td>38.0</td>\n",
       "      <td>NaN</td>\n",
       "      <td>38.0</td>\n",
       "      <td>NaN</td>\n",
       "      <td>5.0</td>\n",
       "      <td>NaN</td>\n",
       "    </tr>\n",
       "    <tr>\n",
       "      <th>3</th>\n",
       "      <td>2017</td>\n",
       "      <td>3</td>\n",
       "      <td>1</td>\n",
       "      <td>1</td>\n",
       "      <td>2</td>\n",
       "      <td>50</td>\n",
       "      <td>50</td>\n",
       "      <td>2</td>\n",
       "      <td>1</td>\n",
       "      <td>1</td>\n",
       "      <td>...</td>\n",
       "      <td>30</td>\n",
       "      <td>52</td>\n",
       "      <td>2</td>\n",
       "      <td>176.893923</td>\n",
       "      <td>37.0</td>\n",
       "      <td>NaN</td>\n",
       "      <td>37.0</td>\n",
       "      <td>NaN</td>\n",
       "      <td>5.0</td>\n",
       "      <td>NaN</td>\n",
       "    </tr>\n",
       "    <tr>\n",
       "      <th>4</th>\n",
       "      <td>2017</td>\n",
       "      <td>3</td>\n",
       "      <td>1</td>\n",
       "      <td>1</td>\n",
       "      <td>2</td>\n",
       "      <td>15</td>\n",
       "      <td>15</td>\n",
       "      <td>2</td>\n",
       "      <td>2</td>\n",
       "      <td>1</td>\n",
       "      <td>...</td>\n",
       "      <td>42</td>\n",
       "      <td>52</td>\n",
       "      <td>2</td>\n",
       "      <td>176.893923</td>\n",
       "      <td>40.0</td>\n",
       "      <td>NaN</td>\n",
       "      <td>32.0</td>\n",
       "      <td>NaN</td>\n",
       "      <td>4.0</td>\n",
       "      <td>NaN</td>\n",
       "    </tr>\n",
       "  </tbody>\n",
       "</table>\n",
       "<p>5 rows × 125 columns</p>\n",
       "</div>"
      ],
      "text/plain": [
       "  ANNEE TRIM CATAU2010R METRODOM TYPMEN7 AGE3 AGE5 COURED ENFRED NFRRED  ...  \\\n",
       "0  2017    1          1        1       2   50   50      2      1      1  ...   \n",
       "1  2017    1          1        1       2   15   15      2      2      1  ...   \n",
       "2  2017    1          1        1       2   15   15      2      2      1  ...   \n",
       "3  2017    3          1        1       2   50   50      2      1      1  ...   \n",
       "4  2017    3          1        1       2   15   15      2      2      1  ...   \n",
       "\n",
       "  DIP11 CSTOTPRM IDENTM     EXTRIAN EMPNBH HREC  HHCE HPLUSA JOURTR NBTOTE  \n",
       "0    30       52      1  263.388752   37.0  NaN  37.0    NaN    5.0    NaN  \n",
       "1    42       52      1  263.388752   32.0  NaN  32.0    NaN    4.0    NaN  \n",
       "2    31       52      1  263.388752   38.0  NaN  38.0    NaN    5.0    NaN  \n",
       "3    30       52      2  176.893923   37.0  NaN  37.0    NaN    5.0    NaN  \n",
       "4    42       52      2  176.893923   40.0  NaN  32.0    NaN    4.0    NaN  \n",
       "\n",
       "[5 rows x 125 columns]"
      ]
     },
     "execution_count": 4,
     "metadata": {},
     "output_type": "execute_result"
    }
   ],
   "source": [
    "from simpledbf import Dbf5\n",
    "dataset = Dbf5(\"./fdeec17.dbf\").to_dataframe()\n",
    "dataset.head()"
   ]
  },
  {
   "cell_type": "markdown",
   "metadata": {
    "colab_type": "text",
    "id": "wAjJDo-0cxyM"
   },
   "source": [
    "* Importez `matplotlib`"
   ]
  },
  {
   "cell_type": "code",
   "execution_count": 5,
   "metadata": {
    "colab": {},
    "colab_type": "code",
    "id": "waDEF5_2U9bD"
   },
   "outputs": [],
   "source": [
    "import matplotlib.pyplot as plt\n",
    "%matplotlib inline"
   ]
  },
  {
   "cell_type": "markdown",
   "metadata": {
    "colab_type": "text",
    "id": "DhqXJDXCY49a"
   },
   "source": [
    "* En faisant un [pie-chart](https://matplotlib.org/3.1.1/api/_as_gen/matplotlib.pyplot.pie.html), montrez la part de chômeurs, d'inactifs et d'actifs occupés en France à partir de la variable ACTEU. Faites attention de faire apparaitre : \n",
    "\n",
    "  * Le pourcentage de chaque partie \n",
    "  * Une légende "
   ]
  },
  {
   "cell_type": "markdown",
   "metadata": {},
   "source": [
    "Pour cela nous allons renommer les catégories numériques afin d'avoir une légende plus parlante. Analyser la ligne de commande suivante et comprenez comment elle fonctionne."
   ]
  },
  {
   "cell_type": "code",
   "execution_count": 6,
   "metadata": {
    "colab": {},
    "colab_type": "code",
    "id": "4h1KGsteaRRO"
   },
   "outputs": [],
   "source": [
    "chomeurs = dataset.ACTEU.apply(lambda x: \n",
    "                               \"Actif Occupé\" if x==\"1\" \n",
    "                               else \"Chômeur\" if x == \"2\"\n",
    "                               else \"Inactif\" if x==\"3\" \n",
    "                               else \"NAN\")"
   ]
  },
  {
   "cell_type": "code",
   "execution_count": 7,
   "metadata": {
    "colab": {
     "base_uri": "https://localhost:8080/",
     "height": 101
    },
    "colab_type": "code",
    "id": "tZVEocaXZwVu",
    "outputId": "df63cf35-960b-4cfe-e915-573fc2236262"
   },
   "outputs": [
    {
     "data": {
      "text/plain": [
       "Inactif         207520\n",
       "Actif Occupé    198054\n",
       "Chômeur          21864\n",
       "NAN               1204\n",
       "Name: ACTEU, dtype: int64"
      ]
     },
     "execution_count": 7,
     "metadata": {},
     "output_type": "execute_result"
    }
   ],
   "source": [
    "chomeurs.value_counts()"
   ]
  },
  {
   "cell_type": "code",
   "execution_count": 8,
   "metadata": {},
   "outputs": [
    {
     "data": {
      "image/png": "[encoded data removed]",
      "text/plain": [
       "<Figure size 432x288 with 1 Axes>"
      ]
     },
     "metadata": {},
     "output_type": "display_data"
    }
   ],
   "source": [
    "plt.pie(x=chomeurs.value_counts(), explode=(0.2,0.2,0.5,0.1), autopct=\"%1.1f%%\", shadow=True,\n",
    "        startangle=90, radius=1.5)\n",
    "plt.legend(labels=chomeurs.value_counts().index, bbox_to_anchor=(1.7, 1.5))\n",
    "plt.show()"
   ]
  },
  {
   "cell_type": "markdown",
   "metadata": {
    "colab_type": "text",
    "id": "WymEmd73g2Wi"
   },
   "source": [
    "---> Le chiffre du chômage semble bas et, si on regarde l'explication des *inactifs*, celle-ci semble inclure beaucoup de monde (étudiants, personne ne cherchant pas d'emploi etc.)"
   ]
  },
  {
   "cell_type": "markdown",
   "metadata": {
    "colab_type": "text",
    "id": "mX9t8VnQhCu0"
   },
   "source": [
    "* Faites le même graphique sur la variable ACTEU6 qui est plus précise sur le type d'actifs   \n",
    "Renommer les valeurs numériques :   \n",
    "    1 : Actif Occupé  \n",
    "    3 : Chômeur PSERE  \n",
    "    4 : Autre Chômeur BIT  \n",
    "    5 : Etudiant, élève, stagiaire en formation  \n",
    "    6 : Autres inactifs (dont retraité)  \n",
    "    "
   ]
  },
  {
   "cell_type": "code",
   "execution_count": 9,
   "metadata": {},
   "outputs": [],
   "source": [
    "inactifs = dataset.ACTEU6.apply(lambda x: \"Actif Occupé\" if x==\"1\"\n",
    "                                else \"Chômeur PSERE\" if x == \"3\"\n",
    "                                else \"Etudiant, élève, stagiaire en formation\" if x==\"4\"\n",
    "                                else \"Inactif\" if x==\"5\"\n",
    "                                else \"Autres inactifs (dont retraités)\" if x==\"6\"\n",
    "                               else \"NAN\")"
   ]
  },
  {
   "cell_type": "code",
   "execution_count": 10,
   "metadata": {
    "colab": {
     "base_uri": "https://localhost:8080/",
     "height": 134
    },
    "colab_type": "code",
    "id": "2ndmQN-zjSzW",
    "outputId": "adc7479d-9eea-4648-8341-e8a9e6688980"
   },
   "outputs": [
    {
     "data": {
      "text/plain": [
       "Actif Occupé                               198054\n",
       "Autres inactifs (dont retraités)           172921\n",
       "Inactif                                     34599\n",
       "Chômeur PSERE                               20854\n",
       "NAN                                          1204\n",
       "Etudiant, élève, stagiaire en formation      1010\n",
       "Name: ACTEU6, dtype: int64"
      ]
     },
     "execution_count": 10,
     "metadata": {},
     "output_type": "execute_result"
    }
   ],
   "source": [
    "inactifs.value_counts()"
   ]
  },
  {
   "cell_type": "code",
   "execution_count": 11,
   "metadata": {},
   "outputs": [],
   "source": [
    "explode = (0.2,0.2,0.5,0.5,1.2,1.9)"
   ]
  },
  {
   "cell_type": "code",
   "execution_count": 12,
   "metadata": {},
   "outputs": [
    {
     "data": {
      "image/png": "[encoded data removed]",
      "text/plain": [
       "<Figure size 432x288 with 1 Axes>"
      ]
     },
     "metadata": {},
     "output_type": "display_data"
    }
   ],
   "source": [
    "plt.pie(x=inactifs.value_counts(), explode=explode, autopct=\"%1.1f%%\", shadow=True,\n",
    "        startangle=90, radius=1.5)\n",
    "plt.legend(labels=inactifs.value_counts().index, loc=\"upper right\", bbox_to_anchor=(2, 0))\n",
    "plt.show()"
   ]
  },
  {
   "cell_type": "markdown",
   "metadata": {},
   "source": [
    "Regardez la documentation pour renommer les valeurs de la colonne ACTEU."
   ]
  },
  {
   "cell_type": "code",
   "execution_count": 13,
   "metadata": {},
   "outputs": [
    {
     "data": {
      "text/plain": [
       "Inactif         207520\n",
       "Actif Occupé    198054\n",
       "Chômeur          21864\n",
       "NAN               1204\n",
       "Name: ACTEU, dtype: int64"
      ]
     },
     "execution_count": 13,
     "metadata": {},
     "output_type": "execute_result"
    }
   ],
   "source": [
    "dataset.ACTEU = chomeurs\n",
    "\n",
    "dataset.ACTEU.value_counts()"
   ]
  },
  {
   "cell_type": "markdown",
   "metadata": {
    "colab_type": "text",
    "id": "EZOe0bmqm8bq"
   },
   "source": [
    "* En créant un [stacked bar chart](https://pythonmatplotlibtips.blogspot.com/2018/11/normalized-stacked-barplot-number-percentage-python-matplotlib.html), comparez :\n",
    "\n",
    "  * le rapport *chômeurs* / *Actifs occupés* \n",
    "  * Le rapport *chômeurs* / *Actifs occupés + Inactifs*"
   ]
  },
  {
   "cell_type": "code",
   "execution_count": 14,
   "metadata": {},
   "outputs": [
    {
     "name": "stdout",
     "output_type": "stream",
     "text": [
      "Rapports de chômeurs\n",
      " [0.11039413493289708, 0.05390878113488537]\n"
     ]
    }
   ],
   "source": [
    "#a = chômeur / actif occupé \n",
    "a = dataset[\"ACTEU\"].value_counts().values[2] / dataset[\"ACTEU\"].value_counts().values[1]\n",
    "#b = chômeur / actif occupé + inactif\n",
    "b = dataset[\"ACTEU\"].value_counts().values[2] / (dataset[\"ACTEU\"].value_counts().values[1] + dataset[\"ACTEU\"].value_counts().values[0])\n",
    "print(\"Rapports de chômeurs\\n\", [a, b])"
   ]
  },
  {
   "cell_type": "code",
   "execution_count": 15,
   "metadata": {},
   "outputs": [
    {
     "name": "stdout",
     "output_type": "stream",
     "text": [
      "Rapports d'actifs\n",
      " [0.8896058650671029, 0.9460912188651146]\n"
     ]
    }
   ],
   "source": [
    "#c = %a\n",
    "c=1-a\n",
    "#d = %b\n",
    "d=1-b\n",
    "print(\"Rapports d'actifs\\n\", [c,d])"
   ]
  },
  {
   "cell_type": "code",
   "execution_count": 16,
   "metadata": {},
   "outputs": [
    {
     "data": {
      "text/plain": [
       "('Chômeurs / Actifs Occupés', 'Chômeurs / Actifs + Inactifs')"
      ]
     },
     "execution_count": 16,
     "metadata": {},
     "output_type": "execute_result"
    }
   ],
   "source": [
    "objects = ('Chômeurs / Actifs Occupés', 'Chômeurs / Actifs + Inactifs')\n",
    "objects"
   ]
  },
  {
   "cell_type": "code",
   "execution_count": 17,
   "metadata": {},
   "outputs": [
    {
     "data": {
      "image/png": "[encoded data removed]",
      "text/plain": [
       "<Figure size 432x288 with 1 Axes>"
      ]
     },
     "metadata": {
      "needs_background": "light"
     },
     "output_type": "display_data"
    }
   ],
   "source": [
    "y_pos = np.arange(len(objects))\n",
    "performance = [a,b]\n",
    "performance2 = [c,d]\n",
    "\n",
    "plt.bar(y_pos, performance, align='center', alpha=0.5)\n",
    "plt.bar(y_pos, performance2, align='center', alpha=0.5, bottom=performance)\n",
    "plt.xticks(y_pos, objects)\n",
    "plt.show()"
   ]
  },
  {
   "cell_type": "markdown",
   "metadata": {
    "colab_type": "text",
    "id": "rjhLdoc9v6PM"
   },
   "source": [
    "Il semblerait que nous étions 11% de chômeurs parmi la population active (travailleuse) en France en 2017 selon le BIT"
   ]
  },
  {
   "cell_type": "markdown",
   "metadata": {
    "colab_type": "text",
    "id": "imCCe_2byFzg"
   },
   "source": [
    "* En créant à nouveau un [*bar chart*](https://matplotlib.org/3.1.1/api/_as_gen/matplotlib.pyplot.bar.html) , regardez cette fois la répartition de l'ancienneté du chômage. Le nom de la variable est ANCCHOM, regardez la documentation pour recoder la valeur de cette colonne."
   ]
  },
  {
   "cell_type": "code",
   "execution_count": 18,
   "metadata": {},
   "outputs": [],
   "source": [
    "dataset[\"ANCCHOM\"] = dataset.ANCCHOM.apply(lambda x: \"Moins d'un mois\" if x==\"1\"\n",
    "                                 else \"De 1 mois à moins de 3 mois \" if x == \"2\"\n",
    "                                 else \"De 3 mois à moins de 6 mois\" if x == \"3\"\n",
    "                                 else \"De 6 mois à moins d'un an\" if x==\"4\"\n",
    "                                 else \"De 1 an à moins d'un an et demi\" if x==\"5\"\n",
    "                                 else \"De 1 an et demi à moins de 2 ans\" if x==\"6\"\n",
    "                                 else \"De 2 ans à moins de 3 ans\" if x==\"7\"\n",
    "                                 else \"3 ans ou plus\" if x==\"8\"\n",
    "                                 else \"NAN\")"
   ]
  },
  {
   "cell_type": "code",
   "execution_count": 19,
   "metadata": {},
   "outputs": [
    {
     "data": {
      "text/plain": [
       "NAN                                 406904\n",
       "3 ans ou plus                         3906\n",
       "De 6 mois à moins d'un an             3648\n",
       "De 1 an à moins d'un an et demi       3398\n",
       "De 1 mois à moins de 3 mois           3270\n",
       "De 3 mois à moins de 6 mois           3193\n",
       "De 2 ans à moins de 3 ans             2289\n",
       "De 1 an et demi à moins de 2 ans      1132\n",
       "Moins d'un mois                        902\n",
       "Name: ANCCHOM, dtype: int64"
      ]
     },
     "execution_count": 19,
     "metadata": {},
     "output_type": "execute_result"
    }
   ],
   "source": [
    "dataset.ANCCHOM.value_counts()"
   ]
  },
  {
   "cell_type": "code",
   "execution_count": 20,
   "metadata": {},
   "outputs": [
    {
     "data": {
      "image/png": "[encoded data removed]",
      "text/plain": [
       "<Figure size 1296x252 with 1 Axes>"
      ]
     },
     "metadata": {
      "needs_background": "light"
     },
     "output_type": "display_data"
    }
   ],
   "source": [
    "dataset_ancchom = dataset[dataset['ANCCHOM'] != \"NAN\"]\n",
    "ancchom = dataset_ancchom['ANCCHOM'].value_counts()\n",
    "objects = ancchom.index\n",
    "y_pos = np.arange(len(objects))\n",
    "performance = ancchom.values\n",
    "\n",
    "plt.figure(figsize=(18,3.5))\n",
    "plt.bar(y_pos, performance, align='center', alpha=0.5)\n",
    "plt.xticks(y_pos, objects, fontsize=7)\n",
    "plt.yticks(fontsize=7)\n",
    "plt.show()"
   ]
  },
  {
   "cell_type": "markdown",
   "metadata": {
    "colab_type": "text",
    "id": "SOZ0dz4k2tMY"
   },
   "source": [
    "* La répartition se voit assez mal sur le *bar chart*, tentez de le refaire sur un *pie chart* "
   ]
  },
  {
   "cell_type": "code",
   "execution_count": 21,
   "metadata": {},
   "outputs": [
    {
     "data": {
      "image/png": "[encoded data removed]",
      "text/plain": [
       "<Figure size 468x396 with 1 Axes>"
      ]
     },
     "metadata": {},
     "output_type": "display_data"
    }
   ],
   "source": [
    "tps_chom =  dataset[dataset['ANCCHOM'] != \"NAN\"]\n",
    "\n",
    "plt.figure(figsize=(6.5,5.5))\n",
    "plt.pie(x=tps_chom[\"ANCCHOM\"].value_counts(), autopct=\"%1.1f%%\", shadow=True,\n",
    "        startangle=90, radius=1.5, center = (3,0))\n",
    "plt.legend(labels=tps_chom[\"ANCCHOM\"].value_counts().index, bbox_to_anchor=(0.5, 0))\n",
    "plt.show()"
   ]
  },
  {
   "cell_type": "markdown",
   "metadata": {
    "colab_type": "text",
    "id": "8LIfy88y5cnO"
   },
   "source": [
    "* Il serait intéressant de voir la répartition des personnes inscrites à Pôle Emploi ou dans un organisme de placement parmi ces personnes au chômage. Regardez cette répartition grâce à la colonne CONTACT \n",
    "  * Enlevez directement les NaN de votre graphique"
   ]
  },
  {
   "cell_type": "code",
   "execution_count": 22,
   "metadata": {},
   "outputs": [],
   "source": [
    "dataset[\"CONTACT\"] = dataset.CONTACT.apply(lambda x: \"Oui\" if x==\"1\"\n",
    "                                           else \"Non\" if x == \"2\"\n",
    "                                           else \"NAN\")"
   ]
  },
  {
   "cell_type": "code",
   "execution_count": 23,
   "metadata": {},
   "outputs": [
    {
     "data": {
      "text/plain": [
       "NAN    399514\n",
       "Non     15984\n",
       "Oui     13144\n",
       "Name: CONTACT, dtype: int64"
      ]
     },
     "execution_count": 23,
     "metadata": {},
     "output_type": "execute_result"
    }
   ],
   "source": [
    "dataset[\"CONTACT\"].value_counts()"
   ]
  },
  {
   "cell_type": "code",
   "execution_count": 24,
   "metadata": {},
   "outputs": [
    {
     "data": {
      "image/png": "[encoded data removed]",
      "text/plain": [
       "<Figure size 439.2x288 with 1 Axes>"
      ]
     },
     "metadata": {
      "needs_background": "light"
     },
     "output_type": "display_data"
    }
   ],
   "source": [
    "contact = dataset['CONTACT'].value_counts()\n",
    "y_pos = np.arange(len([contact.index[1], contact.index[2]]))\n",
    "\n",
    "plt.figure(figsize=(6.1,4))\n",
    "plt.bar(y_pos, [contact.values[1], contact.values[2]], align='center', alpha=0.5)\n",
    "plt.xticks(y_pos, [contact.index[1], contact.index[2]])\n",
    "plt.show()"
   ]
  },
  {
   "cell_type": "markdown",
   "metadata": {
    "colab_type": "text",
    "id": "SizUWI_f7pgw"
   },
   "source": [
    "* Regardons ce qui pousse les français à changer d'emploi, grâce à la colonne CREACCP, crééz un bar chart horizontale qui va permettre de connaitre les principales raisons de changement d'emploi des français. "
   ]
  },
  {
   "cell_type": "code",
   "execution_count": 25,
   "metadata": {},
   "outputs": [],
   "source": [
    "dataset[\"CREACCP\"] = dataset.CREACCP.apply(lambda x: \"Risque de perdre ou va perdre son emploi actuel (y compris fin de contrats courts)\" if x==\"1\"\n",
    "                                           else \"Désire un emploi plus intéressant\" if x == \"2\"\n",
    "                                           else \"Veut un emploi plus stable (CDI)\" if x == \"3\"\n",
    "                                           else \"Veut travailler plus d'heures\" if x==\"4\"\n",
    "                                           else \"Désire un travail avec un rythme horaire plus adapté ou plus modulable\" if x==\"5\"\n",
    "                                           else \"Désire des conditions de travail moins pénibles ou plus adaptées à sa santé\" if x==\"6\"\n",
    "                                           else \"Désire augmenter ses revenus\" if x==\"7\"\n",
    "                                           else \"Désire diminuer son temps de transport\" if x==\"8\"\n",
    "                                           else \"Doit ou veut déménager\" if x==\"9\"\n",
    "                                           else \"Veut s'installer à son compte\" if x==\"10\"\n",
    "                                           else \"Veut changer de métier ou de secteur\" if x==\"11\"\n",
    "                                           else \"Trouve l'ambiance de travail mauvaise, les relations de travail conflictuelles\" if x==\"12\"\n",
    "                                           else \"NAN\")"
   ]
  },
  {
   "cell_type": "code",
   "execution_count": 26,
   "metadata": {},
   "outputs": [
    {
     "data": {
      "text/plain": [
       "Doit ou veut déménager                                                                   216\n",
       "Veut s'installer à son compte                                                            354\n",
       "Désire diminuer son temps de transport                                                   598\n",
       "Désire un travail avec un rythme horaire plus adapté ou plus modulable                  1102\n",
       "Trouve l'ambiance de travail mauvaise, les relations de travail conflictuelles          1223\n",
       "Veut changer de métier ou de secteur                                                    1392\n",
       "Veut travailler plus d'heures                                                           1404\n",
       "Risque de perdre ou va perdre son emploi actuel (y compris fin de contrats courts)      1582\n",
       "Désire des conditions de travail moins pénibles ou plus adaptées à sa santé             1820\n",
       "Veut un emploi plus stable (CDI)                                                        2462\n",
       "Désire un emploi plus intéressant                                                       2779\n",
       "Désire augmenter ses revenus                                                            6775\n",
       "NAN                                                                                   406935\n",
       "Name: CREACCP, dtype: int64"
      ]
     },
     "execution_count": 26,
     "metadata": {},
     "output_type": "execute_result"
    }
   ],
   "source": [
    "dataset.CREACCP.value_counts(ascending=True)"
   ]
  },
  {
   "cell_type": "code",
   "execution_count": 27,
   "metadata": {},
   "outputs": [],
   "source": [
    "#nb de valeurs hors NAN"
   ]
  },
  {
   "cell_type": "code",
   "execution_count": 28,
   "metadata": {},
   "outputs": [
    {
     "data": {
      "text/plain": [
       "21707"
      ]
     },
     "execution_count": 28,
     "metadata": {},
     "output_type": "execute_result"
    }
   ],
   "source": [
    "creaccp = dataset[dataset[\"CREACCP\"] != \"NAN\"]\n",
    "creaccp[\"CREACCP\"].count().sum()"
   ]
  },
  {
   "cell_type": "code",
   "execution_count": 29,
   "metadata": {},
   "outputs": [
    {
     "data": {
      "text/plain": [
       "array([ 1.  ,  1.63,  2.75,  5.08,  5.63,  6.41,  6.47,  7.29,  8.38,\n",
       "       11.34, 12.8 , 31.21])"
      ]
     },
     "execution_count": 29,
     "metadata": {},
     "output_type": "execute_result"
    }
   ],
   "source": [
    "percentages = creaccp[\"CREACCP\"].value_counts(normalize=True, ascending=True).values * 100\n",
    "percentages = percentages.round(2)\n",
    "percentages"
   ]
  },
  {
   "cell_type": "code",
   "execution_count": 30,
   "metadata": {},
   "outputs": [],
   "source": [
    "creaccp = creaccp['CREACCP'].value_counts(ascending=True)"
   ]
  },
  {
   "cell_type": "code",
   "execution_count": 31,
   "metadata": {},
   "outputs": [
    {
     "data": {
      "image/png": "[encoded data removed]",
      "text/plain": [
       "<Figure size 439.2x288 with 1 Axes>"
      ]
     },
     "metadata": {
      "needs_background": "light"
     },
     "output_type": "display_data"
    }
   ],
   "source": [
    "labels = creaccp.index\n",
    "y_pos = np.arange(len(creaccp))\n",
    "\n",
    "plt.figure(figsize=(6.1,4))\n",
    "plt.barh(y_pos, percentages, align='center', alpha=0.5, tick_label=percentages)\n",
    "#plt.xticks((0, 5, 10, 15, 20, 25, 30), percentages)\n",
    "plt.yticks(y_pos, labels)\n",
    "plt.xlabel(\"Répartition en pourcentage\")\n",
    "plt.title(\"Classement des raisons pour lesquelles les français veulent changer d'emploi\")\n",
    "plt.show()"
   ]
  },
  {
   "cell_type": "code",
   "execution_count": null,
   "metadata": {
    "colab": {
     "base_uri": "https://localhost:8080/",
     "height": 316
    },
    "colab_type": "code",
    "id": "I3j4qraB-9GU",
    "outputId": "8bfd741f-fe00-465b-df6c-2b6b5ea15512"
   },
   "outputs": [],
   "source": []
  },
  {
   "cell_type": "code",
   "execution_count": null,
   "metadata": {
    "colab": {
     "base_uri": "https://localhost:8080/",
     "height": 316
    },
    "colab_type": "code",
    "id": "I3j4qraB-9GU",
    "outputId": "8bfd741f-fe00-465b-df6c-2b6b5ea15512"
   },
   "outputs": [],
   "source": []
  }
 ],
 "metadata": {
  "colab": {
   "collapsed_sections": [],
   "name": "Comprendre le chômage en France - Exercice.ipynb",
   "provenance": [],
   "version": "0.3.2"
  },
  "kernelspec": {
   "display_name": "Python 3",
   "language": "python",
   "name": "python3"
  },
  "language_info": {
   "codemirror_mode": {
    "name": "ipython",
    "version": 3
   },
   "file_extension": ".py",
   "mimetype": "text/x-python",
   "name": "python",
   "nbconvert_exporter": "python",
   "pygments_lexer": "ipython3",
   "version": "3.7.6"
  }
 },
 "nbformat": 4,
 "nbformat_minor": 1
}
