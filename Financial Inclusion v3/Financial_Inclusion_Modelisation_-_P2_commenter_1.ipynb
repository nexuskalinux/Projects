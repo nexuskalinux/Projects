{
 "cells": [
  {
   "cell_type": "markdown",
   "metadata": {},
   "source": [
    "# <center><font size=\"7\"><font color=Black>Financial inclusion in Africa </font></center>"
   ]
  },
  {
   "cell_type": "markdown",
   "metadata": {},
   "source": [
    "## <a id='1'> <font size=\"6\"><center><font color=\"INDIANRED\">Modélisation</font>\n"
   ]
  },
  {
   "cell_type": "code",
   "execution_count": 1,
   "metadata": {},
   "outputs": [],
   "source": [
    "import pandas as pd\n",
    "import numpy as np\n",
    "\n",
    "from sklearn.model_selection import train_test_split\n",
    "from sklearn.linear_model import LogisticRegression\n",
    "from sklearn.metrics import *\n",
    "from sklearn.tree import *\n",
    "from sklearn.ensemble import RandomForestClassifier\n",
    "from xgboost import XGBClassifier\n",
    "#pour equilibrer les données\n",
    "from imblearn.over_sampling import RandomOverSampler\n",
    "from imblearn.over_sampling import SMOTE\n",
    "from imblearn.under_sampling import RandomUnderSampler\n",
    "\n",
    "\n",
    "import matplotlib.pyplot as plt\n",
    "%matplotlib inline\n",
    "import seaborn as sns\n",
    "sns.set()\n",
    "import plotly.express as px # Pour faire des graph3D animés\n",
    "from mpl_toolkits.mplot3d import Axes3D # Pour faire des graph3D\n",
    "from sklearn.metrics import classification_report\n",
    "import pickle"
   ]
  },
  {
   "cell_type": "markdown",
   "metadata": {},
   "source": [
    "## <a id='1'> <font size=\"6\"><center><font color=\"INDIANRED\">Importer les données</font>"
   ]
  },
  {
   "cell_type": "code",
   "execution_count": 2,
   "metadata": {},
   "outputs": [
    {
     "data": {
      "text/html": [
       "<div>\n",
       "<style scoped>\n",
       "    .dataframe tbody tr th:only-of-type {\n",
       "        vertical-align: middle;\n",
       "    }\n",
       "\n",
       "    .dataframe tbody tr th {\n",
       "        vertical-align: top;\n",
       "    }\n",
       "\n",
       "    .dataframe thead th {\n",
       "        text-align: right;\n",
       "    }\n",
       "</style>\n",
       "<table border=\"1\" class=\"dataframe\">\n",
       "  <thead>\n",
       "    <tr style=\"text-align: right;\">\n",
       "      <th></th>\n",
       "      <th>Unnamed: 0</th>\n",
       "      <th>year</th>\n",
       "      <th>uniqueid</th>\n",
       "      <th>bank_account</th>\n",
       "      <th>location_type</th>\n",
       "      <th>cellphone_access</th>\n",
       "      <th>household_size</th>\n",
       "      <th>age_of_respondent</th>\n",
       "      <th>gender_of_respondent</th>\n",
       "      <th>relationship_with_head_Child</th>\n",
       "      <th>...</th>\n",
       "      <th>job_type_Government Dependent</th>\n",
       "      <th>job_type_Informally employed</th>\n",
       "      <th>job_type_No Income</th>\n",
       "      <th>job_type_Other Income</th>\n",
       "      <th>job_type_Remittance Dependent</th>\n",
       "      <th>job_type_Self employed</th>\n",
       "      <th>country_Kenya</th>\n",
       "      <th>country_Rwanda</th>\n",
       "      <th>country_Tanzania</th>\n",
       "      <th>country_Uganda</th>\n",
       "    </tr>\n",
       "  </thead>\n",
       "  <tbody>\n",
       "    <tr>\n",
       "      <th>0</th>\n",
       "      <td>0</td>\n",
       "      <td>2018</td>\n",
       "      <td>uniqueid_1</td>\n",
       "      <td>1</td>\n",
       "      <td>0</td>\n",
       "      <td>1</td>\n",
       "      <td>3</td>\n",
       "      <td>24</td>\n",
       "      <td>0</td>\n",
       "      <td>0</td>\n",
       "      <td>...</td>\n",
       "      <td>0</td>\n",
       "      <td>0</td>\n",
       "      <td>0</td>\n",
       "      <td>0</td>\n",
       "      <td>0</td>\n",
       "      <td>1</td>\n",
       "      <td>1</td>\n",
       "      <td>0</td>\n",
       "      <td>0</td>\n",
       "      <td>0</td>\n",
       "    </tr>\n",
       "    <tr>\n",
       "      <th>1</th>\n",
       "      <td>1</td>\n",
       "      <td>2018</td>\n",
       "      <td>uniqueid_2</td>\n",
       "      <td>0</td>\n",
       "      <td>0</td>\n",
       "      <td>0</td>\n",
       "      <td>5</td>\n",
       "      <td>70</td>\n",
       "      <td>0</td>\n",
       "      <td>0</td>\n",
       "      <td>...</td>\n",
       "      <td>1</td>\n",
       "      <td>0</td>\n",
       "      <td>0</td>\n",
       "      <td>0</td>\n",
       "      <td>0</td>\n",
       "      <td>0</td>\n",
       "      <td>1</td>\n",
       "      <td>0</td>\n",
       "      <td>0</td>\n",
       "      <td>0</td>\n",
       "    </tr>\n",
       "    <tr>\n",
       "      <th>2</th>\n",
       "      <td>2</td>\n",
       "      <td>2018</td>\n",
       "      <td>uniqueid_3</td>\n",
       "      <td>1</td>\n",
       "      <td>1</td>\n",
       "      <td>1</td>\n",
       "      <td>5</td>\n",
       "      <td>26</td>\n",
       "      <td>1</td>\n",
       "      <td>0</td>\n",
       "      <td>...</td>\n",
       "      <td>0</td>\n",
       "      <td>0</td>\n",
       "      <td>0</td>\n",
       "      <td>0</td>\n",
       "      <td>0</td>\n",
       "      <td>1</td>\n",
       "      <td>1</td>\n",
       "      <td>0</td>\n",
       "      <td>0</td>\n",
       "      <td>0</td>\n",
       "    </tr>\n",
       "    <tr>\n",
       "      <th>3</th>\n",
       "      <td>3</td>\n",
       "      <td>2018</td>\n",
       "      <td>uniqueid_4</td>\n",
       "      <td>0</td>\n",
       "      <td>0</td>\n",
       "      <td>1</td>\n",
       "      <td>5</td>\n",
       "      <td>34</td>\n",
       "      <td>0</td>\n",
       "      <td>0</td>\n",
       "      <td>...</td>\n",
       "      <td>0</td>\n",
       "      <td>0</td>\n",
       "      <td>0</td>\n",
       "      <td>0</td>\n",
       "      <td>0</td>\n",
       "      <td>0</td>\n",
       "      <td>1</td>\n",
       "      <td>0</td>\n",
       "      <td>0</td>\n",
       "      <td>0</td>\n",
       "    </tr>\n",
       "    <tr>\n",
       "      <th>4</th>\n",
       "      <td>4</td>\n",
       "      <td>2018</td>\n",
       "      <td>uniqueid_5</td>\n",
       "      <td>0</td>\n",
       "      <td>1</td>\n",
       "      <td>0</td>\n",
       "      <td>8</td>\n",
       "      <td>26</td>\n",
       "      <td>1</td>\n",
       "      <td>1</td>\n",
       "      <td>...</td>\n",
       "      <td>0</td>\n",
       "      <td>1</td>\n",
       "      <td>0</td>\n",
       "      <td>0</td>\n",
       "      <td>0</td>\n",
       "      <td>0</td>\n",
       "      <td>1</td>\n",
       "      <td>0</td>\n",
       "      <td>0</td>\n",
       "      <td>0</td>\n",
       "    </tr>\n",
       "  </tbody>\n",
       "</table>\n",
       "<p>5 rows × 40 columns</p>\n",
       "</div>"
      ],
      "text/plain": [
       "   Unnamed: 0  year    uniqueid  bank_account  location_type  \\\n",
       "0           0  2018  uniqueid_1             1              0   \n",
       "1           1  2018  uniqueid_2             0              0   \n",
       "2           2  2018  uniqueid_3             1              1   \n",
       "3           3  2018  uniqueid_4             0              0   \n",
       "4           4  2018  uniqueid_5             0              1   \n",
       "\n",
       "   cellphone_access  household_size  age_of_respondent  gender_of_respondent  \\\n",
       "0                 1               3                 24                     0   \n",
       "1                 0               5                 70                     0   \n",
       "2                 1               5                 26                     1   \n",
       "3                 1               5                 34                     0   \n",
       "4                 0               8                 26                     1   \n",
       "\n",
       "   relationship_with_head_Child  ...  job_type_Government Dependent  \\\n",
       "0                             0  ...                              0   \n",
       "1                             0  ...                              1   \n",
       "2                             0  ...                              0   \n",
       "3                             0  ...                              0   \n",
       "4                             1  ...                              0   \n",
       "\n",
       "   job_type_Informally employed  job_type_No Income  job_type_Other Income  \\\n",
       "0                             0                   0                      0   \n",
       "1                             0                   0                      0   \n",
       "2                             0                   0                      0   \n",
       "3                             0                   0                      0   \n",
       "4                             1                   0                      0   \n",
       "\n",
       "   job_type_Remittance Dependent  job_type_Self employed  country_Kenya  \\\n",
       "0                              0                       1              1   \n",
       "1                              0                       0              1   \n",
       "2                              0                       1              1   \n",
       "3                              0                       0              1   \n",
       "4                              0                       0              1   \n",
       "\n",
       "   country_Rwanda  country_Tanzania  country_Uganda  \n",
       "0               0                 0               0  \n",
       "1               0                 0               0  \n",
       "2               0                 0               0  \n",
       "3               0                 0               0  \n",
       "4               0                 0               0  \n",
       "\n",
       "[5 rows x 40 columns]"
      ]
     },
     "execution_count": 2,
     "metadata": {},
     "output_type": "execute_result"
    }
   ],
   "source": [
    "train_data = pd.read_csv('./train_data.csv')\n",
    "train_data.head()"
   ]
  },
  {
   "cell_type": "markdown",
   "metadata": {},
   "source": [
    "<font color=\"Red\">L'index est devenu colonne, il est donc nécessaire de le repasser en index"
   ]
  },
  {
   "cell_type": "code",
   "execution_count": 3,
   "metadata": {},
   "outputs": [
    {
     "data": {
      "text/html": [
       "<div>\n",
       "<style scoped>\n",
       "    .dataframe tbody tr th:only-of-type {\n",
       "        vertical-align: middle;\n",
       "    }\n",
       "\n",
       "    .dataframe tbody tr th {\n",
       "        vertical-align: top;\n",
       "    }\n",
       "\n",
       "    .dataframe thead th {\n",
       "        text-align: right;\n",
       "    }\n",
       "</style>\n",
       "<table border=\"1\" class=\"dataframe\">\n",
       "  <thead>\n",
       "    <tr style=\"text-align: right;\">\n",
       "      <th></th>\n",
       "      <th>year</th>\n",
       "      <th>uniqueid</th>\n",
       "      <th>bank_account</th>\n",
       "      <th>location_type</th>\n",
       "      <th>cellphone_access</th>\n",
       "      <th>household_size</th>\n",
       "      <th>age_of_respondent</th>\n",
       "      <th>gender_of_respondent</th>\n",
       "      <th>relationship_with_head_Child</th>\n",
       "      <th>relationship_with_head_Head of Household</th>\n",
       "      <th>...</th>\n",
       "      <th>job_type_Government Dependent</th>\n",
       "      <th>job_type_Informally employed</th>\n",
       "      <th>job_type_No Income</th>\n",
       "      <th>job_type_Other Income</th>\n",
       "      <th>job_type_Remittance Dependent</th>\n",
       "      <th>job_type_Self employed</th>\n",
       "      <th>country_Kenya</th>\n",
       "      <th>country_Rwanda</th>\n",
       "      <th>country_Tanzania</th>\n",
       "      <th>country_Uganda</th>\n",
       "    </tr>\n",
       "  </thead>\n",
       "  <tbody>\n",
       "    <tr>\n",
       "      <th>0</th>\n",
       "      <td>2018</td>\n",
       "      <td>uniqueid_1</td>\n",
       "      <td>1</td>\n",
       "      <td>0</td>\n",
       "      <td>1</td>\n",
       "      <td>3</td>\n",
       "      <td>24</td>\n",
       "      <td>0</td>\n",
       "      <td>0</td>\n",
       "      <td>0</td>\n",
       "      <td>...</td>\n",
       "      <td>0</td>\n",
       "      <td>0</td>\n",
       "      <td>0</td>\n",
       "      <td>0</td>\n",
       "      <td>0</td>\n",
       "      <td>1</td>\n",
       "      <td>1</td>\n",
       "      <td>0</td>\n",
       "      <td>0</td>\n",
       "      <td>0</td>\n",
       "    </tr>\n",
       "    <tr>\n",
       "      <th>1</th>\n",
       "      <td>2018</td>\n",
       "      <td>uniqueid_2</td>\n",
       "      <td>0</td>\n",
       "      <td>0</td>\n",
       "      <td>0</td>\n",
       "      <td>5</td>\n",
       "      <td>70</td>\n",
       "      <td>0</td>\n",
       "      <td>0</td>\n",
       "      <td>1</td>\n",
       "      <td>...</td>\n",
       "      <td>1</td>\n",
       "      <td>0</td>\n",
       "      <td>0</td>\n",
       "      <td>0</td>\n",
       "      <td>0</td>\n",
       "      <td>0</td>\n",
       "      <td>1</td>\n",
       "      <td>0</td>\n",
       "      <td>0</td>\n",
       "      <td>0</td>\n",
       "    </tr>\n",
       "    <tr>\n",
       "      <th>2</th>\n",
       "      <td>2018</td>\n",
       "      <td>uniqueid_3</td>\n",
       "      <td>1</td>\n",
       "      <td>1</td>\n",
       "      <td>1</td>\n",
       "      <td>5</td>\n",
       "      <td>26</td>\n",
       "      <td>1</td>\n",
       "      <td>0</td>\n",
       "      <td>0</td>\n",
       "      <td>...</td>\n",
       "      <td>0</td>\n",
       "      <td>0</td>\n",
       "      <td>0</td>\n",
       "      <td>0</td>\n",
       "      <td>0</td>\n",
       "      <td>1</td>\n",
       "      <td>1</td>\n",
       "      <td>0</td>\n",
       "      <td>0</td>\n",
       "      <td>0</td>\n",
       "    </tr>\n",
       "    <tr>\n",
       "      <th>3</th>\n",
       "      <td>2018</td>\n",
       "      <td>uniqueid_4</td>\n",
       "      <td>0</td>\n",
       "      <td>0</td>\n",
       "      <td>1</td>\n",
       "      <td>5</td>\n",
       "      <td>34</td>\n",
       "      <td>0</td>\n",
       "      <td>0</td>\n",
       "      <td>1</td>\n",
       "      <td>...</td>\n",
       "      <td>0</td>\n",
       "      <td>0</td>\n",
       "      <td>0</td>\n",
       "      <td>0</td>\n",
       "      <td>0</td>\n",
       "      <td>0</td>\n",
       "      <td>1</td>\n",
       "      <td>0</td>\n",
       "      <td>0</td>\n",
       "      <td>0</td>\n",
       "    </tr>\n",
       "    <tr>\n",
       "      <th>4</th>\n",
       "      <td>2018</td>\n",
       "      <td>uniqueid_5</td>\n",
       "      <td>0</td>\n",
       "      <td>1</td>\n",
       "      <td>0</td>\n",
       "      <td>8</td>\n",
       "      <td>26</td>\n",
       "      <td>1</td>\n",
       "      <td>1</td>\n",
       "      <td>0</td>\n",
       "      <td>...</td>\n",
       "      <td>0</td>\n",
       "      <td>1</td>\n",
       "      <td>0</td>\n",
       "      <td>0</td>\n",
       "      <td>0</td>\n",
       "      <td>0</td>\n",
       "      <td>1</td>\n",
       "      <td>0</td>\n",
       "      <td>0</td>\n",
       "      <td>0</td>\n",
       "    </tr>\n",
       "  </tbody>\n",
       "</table>\n",
       "<p>5 rows × 39 columns</p>\n",
       "</div>"
      ],
      "text/plain": [
       "   year    uniqueid  bank_account  location_type  cellphone_access  \\\n",
       "0  2018  uniqueid_1             1              0                 1   \n",
       "1  2018  uniqueid_2             0              0                 0   \n",
       "2  2018  uniqueid_3             1              1                 1   \n",
       "3  2018  uniqueid_4             0              0                 1   \n",
       "4  2018  uniqueid_5             0              1                 0   \n",
       "\n",
       "   household_size  age_of_respondent  gender_of_respondent  \\\n",
       "0               3                 24                     0   \n",
       "1               5                 70                     0   \n",
       "2               5                 26                     1   \n",
       "3               5                 34                     0   \n",
       "4               8                 26                     1   \n",
       "\n",
       "   relationship_with_head_Child  relationship_with_head_Head of Household  \\\n",
       "0                             0                                         0   \n",
       "1                             0                                         1   \n",
       "2                             0                                         0   \n",
       "3                             0                                         1   \n",
       "4                             1                                         0   \n",
       "\n",
       "   ...  job_type_Government Dependent  job_type_Informally employed  \\\n",
       "0  ...                              0                             0   \n",
       "1  ...                              1                             0   \n",
       "2  ...                              0                             0   \n",
       "3  ...                              0                             0   \n",
       "4  ...                              0                             1   \n",
       "\n",
       "   job_type_No Income  job_type_Other Income  job_type_Remittance Dependent  \\\n",
       "0                   0                      0                              0   \n",
       "1                   0                      0                              0   \n",
       "2                   0                      0                              0   \n",
       "3                   0                      0                              0   \n",
       "4                   0                      0                              0   \n",
       "\n",
       "   job_type_Self employed  country_Kenya  country_Rwanda  country_Tanzania  \\\n",
       "0                       1              1               0                 0   \n",
       "1                       0              1               0                 0   \n",
       "2                       1              1               0                 0   \n",
       "3                       0              1               0                 0   \n",
       "4                       0              1               0                 0   \n",
       "\n",
       "   country_Uganda  \n",
       "0               0  \n",
       "1               0  \n",
       "2               0  \n",
       "3               0  \n",
       "4               0  \n",
       "\n",
       "[5 rows x 39 columns]"
      ]
     },
     "execution_count": 3,
     "metadata": {},
     "output_type": "execute_result"
    }
   ],
   "source": [
    "train_data.drop(columns={\"Unnamed: 0\"}, axis=1, inplace=True)\n",
    "train_data.head()"
   ]
  },
  {
   "cell_type": "code",
   "execution_count": 4,
   "metadata": {},
   "outputs": [
    {
     "data": {
      "image/png": "[encoded data removed]",
      "text/plain": [
       "<Figure size 432x288 with 1 Axes>"
      ]
     },
     "metadata": {},
     "output_type": "display_data"
    }
   ],
   "source": [
    "sns.countplot(train_data['bank_account'] ,palette = \"Set2\")\n",
    "plt.title(\"% Données desiquilibrées\");"
   ]
  },
  {
   "cell_type": "code",
   "execution_count": 5,
   "metadata": {
    "scrolled": false
   },
   "outputs": [
    {
     "data": {
      "image/png": "[encoded data removed]",
      "text/plain": [
       "<Figure size 720x504 with 1 Axes>"
      ]
     },
     "metadata": {},
     "output_type": "display_data"
    }
   ],
   "source": [
    "fig = plt.figure(figsize =(10, 7)) \n",
    "plt.pie(train_data.bank_account.value_counts(), labels = [\"0 = negative\",\"1 = positive\"], autopct='%1.1f%%' ) \n",
    "plt.title(\"% pourcentage des Données desiquilibrées\");"
   ]
  },
  {
   "cell_type": "markdown",
   "metadata": {},
   "source": [
    "<font color=\"Red\">85.9 % Negative (des personnes qui n'ont pas d'acces a un compte bancaire )\n",
    "<br>14.1% Positive (les personnes qui ont acces a un compte bancaire )\n",
    "    <br>Dataset Non equilibré "
   ]
  },
  {
   "cell_type": "code",
   "execution_count": 6,
   "metadata": {},
   "outputs": [],
   "source": [
    "#Separer les Features et les targets \n",
    "#Drop year , country , uniqueid (ça ne caracterise pas le cas étudié ) \n",
    "X= train_data.drop(['bank_account','uniqueid','year'], axis=1)\n",
    "y=train_data['bank_account']"
   ]
  },
  {
   "cell_type": "markdown",
   "metadata": {},
   "source": [
    "## <a id='2'> <font size=\"4\"><font color=\"black\"> Séparation des données non équilibrés </font>"
   ]
  },
  {
   "cell_type": "code",
   "execution_count": 7,
   "metadata": {},
   "outputs": [],
   "source": [
    "from sklearn.model_selection import train_test_split\n",
    "X_train, X_test, y_train, y_test = train_test_split(X, y, train_size=0.8,test_size=0.2, random_state=0)"
   ]
  },
  {
   "cell_type": "markdown",
   "metadata": {},
   "source": [
    "## <a id='2'> <font size=\"4\"><font color=\"black\"> Logistic Regression </font>"
   ]
  },
  {
   "cell_type": "code",
   "execution_count": 8,
   "metadata": {},
   "outputs": [
    {
     "data": {
      "text/plain": [
       "array([0, 0, 0, ..., 0, 0, 0], dtype=int64)"
      ]
     },
     "execution_count": 8,
     "metadata": {},
     "output_type": "execute_result"
    }
   ],
   "source": [
    "lr=LogisticRegression(max_iter = 100000)\n",
    "lr.fit(X_train,y_train)\n",
    "prediction = lr.predict(X_test)\n",
    "prediction"
   ]
  },
  {
   "cell_type": "code",
   "execution_count": 9,
   "metadata": {},
   "outputs": [
    {
     "name": "stdout",
     "output_type": "stream",
     "text": [
      "              precision    recall  f1-score   support\n",
      "\n",
      "           0       0.90      0.97      0.93      4005\n",
      "           1       0.69      0.35      0.47       700\n",
      "\n",
      "    accuracy                           0.88      4705\n",
      "   macro avg       0.79      0.66      0.70      4705\n",
      "weighted avg       0.87      0.88      0.86      4705\n",
      "\n"
     ]
    }
   ],
   "source": [
    "print(classification_report( y_test ,prediction))"
   ]
  },
  {
   "cell_type": "markdown",
   "metadata": {},
   "source": [
    "## <a id='2'> <font size=\"4\"><font color=\"black\"> XGBOOST </font>"
   ]
  },
  {
   "cell_type": "code",
   "execution_count": 10,
   "metadata": {},
   "outputs": [
    {
     "data": {
      "text/plain": [
       "array([0, 0, 0, ..., 0, 0, 0], dtype=int64)"
      ]
     },
     "execution_count": 10,
     "metadata": {},
     "output_type": "execute_result"
    }
   ],
   "source": [
    "XG=XGBClassifier()\n",
    "XG.fit(X_train , y_train)\n",
    "XGprediction=XG.predict(X_test)\n",
    "XGprediction"
   ]
  },
  {
   "cell_type": "code",
   "execution_count": 11,
   "metadata": {},
   "outputs": [
    {
     "name": "stdout",
     "output_type": "stream",
     "text": [
      "              precision    recall  f1-score   support\n",
      "\n",
      "           0       0.90      0.97      0.93      4005\n",
      "           1       0.67      0.40      0.50       700\n",
      "\n",
      "    accuracy                           0.88      4705\n",
      "   macro avg       0.79      0.68      0.72      4705\n",
      "weighted avg       0.87      0.88      0.87      4705\n",
      "\n"
     ]
    }
   ],
   "source": [
    "print(classification_report( y_test ,XGprediction))"
   ]
  },
  {
   "cell_type": "markdown",
   "metadata": {},
   "source": [
    "## <a id='2'> <font size=\"4\"><font color=\"black\"> Random Forest </font>"
   ]
  },
  {
   "cell_type": "code",
   "execution_count": 12,
   "metadata": {},
   "outputs": [
    {
     "data": {
      "text/plain": [
       "array([0, 0, 0, ..., 0, 0, 1], dtype=int64)"
      ]
     },
     "execution_count": 12,
     "metadata": {},
     "output_type": "execute_result"
    }
   ],
   "source": [
    "RF = RandomForestClassifier()\n",
    "RF.fit(X_train , y_train)\n",
    "RFprediction=RF.predict(X_test)\n",
    "RFprediction"
   ]
  },
  {
   "cell_type": "code",
   "execution_count": 13,
   "metadata": {},
   "outputs": [
    {
     "name": "stdout",
     "output_type": "stream",
     "text": [
      "              precision    recall  f1-score   support\n",
      "\n",
      "           0       0.90      0.94      0.92      4005\n",
      "           1       0.56      0.41      0.48       700\n",
      "\n",
      "    accuracy                           0.86      4705\n",
      "   macro avg       0.73      0.68      0.70      4705\n",
      "weighted avg       0.85      0.86      0.86      4705\n",
      "\n"
     ]
    }
   ],
   "source": [
    "print(classification_report( y_test ,RFprediction))"
   ]
  },
  {
   "cell_type": "markdown",
   "metadata": {},
   "source": [
    "Conclusion : sans equilibrer les données on a une accuracy score de :\n",
    "- 0.88 avec la logistic regression\n",
    "-  0.88 avec le XGboost\n",
    "- 0.86 avec le RandomForest\n",
    "\n",
    "on constate que la précision globale est assez élevé  0.86 \n",
    "et lorsqu'on rentre dans le détail on se rend compte que le rappel et que le f1 score sont assez faibles. \n",
    "Cette première étude nous a permis de comprendre le comportement des modèles.\n",
    "Nous allons désormais essayéé d'améliorer nos prédictions.\n",
    "\n",
    "D'où notre rééquilibrage de nos données \n"
   ]
  },
  {
   "cell_type": "markdown",
   "metadata": {},
   "source": [
    "## <a id='1'> <font size=\"6\"><center><font color=\"INDIANRED\">Equilibrer Les données</font>"
   ]
  },
  {
   "cell_type": "markdown",
   "metadata": {},
   "source": [
    "<br>Pour équilibrer nos données, on peut utiliser 3 methodes :\n",
    "- RandomOverSampling (création de données manquantes)\n",
    "- RandomUnderSampling (suppression de données surnuméraires)\n",
    "- Smote (création de données manquantes)"
   ]
  },
  {
   "cell_type": "markdown",
   "metadata": {},
   "source": [
    "# <center><font size=\"5\"><font color=Black>Over Sampling </font></center>"
   ]
  },
  {
   "cell_type": "code",
   "execution_count": 14,
   "metadata": {},
   "outputs": [
    {
     "name": "stdout",
     "output_type": "stream",
     "text": [
      "1    20212\n",
      "0    20212\n",
      "Name: bank_account, dtype: int64\n"
     ]
    },
    {
     "data": {
      "text/plain": [
       "<AxesSubplot:xlabel='bank_account', ylabel='count'>"
      ]
     },
     "execution_count": 14,
     "metadata": {},
     "output_type": "execute_result"
    },
    {
     "data": {
      "image/png": "[encoded data removed]",
      "text/plain": [
       "<Figure size 432x288 with 1 Axes>"
      ]
     },
     "metadata": {},
     "output_type": "display_data"
    }
   ],
   "source": [
    "ovr = RandomOverSampler()\n",
    "X_ovr, y_ovr = ovr.fit_sample(X, y)\n",
    "print(y_ovr.value_counts())\n",
    "sns.countplot(y_ovr ,palette = \"Set2\")"
   ]
  },
  {
   "cell_type": "markdown",
   "metadata": {},
   "source": [
    "## <a id='2'> <font size=\"4\"><font color=\"black\"> Split des données  équilibrés avec Oversampling </font>\n"
   ]
  },
  {
   "cell_type": "code",
   "execution_count": 15,
   "metadata": {},
   "outputs": [],
   "source": [
    "X_train, X_test, y_train, y_test = train_test_split(X_ovr, y_ovr, train_size=0.8)"
   ]
  },
  {
   "cell_type": "markdown",
   "metadata": {},
   "source": [
    "## <a id='2'> <font size=\"4\"><font color=\"black\"> Logistic Regression </font>\n"
   ]
  },
  {
   "cell_type": "code",
   "execution_count": 16,
   "metadata": {},
   "outputs": [
    {
     "data": {
      "text/plain": [
       "array([0, 0, 0, ..., 0, 0, 1], dtype=int64)"
      ]
     },
     "execution_count": 16,
     "metadata": {},
     "output_type": "execute_result"
    }
   ],
   "source": [
    "lr_ovr=LogisticRegression(max_iter = 100000)\n",
    "lr_ovr.fit(X_train,y_train)\n",
    "prediction_ovr = lr_ovr.predict(X_test)\n",
    "prediction_ovr"
   ]
  },
  {
   "cell_type": "code",
   "execution_count": 17,
   "metadata": {},
   "outputs": [
    {
     "name": "stdout",
     "output_type": "stream",
     "text": [
      "              precision    recall  f1-score   support\n",
      "\n",
      "           0       0.76      0.81      0.78      4011\n",
      "           1       0.80      0.75      0.77      4074\n",
      "\n",
      "    accuracy                           0.78      8085\n",
      "   macro avg       0.78      0.78      0.78      8085\n",
      "weighted avg       0.78      0.78      0.78      8085\n",
      "\n"
     ]
    }
   ],
   "source": [
    "print(classification_report( y_test ,prediction_ovr))"
   ]
  },
  {
   "cell_type": "markdown",
   "metadata": {},
   "source": [
    "## <a id='2'> <font size=\"4\"><font color=\"black\"> XGBOOST </font>\n"
   ]
  },
  {
   "cell_type": "code",
   "execution_count": 18,
   "metadata": {},
   "outputs": [
    {
     "data": {
      "text/plain": [
       "array([0, 0, 1, ..., 0, 0, 1], dtype=int64)"
      ]
     },
     "execution_count": 18,
     "metadata": {},
     "output_type": "execute_result"
    }
   ],
   "source": [
    "XG_ovr=XGBClassifier()\n",
    "XG_ovr.fit(X_train , y_train)\n",
    "XGprediction_ovr=XG_ovr.predict(X_test)\n",
    "XGprediction_ovr"
   ]
  },
  {
   "cell_type": "code",
   "execution_count": 19,
   "metadata": {},
   "outputs": [
    {
     "name": "stdout",
     "output_type": "stream",
     "text": [
      "              precision    recall  f1-score   support\n",
      "\n",
      "           0       0.87      0.83      0.85      4011\n",
      "           1       0.84      0.88      0.86      4074\n",
      "\n",
      "    accuracy                           0.86      8085\n",
      "   macro avg       0.86      0.86      0.86      8085\n",
      "weighted avg       0.86      0.86      0.86      8085\n",
      "\n"
     ]
    }
   ],
   "source": [
    "print(classification_report( y_test ,XGprediction_ovr))"
   ]
  },
  {
   "cell_type": "markdown",
   "metadata": {},
   "source": [
    "## <a id='2'> <font size=\"4\"><font color=\"black\"> Random Forest </font>\n"
   ]
  },
  {
   "cell_type": "code",
   "execution_count": 20,
   "metadata": {},
   "outputs": [
    {
     "data": {
      "text/plain": [
       "array([0, 0, 1, ..., 0, 0, 1], dtype=int64)"
      ]
     },
     "execution_count": 20,
     "metadata": {},
     "output_type": "execute_result"
    }
   ],
   "source": [
    "RF_ovr = RandomForestClassifier()\n",
    "RF_ovr.fit(X_train , y_train)\n",
    "RFprediction_ovr=RF.predict(X_test)\n",
    "RFprediction_ovr"
   ]
  },
  {
   "cell_type": "code",
   "execution_count": 21,
   "metadata": {},
   "outputs": [
    {
     "name": "stdout",
     "output_type": "stream",
     "text": [
      "              precision    recall  f1-score   support\n",
      "\n",
      "           0       0.83      0.99      0.90      4011\n",
      "           1       0.98      0.80      0.88      4074\n",
      "\n",
      "    accuracy                           0.89      8085\n",
      "   macro avg       0.91      0.89      0.89      8085\n",
      "weighted avg       0.91      0.89      0.89      8085\n",
      "\n"
     ]
    }
   ],
   "source": [
    "print(classification_report( y_test ,RFprediction_ovr))"
   ]
  },
  {
   "cell_type": "markdown",
   "metadata": {},
   "source": [
    "Conclusion : avec L'oversampling on a eu une accuracy :\n",
    "- 0.76 avec la logistic regression\n",
    "- 0.84 avec le XGboost\n",
    "- 0.89 avec le RandomForest\n",
    "\n",
    "\n",
    "Nous avons de meilleurs résultats avec le modèle RandomForestClassifier"
   ]
  },
  {
   "cell_type": "markdown",
   "metadata": {},
   "source": [
    "# <center><font size=\"5\"><font color=Black>Under Sampling </font></center>"
   ]
  },
  {
   "cell_type": "code",
   "execution_count": 22,
   "metadata": {},
   "outputs": [
    {
     "name": "stdout",
     "output_type": "stream",
     "text": [
      "1    3312\n",
      "0    3312\n",
      "Name: bank_account, dtype: int64\n"
     ]
    },
    {
     "data": {
      "text/plain": [
       "<AxesSubplot:xlabel='bank_account', ylabel='count'>"
      ]
     },
     "execution_count": 22,
     "metadata": {},
     "output_type": "execute_result"
    },
    {
     "data": {
      "image/png": "[encoded data removed]",
      "text/plain": [
       "<Figure size 432x288 with 1 Axes>"
      ]
     },
     "metadata": {},
     "output_type": "display_data"
    }
   ],
   "source": [
    "udr = RandomUnderSampler()\n",
    "X_udr, y_udr = udr.fit_sample(X, y)\n",
    "print(y_udr.value_counts())\n",
    "sns.countplot(y_udr ,palette = \"Set2\")"
   ]
  },
  {
   "cell_type": "markdown",
   "metadata": {},
   "source": [
    "## <a id='2'> <font size=\"4\"><font color=\"black\"> Split des données  équilibrés avec Undersampling </font>\n"
   ]
  },
  {
   "cell_type": "code",
   "execution_count": 23,
   "metadata": {},
   "outputs": [],
   "source": [
    "X_train, X_test, y_train, y_test = train_test_split(X_udr, y_udr, train_size=0.8)"
   ]
  },
  {
   "cell_type": "markdown",
   "metadata": {},
   "source": [
    "## <a id='2'> <font size=\"4\"><font color=\"black\"> Logistic Regression </font>\n"
   ]
  },
  {
   "cell_type": "code",
   "execution_count": 24,
   "metadata": {},
   "outputs": [
    {
     "data": {
      "text/plain": [
       "array([0, 1, 0, ..., 0, 0, 0], dtype=int64)"
      ]
     },
     "execution_count": 24,
     "metadata": {},
     "output_type": "execute_result"
    }
   ],
   "source": [
    "lr_udr=LogisticRegression(max_iter = 100000)\n",
    "lr_udr.fit(X_train,y_train)\n",
    "prediction_udr = lr_udr.predict(X_test)\n",
    "prediction_udr"
   ]
  },
  {
   "cell_type": "code",
   "execution_count": 25,
   "metadata": {},
   "outputs": [
    {
     "name": "stdout",
     "output_type": "stream",
     "text": [
      "              precision    recall  f1-score   support\n",
      "\n",
      "           0       0.76      0.81      0.78       668\n",
      "           1       0.79      0.74      0.76       657\n",
      "\n",
      "    accuracy                           0.77      1325\n",
      "   macro avg       0.77      0.77      0.77      1325\n",
      "weighted avg       0.77      0.77      0.77      1325\n",
      "\n"
     ]
    }
   ],
   "source": [
    "print(classification_report( y_test ,prediction_udr))"
   ]
  },
  {
   "cell_type": "markdown",
   "metadata": {},
   "source": [
    "## <a id='2'> <font size=\"4\"><font color=\"black\"> XGBOOST </font>\n"
   ]
  },
  {
   "cell_type": "code",
   "execution_count": 26,
   "metadata": {},
   "outputs": [
    {
     "data": {
      "text/plain": [
       "array([0, 1, 0, ..., 0, 0, 0], dtype=int64)"
      ]
     },
     "execution_count": 26,
     "metadata": {},
     "output_type": "execute_result"
    }
   ],
   "source": [
    "XG_udr=XGBClassifier()\n",
    "XG_udr.fit(X_train , y_train)\n",
    "XGprediction_udr=XG_udr.predict(X_test)\n",
    "XGprediction_udr"
   ]
  },
  {
   "cell_type": "code",
   "execution_count": 27,
   "metadata": {},
   "outputs": [
    {
     "name": "stdout",
     "output_type": "stream",
     "text": [
      "              precision    recall  f1-score   support\n",
      "\n",
      "           0       0.75      0.77      0.76       668\n",
      "           1       0.76      0.74      0.75       657\n",
      "\n",
      "    accuracy                           0.76      1325\n",
      "   macro avg       0.76      0.76      0.76      1325\n",
      "weighted avg       0.76      0.76      0.76      1325\n",
      "\n"
     ]
    }
   ],
   "source": [
    "print(classification_report( y_test ,XGprediction_udr))"
   ]
  },
  {
   "cell_type": "markdown",
   "metadata": {},
   "source": [
    "## <a id='2'> <font size=\"4\"><font color=\"black\"> Random Forest </font>\n"
   ]
  },
  {
   "cell_type": "code",
   "execution_count": 28,
   "metadata": {},
   "outputs": [
    {
     "data": {
      "text/plain": [
       "array([0, 1, 0, ..., 0, 0, 1], dtype=int64)"
      ]
     },
     "execution_count": 28,
     "metadata": {},
     "output_type": "execute_result"
    }
   ],
   "source": [
    "RF_udr = RandomForestClassifier()\n",
    "RF_udr.fit(X_train , y_train)\n",
    "RFprediction_udr=RF_udr.predict(X_test)\n",
    "RFprediction_udr"
   ]
  },
  {
   "cell_type": "code",
   "execution_count": 29,
   "metadata": {},
   "outputs": [
    {
     "name": "stdout",
     "output_type": "stream",
     "text": [
      "              precision    recall  f1-score   support\n",
      "\n",
      "           0       0.74      0.75      0.75       668\n",
      "           1       0.74      0.73      0.74       657\n",
      "\n",
      "    accuracy                           0.74      1325\n",
      "   macro avg       0.74      0.74      0.74      1325\n",
      "weighted avg       0.74      0.74      0.74      1325\n",
      "\n"
     ]
    }
   ],
   "source": [
    "print(classification_report( y_test ,RFprediction_udr))"
   ]
  },
  {
   "cell_type": "markdown",
   "metadata": {},
   "source": [
    "Conclusion : avec L'undersampling on a eu une accuracy :\n",
    "- 0.75 avec la logistic regression\n",
    "- 0.77  avec le XGboost\n",
    "- 0.75 avec le RandomForest\n",
    "\n",
    "Notre précision globale a diminué en revanche,\n",
    "Nous avons le rappel  et f1 score qui ont augmenté"
   ]
  },
  {
   "cell_type": "markdown",
   "metadata": {},
   "source": [
    "# <center><font size=\"5\"><font color=Black>Smote </font></center>"
   ]
  },
  {
   "cell_type": "code",
   "execution_count": 30,
   "metadata": {},
   "outputs": [
    {
     "name": "stdout",
     "output_type": "stream",
     "text": [
      "1    20212\n",
      "0    20212\n",
      "Name: bank_account, dtype: int64\n"
     ]
    },
    {
     "data": {
      "text/plain": [
       "<AxesSubplot:xlabel='bank_account', ylabel='count'>"
      ]
     },
     "execution_count": 30,
     "metadata": {},
     "output_type": "execute_result"
    },
    {
     "data": {
      "image/png": "[encoded data removed]",
      "text/plain": [
       "<Figure size 432x288 with 1 Axes>"
      ]
     },
     "metadata": {},
     "output_type": "display_data"
    }
   ],
   "source": [
    "smote = SMOTE()\n",
    "X_smote, y_smote = smote.fit_sample(X, y)\n",
    "print(y_smote.value_counts())\n",
    "sns.countplot(y_smote ,palette = \"Set2\")"
   ]
  },
  {
   "cell_type": "markdown",
   "metadata": {},
   "source": [
    "## <a id='2'> <font size=\"4\"><font color=\"black\"> Split des données  équilibrés avec Smote </font>\n"
   ]
  },
  {
   "cell_type": "code",
   "execution_count": 31,
   "metadata": {},
   "outputs": [],
   "source": [
    "X_train, X_test, y_train, y_test = train_test_split(X_smote, y_smote, train_size=0.8)"
   ]
  },
  {
   "cell_type": "markdown",
   "metadata": {},
   "source": [
    "## <a id='2'> <font size=\"4\"><font color=\"black\"> Logistic Regression </font>\n"
   ]
  },
  {
   "cell_type": "code",
   "execution_count": 32,
   "metadata": {},
   "outputs": [
    {
     "data": {
      "text/plain": [
       "array([1, 1, 1, ..., 1, 1, 1], dtype=int64)"
      ]
     },
     "execution_count": 32,
     "metadata": {},
     "output_type": "execute_result"
    }
   ],
   "source": [
    "lr_smote=LogisticRegression(max_iter = 100000)\n",
    "lr_smote.fit(X_train,y_train)\n",
    "prediction_smote = lr_smote.predict(X_test)\n",
    "prediction_smote"
   ]
  },
  {
   "cell_type": "code",
   "execution_count": 33,
   "metadata": {},
   "outputs": [
    {
     "name": "stdout",
     "output_type": "stream",
     "text": [
      "              precision    recall  f1-score   support\n",
      "\n",
      "           0       0.85      0.94      0.89      4051\n",
      "           1       0.93      0.83      0.88      4034\n",
      "\n",
      "    accuracy                           0.88      8085\n",
      "   macro avg       0.89      0.88      0.88      8085\n",
      "weighted avg       0.89      0.88      0.88      8085\n",
      "\n"
     ]
    }
   ],
   "source": [
    "print(classification_report( y_test ,prediction_smote))"
   ]
  },
  {
   "cell_type": "markdown",
   "metadata": {},
   "source": [
    "## <a id='2'> <font size=\"4\"><font color=\"black\"> XGBOOST </font>\n"
   ]
  },
  {
   "cell_type": "code",
   "execution_count": 34,
   "metadata": {},
   "outputs": [
    {
     "data": {
      "text/plain": [
       "array([1, 1, 1, ..., 1, 1, 0], dtype=int64)"
      ]
     },
     "execution_count": 34,
     "metadata": {},
     "output_type": "execute_result"
    }
   ],
   "source": [
    "XG_smote=XGBClassifier()\n",
    "XG_smote.fit(X_train , y_train)\n",
    "XGprediction_smote=XG_smote.predict(X_test)\n",
    "XGprediction_smote"
   ]
  },
  {
   "cell_type": "code",
   "execution_count": 35,
   "metadata": {},
   "outputs": [
    {
     "name": "stdout",
     "output_type": "stream",
     "text": [
      "              precision    recall  f1-score   support\n",
      "\n",
      "           0       0.88      0.92      0.90      4051\n",
      "           1       0.92      0.88      0.90      4034\n",
      "\n",
      "    accuracy                           0.90      8085\n",
      "   macro avg       0.90      0.90      0.90      8085\n",
      "weighted avg       0.90      0.90      0.90      8085\n",
      "\n"
     ]
    }
   ],
   "source": [
    "print(classification_report( y_test ,XGprediction_smote))"
   ]
  },
  {
   "cell_type": "markdown",
   "metadata": {},
   "source": [
    "## <a id='2'> <font size=\"4\"><font color=\"black\"> Random Forest </font>\n"
   ]
  },
  {
   "cell_type": "code",
   "execution_count": 40,
   "metadata": {},
   "outputs": [],
   "source": [
    "RF_smote = RandomForestClassifier()\n",
    "RANDOMSMOTE=RF_smote.fit(X_train , y_train)\n",
    "RFprediction_smote=RF_smote.predict(X_test)\n",
    "RFprediction_smote\n",
    "rf = RFprediction_smote\n"
   ]
  },
  {
   "cell_type": "code",
   "execution_count": 41,
   "metadata": {},
   "outputs": [
    {
     "name": "stdout",
     "output_type": "stream",
     "text": [
      "              precision    recall  f1-score   support\n",
      "\n",
      "           0       0.92      0.91      0.91      4051\n",
      "           1       0.91      0.92      0.91      4034\n",
      "\n",
      "    accuracy                           0.91      8085\n",
      "   macro avg       0.91      0.91      0.91      8085\n",
      "weighted avg       0.91      0.91      0.91      8085\n",
      "\n"
     ]
    }
   ],
   "source": [
    "print(classification_report( y_test ,RFprediction_smote))"
   ]
  },
  {
   "cell_type": "markdown",
   "metadata": {},
   "source": [
    "Conclusion : avec L'ovesampling on a eu une accuracy :\n",
    "- 0.88 avec la logistic regression\n",
    "- 0.90  avec le XGboost\n",
    "- 0.91 avec le RandomForest"
   ]
  },
  {
   "cell_type": "markdown",
   "metadata": {},
   "source": [
    "<font color=\"Red\">dans notre cas on regarde plutot l'accuracy ou le F1_Score parceque le but de ce projet n'est pas maximiser ou minimiser l'accuracy de l'une des categories (0 ou 1) "
   ]
  },
  {
   "cell_type": "markdown",
   "metadata": {},
   "source": [
    "<font color=\"Red\">donc parmi les modèles qu'on a utilisé on trouve que le RandomForest avec Smote a l'accuracy la plus élevé "
   ]
  },
  {
   "cell_type": "markdown",
   "metadata": {},
   "source": [
    "Après avoir effectué un rééquilibrage de données de 3 façons différentes nous constatons à chaque fois ,\n",
    "une amélioration de nos metrics F1_score, rappel, précision, malgré une diminution de la précision globale pour la plupart\n",
    "\n",
    "Notre choix c'est porté sur le smote qui offre de meilleures performances en générale.\n",
    "Les algorithmes sont plus ou moins égaux en terme de résultat, mais noous choisirons le modèle randomforest"
   ]
  },
  {
   "cell_type": "code",
   "execution_count": 38,
   "metadata": {},
   "outputs": [
    {
     "data": {
      "image/png": "[encoded data removed]",
      "text/plain": [
       "<Figure size 216x216 with 1 Axes>"
      ]
     },
     "metadata": {},
     "output_type": "display_data"
    }
   ],
   "source": [
    "#le heatmap de l'algorithme choisit!!\n",
    "plt.figure(figsize = (3,3))\n",
    "sns.heatmap(confusion_matrix(y_test, RFprediction_smote), annot=True, cbar=False);"
   ]
  },
  {
   "cell_type": "markdown",
   "metadata": {},
   "source": [
    "Nous obtenons les résultats suivants :\n",
    "- En 0/0 les vrais négatifs\n",
    "- En 0/1 les faux négatifs \n",
    "- En 1/0 les faux positifs \n",
    "- En 1/1 les  vrais positifs "
   ]
  },
  {
   "cell_type": "code",
   "execution_count": 39,
   "metadata": {},
   "outputs": [],
   "source": [
    "# déploiement du modèle\n",
    "import pickle\n",
    "\n",
    "Pkl_Filename = \"finance.pkl\"  \n",
    "\n",
    "with open(Pkl_Filename, 'wb') as file:\n",
    " pickle.dump(RANDOMSMOTE, file)"
   ]
  },
  {
   "cell_type": "code",
   "execution_count": 43,
   "metadata": {},
   "outputs": [
    {
     "data": {
      "text/plain": [
       "['model.pkl']"
      ]
     },
     "execution_count": 43,
     "metadata": {},
     "output_type": "execute_result"
    }
   ],
   "source": [
    "import joblib\n",
    "joblib.dump(rf, 'model.pkl')"
   ]
  },
  {
   "cell_type": "code",
   "execution_count": 44,
   "metadata": {},
   "outputs": [],
   "source": [
    "rf = joblib.load('model.pkl')"
   ]
  },
  {
   "cell_type": "code",
   "execution_count": 46,
   "metadata": {},
   "outputs": [
    {
     "name": "stdout",
     "output_type": "stream",
     "text": [
      "Models columns dumped!\n"
     ]
    }
   ],
   "source": [
    "# Saving the data columns from training\n",
    "model_columns = list(X_train.columns)\n",
    "joblib.dump(model_columns, 'model_columns.pkl')\n",
    "print(\"Models columns dumped!\")"
   ]
  },
  {
   "cell_type": "code",
   "execution_count": null,
   "metadata": {},
   "outputs": [],
   "source": []
  }
 ],
 "metadata": {
  "kernelspec": {
   "display_name": "Python 3",
   "language": "python",
   "name": "python3"
  },
  "language_info": {
   "codemirror_mode": {
    "name": "ipython",
    "version": 3
   },
   "file_extension": ".py",
   "mimetype": "text/x-python",
   "name": "python",
   "nbconvert_exporter": "python",
   "pygments_lexer": "ipython3",
   "version": "3.7.6"
  }
 },
 "nbformat": 4,
 "nbformat_minor": 4
}
