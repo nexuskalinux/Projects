{
 "cells": [
  {
   "cell_type": "markdown",
   "metadata": {
    "colab_type": "text",
    "id": "fSl95NHa4Mi3"
   },
   "source": [
    "# Game of Thrones\n",
    "\n",
    "Are you a fan of the Game of Thrones series? Let's test it. Let's use the API : [https://anapioficeandfire.com/](https://anapioficeandfire.com/) to find out more about the series"
   ]
  },
  {
   "cell_type": "markdown",
   "metadata": {
    "colab_type": "text",
    "id": "vPJWhqcB7bbs"
   },
   "source": [
    "4. Create a loop to extract data from the first 150 characters of the series and add them to your DataFrame."
   ]
  },
  {
   "cell_type": "code",
   "execution_count": null,
   "metadata": {},
   "outputs": [],
   "source": []
  },
  {
   "cell_type": "markdown",
   "metadata": {
    "colab_type": "text",
    "id": "eQovpyB74PWH"
   },
   "source": [
    "0. Import the following libraries: \n",
    "\n",
    "      * ```requests```\n",
    "      * ```pandas```\n",
    "      * ```json```"
   ]
  },
  {
   "cell_type": "code",
   "execution_count": 1,
   "metadata": {},
   "outputs": [],
   "source": [
    "import requests\n",
    "import pandas as pd\n",
    "from PIL import Image\n",
    "from io import BytesIO\n",
    "import json"
   ]
  },
  {
   "cell_type": "markdown",
   "metadata": {
    "colab_type": "text",
    "id": "sqtBTZQH4f8X"
   },
   "source": [
    "1. Go to the URL indicated in the description above. Using requests, get data on a character in the series. It doesn't matter who the character is"
   ]
  },
  {
   "cell_type": "code",
   "execution_count": 2,
   "metadata": {},
   "outputs": [
    {
     "data": {
      "text/plain": [
       "b'{\"url\":\"https://anapioficeandfire.com/api/characters/2\",\"name\":\"Walder\",\"gender\":\"Male\",\"culture\":\"\",\"born\":\"\",\"died\":\"\",\"titles\":[\"\"],\"aliases\":[\"Hodor\"],\"father\":\"\",\"mother\":\"\",\"spouse\":\"\",\"allegiances\":[\"https://anapioficeandfire.com/api/houses/362\"],\"books\":[\"https://anapioficeandfire.com/api/books/1\",\"https://anapioficeandfire.com/api/books/2\",\"https://anapioficeandfire.com/api/books/3\",\"https://anapioficeandfire.com/api/books/5\",\"https://anapioficeandfire.com/api/books/8\"],\"povBooks\":[],\"tvSeries\":[\"Season 1\",\"Season 2\",\"Season 3\",\"Season 4\",\"Season 6\"],\"playedBy\":[\"Kristian Nairn\"]}'"
      ]
     },
     "execution_count": 2,
     "metadata": {},
     "output_type": "execute_result"
    }
   ],
   "source": [
    "r = requests.get('https://anapioficeandfire.com/api/characters/2')\n",
    "r.content"
   ]
  },
  {
   "cell_type": "markdown",
   "metadata": {
    "colab_type": "text",
    "id": "2S-Rci2j45lQ"
   },
   "source": [
    "2. Extract these data in JSON format."
   ]
  },
  {
   "cell_type": "code",
   "execution_count": 3,
   "metadata": {},
   "outputs": [
    {
     "data": {
      "text/plain": [
       "{'url': 'https://anapioficeandfire.com/api/characters/2',\n",
       " 'name': 'Walder',\n",
       " 'gender': 'Male',\n",
       " 'culture': '',\n",
       " 'born': '',\n",
       " 'died': '',\n",
       " 'titles': [''],\n",
       " 'aliases': ['Hodor'],\n",
       " 'father': '',\n",
       " 'mother': '',\n",
       " 'spouse': '',\n",
       " 'allegiances': ['https://anapioficeandfire.com/api/houses/362'],\n",
       " 'books': ['https://anapioficeandfire.com/api/books/1',\n",
       "  'https://anapioficeandfire.com/api/books/2',\n",
       "  'https://anapioficeandfire.com/api/books/3',\n",
       "  'https://anapioficeandfire.com/api/books/5',\n",
       "  'https://anapioficeandfire.com/api/books/8'],\n",
       " 'povBooks': [],\n",
       " 'tvSeries': ['Season 1', 'Season 2', 'Season 3', 'Season 4', 'Season 6'],\n",
       " 'playedBy': ['Kristian Nairn']}"
      ]
     },
     "execution_count": 3,
     "metadata": {},
     "output_type": "execute_result"
    }
   ],
   "source": [
    "r.json()"
   ]
  },
  {
   "cell_type": "markdown",
   "metadata": {
    "colab_type": "text",
    "id": "PucGBhae4_NN"
   },
   "source": [
    "3. Now extract the JSON keys you have obtained and create a DataFrame that will have the JSON keys you extracted as a column.\n",
    "\n",
    "        * Hint, we can use:\n",
    "\n",
    "  ```\n",
    "  r.json().keys()\n",
    "  ```"
   ]
  },
  {
   "cell_type": "code",
   "execution_count": 4,
   "metadata": {},
   "outputs": [
    {
     "data": {
      "text/plain": [
       "dict_keys(['url', 'name', 'gender', 'culture', 'born', 'died', 'titles', 'aliases', 'father', 'mother', 'spouse', 'allegiances', 'books', 'povBooks', 'tvSeries', 'playedBy'])"
      ]
     },
     "execution_count": 4,
     "metadata": {},
     "output_type": "execute_result"
    }
   ],
   "source": [
    "r.json().keys()"
   ]
  },
  {
   "cell_type": "code",
   "execution_count": 5,
   "metadata": {},
   "outputs": [
    {
     "data": {
      "text/html": [
       "<div>\n",
       "<style scoped>\n",
       "    .dataframe tbody tr th:only-of-type {\n",
       "        vertical-align: middle;\n",
       "    }\n",
       "\n",
       "    .dataframe tbody tr th {\n",
       "        vertical-align: top;\n",
       "    }\n",
       "\n",
       "    .dataframe thead th {\n",
       "        text-align: right;\n",
       "    }\n",
       "</style>\n",
       "<table border=\"1\" class=\"dataframe\">\n",
       "  <thead>\n",
       "    <tr style=\"text-align: right;\">\n",
       "      <th></th>\n",
       "      <th>url</th>\n",
       "      <th>name</th>\n",
       "      <th>gender</th>\n",
       "      <th>culture</th>\n",
       "      <th>born</th>\n",
       "      <th>died</th>\n",
       "      <th>titles</th>\n",
       "      <th>aliases</th>\n",
       "      <th>father</th>\n",
       "      <th>mother</th>\n",
       "      <th>spouse</th>\n",
       "      <th>allegiances</th>\n",
       "      <th>books</th>\n",
       "      <th>povBooks</th>\n",
       "      <th>tvSeries</th>\n",
       "      <th>playedBy</th>\n",
       "    </tr>\n",
       "  </thead>\n",
       "  <tbody>\n",
       "  </tbody>\n",
       "</table>\n",
       "</div>"
      ],
      "text/plain": [
       "Empty DataFrame\n",
       "Columns: [url, name, gender, culture, born, died, titles, aliases, father, mother, spouse, allegiances, books, povBooks, tvSeries, playedBy]\n",
       "Index: []"
      ]
     },
     "execution_count": 5,
     "metadata": {},
     "output_type": "execute_result"
    }
   ],
   "source": [
    "import pandas as pd\n",
    "\n",
    "df = pd.DataFrame(columns = r.json().keys())\n",
    "df"
   ]
  },
  {
   "cell_type": "code",
   "execution_count": null,
   "metadata": {},
   "outputs": [],
   "source": []
  },
  {
   "cell_type": "code",
   "execution_count": null,
   "metadata": {},
   "outputs": [],
   "source": []
  },
  {
   "cell_type": "raw",
   "metadata": {},
   "source": [
    "4.    Create a loop to extract data from the first 150 characters of the series and add them to your DataFrame."
   ]
  },
  {
   "cell_type": "code",
   "execution_count": 6,
   "metadata": {},
   "outputs": [
    {
     "data": {
      "text/plain": [
       "[{'url': 'https://anapioficeandfire.com/api/characters/1',\n",
       "  'name': '',\n",
       "  'gender': 'Female',\n",
       "  'culture': 'Braavosi',\n",
       "  'born': '',\n",
       "  'died': '',\n",
       "  'titles': [''],\n",
       "  'aliases': ['The Daughter of the Dusk'],\n",
       "  'father': '',\n",
       "  'mother': '',\n",
       "  'spouse': '',\n",
       "  'allegiances': [],\n",
       "  'books': ['https://anapioficeandfire.com/api/books/5'],\n",
       "  'povBooks': [],\n",
       "  'tvSeries': [''],\n",
       "  'playedBy': ['']},\n",
       " {'url': 'https://anapioficeandfire.com/api/characters/2',\n",
       "  'name': 'Walder',\n",
       "  'gender': 'Male',\n",
       "  'culture': '',\n",
       "  'born': '',\n",
       "  'died': '',\n",
       "  'titles': [''],\n",
       "  'aliases': ['Hodor'],\n",
       "  'father': '',\n",
       "  'mother': '',\n",
       "  'spouse': '',\n",
       "  'allegiances': ['https://anapioficeandfire.com/api/houses/362'],\n",
       "  'books': ['https://anapioficeandfire.com/api/books/1',\n",
       "   'https://anapioficeandfire.com/api/books/2',\n",
       "   'https://anapioficeandfire.com/api/books/3',\n",
       "   'https://anapioficeandfire.com/api/books/5',\n",
       "   'https://anapioficeandfire.com/api/books/8'],\n",
       "  'povBooks': [],\n",
       "  'tvSeries': ['Season 1', 'Season 2', 'Season 3', 'Season 4', 'Season 6'],\n",
       "  'playedBy': ['Kristian Nairn']},\n",
       " {'url': 'https://anapioficeandfire.com/api/characters/3',\n",
       "  'name': '',\n",
       "  'gender': 'Male',\n",
       "  'culture': '',\n",
       "  'born': '',\n",
       "  'died': '',\n",
       "  'titles': [''],\n",
       "  'aliases': ['Lamprey'],\n",
       "  'father': '',\n",
       "  'mother': '',\n",
       "  'spouse': '',\n",
       "  'allegiances': ['https://anapioficeandfire.com/api/houses/15'],\n",
       "  'books': ['https://anapioficeandfire.com/api/books/3'],\n",
       "  'povBooks': [],\n",
       "  'tvSeries': [''],\n",
       "  'playedBy': ['']},\n",
       " {'url': 'https://anapioficeandfire.com/api/characters/4',\n",
       "  'name': '',\n",
       "  'gender': 'Female',\n",
       "  'culture': 'Braavosi',\n",
       "  'born': '',\n",
       "  'died': '',\n",
       "  'titles': [''],\n",
       "  'aliases': ['The Merling Queen'],\n",
       "  'father': '',\n",
       "  'mother': '',\n",
       "  'spouse': '',\n",
       "  'allegiances': [],\n",
       "  'books': ['https://anapioficeandfire.com/api/books/5',\n",
       "   'https://anapioficeandfire.com/api/books/8'],\n",
       "  'povBooks': [],\n",
       "  'tvSeries': [''],\n",
       "  'playedBy': ['']},\n",
       " {'url': 'https://anapioficeandfire.com/api/characters/5',\n",
       "  'name': '',\n",
       "  'gender': 'Male',\n",
       "  'culture': '',\n",
       "  'born': '',\n",
       "  'died': '',\n",
       "  'titles': [''],\n",
       "  'aliases': ['Old Crackbones'],\n",
       "  'father': '',\n",
       "  'mother': '',\n",
       "  'spouse': '',\n",
       "  'allegiances': [],\n",
       "  'books': ['https://anapioficeandfire.com/api/books/5'],\n",
       "  'povBooks': [],\n",
       "  'tvSeries': [''],\n",
       "  'playedBy': ['']},\n",
       " {'url': 'https://anapioficeandfire.com/api/characters/6',\n",
       "  'name': '',\n",
       "  'gender': 'Female',\n",
       "  'culture': 'Braavosi',\n",
       "  'born': '',\n",
       "  'died': '',\n",
       "  'titles': [''],\n",
       "  'aliases': ['The Poetess'],\n",
       "  'father': '',\n",
       "  'mother': '',\n",
       "  'spouse': '',\n",
       "  'allegiances': [],\n",
       "  'books': ['https://anapioficeandfire.com/api/books/5'],\n",
       "  'povBooks': [],\n",
       "  'tvSeries': [''],\n",
       "  'playedBy': ['']},\n",
       " {'url': 'https://anapioficeandfire.com/api/characters/7',\n",
       "  'name': '',\n",
       "  'gender': 'Female',\n",
       "  'culture': '',\n",
       "  'born': '',\n",
       "  'died': '',\n",
       "  'titles': [''],\n",
       "  'aliases': ['Porridge'],\n",
       "  'father': '',\n",
       "  'mother': '',\n",
       "  'spouse': '',\n",
       "  'allegiances': ['https://anapioficeandfire.com/api/houses/15'],\n",
       "  'books': ['https://anapioficeandfire.com/api/books/3'],\n",
       "  'povBooks': [],\n",
       "  'tvSeries': [''],\n",
       "  'playedBy': ['']},\n",
       " {'url': 'https://anapioficeandfire.com/api/characters/8',\n",
       "  'name': '',\n",
       "  'gender': 'Male',\n",
       "  'culture': '',\n",
       "  'born': '',\n",
       "  'died': '',\n",
       "  'titles': [''],\n",
       "  'aliases': ['Quickfinger'],\n",
       "  'father': '',\n",
       "  'mother': '',\n",
       "  'spouse': '',\n",
       "  'allegiances': ['https://anapioficeandfire.com/api/houses/23'],\n",
       "  'books': ['https://anapioficeandfire.com/api/books/6'],\n",
       "  'povBooks': [],\n",
       "  'tvSeries': [''],\n",
       "  'playedBy': ['']},\n",
       " {'url': 'https://anapioficeandfire.com/api/characters/9',\n",
       "  'name': '',\n",
       "  'gender': 'Female',\n",
       "  'culture': '',\n",
       "  'born': '',\n",
       "  'died': '',\n",
       "  'titles': [''],\n",
       "  'aliases': [\"the Sailor's Wife\"],\n",
       "  'father': '',\n",
       "  'mother': '',\n",
       "  'spouse': '',\n",
       "  'allegiances': [],\n",
       "  'books': ['https://anapioficeandfire.com/api/books/5'],\n",
       "  'povBooks': [],\n",
       "  'tvSeries': [''],\n",
       "  'playedBy': ['']},\n",
       " {'url': 'https://anapioficeandfire.com/api/characters/10',\n",
       "  'name': '',\n",
       "  'gender': 'Female',\n",
       "  'culture': 'Braavosi',\n",
       "  'born': '',\n",
       "  'died': '',\n",
       "  'titles': [''],\n",
       "  'aliases': ['The Veiled Lady'],\n",
       "  'father': '',\n",
       "  'mother': '',\n",
       "  'spouse': '',\n",
       "  'allegiances': [],\n",
       "  'books': ['https://anapioficeandfire.com/api/books/5'],\n",
       "  'povBooks': [],\n",
       "  'tvSeries': [''],\n",
       "  'playedBy': ['']}]"
      ]
     },
     "execution_count": 6,
     "metadata": {},
     "output_type": "execute_result"
    }
   ],
   "source": [
    "data = requests.get('https://anapioficeandfire.com/api/characters/').json()\n",
    "data"
   ]
  },
  {
   "cell_type": "code",
   "execution_count": 7,
   "metadata": {},
   "outputs": [
    {
     "data": {
      "text/plain": [
       "list"
      ]
     },
     "execution_count": 7,
     "metadata": {},
     "output_type": "execute_result"
    }
   ],
   "source": [
    "type(data)"
   ]
  },
  {
   "cell_type": "code",
   "execution_count": null,
   "metadata": {},
   "outputs": [],
   "source": []
  },
  {
   "cell_type": "code",
   "execution_count": 8,
   "metadata": {},
   "outputs": [],
   "source": [
    "a = json.dumps(data)"
   ]
  },
  {
   "cell_type": "code",
   "execution_count": 9,
   "metadata": {},
   "outputs": [],
   "source": [
    "b = json.loads(a)"
   ]
  },
  {
   "cell_type": "code",
   "execution_count": 10,
   "metadata": {},
   "outputs": [],
   "source": [
    "# en mode fonction\n",
    "def url_increment(counter, dicts, nb_of_line):\n",
    "    while counter <= nb_of_line:\n",
    "      data2 = requests.get('https://anapioficeandfire.com/api/characters/%d'% counter).json()\n",
    "      dicts[counter] = data2\n",
    "      print(counter, 'personne done')\n",
    "      counter += 1"
   ]
  },
  {
   "cell_type": "code",
   "execution_count": 11,
   "metadata": {},
   "outputs": [
    {
     "name": "stdout",
     "output_type": "stream",
     "text": [
      "2 personne done\n",
      "3 personne done\n",
      "4 personne done\n",
      "5 personne done\n",
      "6 personne done\n",
      "7 personne done\n",
      "8 personne done\n",
      "9 personne done\n",
      "10 personne done\n",
      "11 personne done\n",
      "12 personne done\n",
      "13 personne done\n",
      "14 personne done\n",
      "15 personne done\n",
      "16 personne done\n",
      "17 personne done\n",
      "18 personne done\n",
      "19 personne done\n",
      "20 personne done\n",
      "21 personne done\n",
      "22 personne done\n",
      "23 personne done\n",
      "24 personne done\n",
      "25 personne done\n",
      "26 personne done\n",
      "27 personne done\n",
      "28 personne done\n",
      "29 personne done\n",
      "30 personne done\n",
      "31 personne done\n",
      "32 personne done\n",
      "33 personne done\n",
      "34 personne done\n",
      "35 personne done\n",
      "36 personne done\n",
      "37 personne done\n",
      "38 personne done\n",
      "39 personne done\n",
      "40 personne done\n",
      "41 personne done\n",
      "42 personne done\n",
      "43 personne done\n",
      "44 personne done\n",
      "45 personne done\n",
      "46 personne done\n",
      "47 personne done\n",
      "48 personne done\n",
      "49 personne done\n",
      "50 personne done\n",
      "51 personne done\n",
      "52 personne done\n",
      "53 personne done\n",
      "54 personne done\n",
      "55 personne done\n",
      "56 personne done\n",
      "57 personne done\n",
      "58 personne done\n",
      "59 personne done\n",
      "60 personne done\n",
      "61 personne done\n",
      "62 personne done\n",
      "63 personne done\n",
      "64 personne done\n",
      "65 personne done\n",
      "66 personne done\n",
      "67 personne done\n",
      "68 personne done\n",
      "69 personne done\n",
      "70 personne done\n",
      "71 personne done\n",
      "72 personne done\n",
      "73 personne done\n",
      "74 personne done\n",
      "75 personne done\n",
      "76 personne done\n",
      "77 personne done\n",
      "78 personne done\n",
      "79 personne done\n",
      "80 personne done\n",
      "81 personne done\n",
      "82 personne done\n",
      "83 personne done\n",
      "84 personne done\n",
      "85 personne done\n",
      "86 personne done\n",
      "87 personne done\n",
      "88 personne done\n",
      "89 personne done\n",
      "90 personne done\n",
      "91 personne done\n",
      "92 personne done\n",
      "93 personne done\n",
      "94 personne done\n",
      "95 personne done\n",
      "96 personne done\n",
      "97 personne done\n",
      "98 personne done\n",
      "99 personne done\n",
      "100 personne done\n",
      "101 personne done\n",
      "102 personne done\n",
      "103 personne done\n",
      "104 personne done\n",
      "105 personne done\n",
      "106 personne done\n",
      "107 personne done\n",
      "108 personne done\n",
      "109 personne done\n",
      "110 personne done\n",
      "111 personne done\n",
      "112 personne done\n",
      "113 personne done\n",
      "114 personne done\n",
      "115 personne done\n",
      "116 personne done\n",
      "117 personne done\n",
      "118 personne done\n",
      "119 personne done\n",
      "120 personne done\n",
      "121 personne done\n",
      "122 personne done\n",
      "123 personne done\n",
      "124 personne done\n",
      "125 personne done\n",
      "126 personne done\n",
      "127 personne done\n",
      "128 personne done\n",
      "129 personne done\n",
      "130 personne done\n",
      "131 personne done\n",
      "132 personne done\n",
      "133 personne done\n",
      "134 personne done\n",
      "135 personne done\n",
      "136 personne done\n",
      "137 personne done\n",
      "138 personne done\n",
      "139 personne done\n",
      "140 personne done\n",
      "141 personne done\n",
      "142 personne done\n",
      "143 personne done\n",
      "144 personne done\n",
      "145 personne done\n",
      "146 personne done\n",
      "147 personne done\n",
      "148 personne done\n",
      "149 personne done\n",
      "150 personne done\n"
     ]
    }
   ],
   "source": [
    "url_increment(counter = 2, dicts = {}, nb_of_line=150)"
   ]
  },
  {
   "cell_type": "raw",
   "metadata": {},
   "source": [
    "\n",
    "dicts"
   ]
  },
  {
   "cell_type": "code",
   "execution_count": 13,
   "metadata": {},
   "outputs": [
    {
     "ename": "NameError",
     "evalue": "name 'dicts' is not defined",
     "output_type": "error",
     "traceback": [
      "\u001b[1;31m---------------------------------------------------------------------------\u001b[0m",
      "\u001b[1;31mNameError\u001b[0m                                 Traceback (most recent call last)",
      "\u001b[1;32m<ipython-input-13-555db4785f7e>\u001b[0m in \u001b[0;36m<module>\u001b[1;34m\u001b[0m\n\u001b[0;32m      1\u001b[0m \u001b[1;31m#df1 = pd.DataFrame.from_dict(dicts, orient='index', columns=df.keys())\u001b[0m\u001b[1;33m\u001b[0m\u001b[1;33m\u001b[0m\u001b[1;33m\u001b[0m\u001b[0m\n\u001b[1;32m----> 2\u001b[1;33m \u001b[0mdf1\u001b[0m \u001b[1;33m=\u001b[0m \u001b[0mpd\u001b[0m\u001b[1;33m.\u001b[0m\u001b[0mDataFrame\u001b[0m\u001b[1;33m.\u001b[0m\u001b[0mfrom_dict\u001b[0m\u001b[1;33m(\u001b[0m\u001b[0mdicts\u001b[0m\u001b[1;33m)\u001b[0m\u001b[1;33m.\u001b[0m\u001b[0mT\u001b[0m\u001b[1;33m\u001b[0m\u001b[1;33m\u001b[0m\u001b[0m\n\u001b[0m\u001b[0;32m      3\u001b[0m \u001b[1;33m\u001b[0m\u001b[0m\n\u001b[0;32m      4\u001b[0m \u001b[0mdf1\u001b[0m\u001b[1;33m.\u001b[0m\u001b[0mhead\u001b[0m\u001b[1;33m(\u001b[0m\u001b[1;36m5\u001b[0m\u001b[1;33m)\u001b[0m\u001b[1;33m\u001b[0m\u001b[1;33m\u001b[0m\u001b[0m\n",
      "\u001b[1;31mNameError\u001b[0m: name 'dicts' is not defined"
     ]
    }
   ],
   "source": [
    "#df1 = pd.DataFrame.from_dict(dicts, orient='index', columns=df.keys())\n",
    "df1 = pd.DataFrame.from_dict(dicts).T\n",
    "\n",
    "df1.head(5)\n"
   ]
  },
  {
   "cell_type": "code",
   "execution_count": null,
   "metadata": {},
   "outputs": [],
   "source": []
  },
  {
   "cell_type": "code",
   "execution_count": null,
   "metadata": {},
   "outputs": [],
   "source": []
  }
 ],
 "metadata": {
  "colab": {
   "name": "Game Of Thrones - Exercice.ipynb",
   "provenance": [],
   "version": "0.3.2"
  },
  "kernelspec": {
   "display_name": "Python 3",
   "language": "python",
   "name": "python3"
  },
  "language_info": {
   "codemirror_mode": {
    "name": "ipython",
    "version": 3
   },
   "file_extension": ".py",
   "mimetype": "text/x-python",
   "name": "python",
   "nbconvert_exporter": "python",
   "pygments_lexer": "ipython3",
   "version": "3.7.6"
  }
 },
 "nbformat": 4,
 "nbformat_minor": 1
}
