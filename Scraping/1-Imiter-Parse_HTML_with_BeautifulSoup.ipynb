{
 "cells": [
  {
   "cell_type": "markdown",
   "metadata": {},
   "source": [
    "## HTML Content Management with BeautifulSoup\n",
    "\n",
    "It will very often happen in your data experience that you will have to scramble web data, for example to create your dataset. Since the web is made up of HTML pages, it is good that you know how to use the BeautifulSoup library.\n",
    "\n",
    "\n",
    "### Share content via BeautifulSoup\n",
    "\n",
    "First of all, to read HTML content, you will have to _parser_ your data via the library. This is done very simply as follows:\n",
    "\n",
    "\n",
    "```python\n",
    "from bs4 import BeautifulSoup\n",
    "soup = BeautifulSoup(\"<html>data</html>\", \"html.parser\")\n",
    "```\n",
    "\n",
    "\n",
    "If you have more complex content, you have other _parsers_, especially for XML, which may be useful. Be careful, however, you will have to install the _parser_ via pip. These are the ones you can find:\n",
    "\n",
    "\n",
    "<table>\n",
    "  <tr>\n",
    "      <td>Parser</td>\n",
    "      <td>Typical usage</td>\n",
    "      <td>Advantages</td>\n",
    "      <td>Disadvantages</td>\n",
    "  </tr>\n",
    "  <tr>\n",
    "      <td>Python’s html.parser</td>\n",
    "      <td>BeautifulSoup(markup, \"html.parser\")</td>\n",
    "      <td>\n",
    "         <ul>\n",
    "            <li>Batteries included</li>\n",
    "            <li>Decent speed</li>\n",
    "            <li>Lenient (as of Python 2.7.3 and 3.2.)</li>\n",
    "         </ul>\n",
    "      </td>\n",
    "      <td>\n",
    "         <ul>\n",
    "            <li>Not very lenient (before Python 2.7.3 or 3.2.2)</li>\n",
    "         </ul>\n",
    "      </td>\n",
    "  </tr>\n",
    "  <tr>\n",
    "      <td>lxml’s HTML parser</td>\n",
    "      <td>BeautifulSoup(markup, \"lxml\")</td>\n",
    "      <td>\n",
    "         <ul>\n",
    "            <li>Very fast</li>\n",
    "            <li>Lenient</li>\n",
    "         </ul>\n",
    "         <ul>\n",
    "            <li>External C dependency</li>\n",
    "         </ul>\n",
    "      </td>\n",
    "  </tr>\n",
    "  <tr>\n",
    "      <td>lxml’s XML parser</td>\n",
    "      <td>BeautifulSoup(markup, \"lxml-xml\")BeautifulSoup(markup, \"xml\")</td>\n",
    "      <td>\n",
    "         <ul>\n",
    "            <li>Very fast</li>\n",
    "            <li>The only currently supported XML parser</li>\n",
    "         </ul>\n",
    "      </td>\n",
    "      <td>\n",
    "         <ul>\n",
    "            <li>External C dependency</li>\n",
    "         </ul>\n",
    "      </td>\n",
    "   </tr>\n",
    "   <tr>\n",
    "      <td>html5lib</td>\n",
    "      <td>BeautifulSoup(markup, \"html5lib\")</td>\n",
    "      <td>\n",
    "         <ul>\n",
    "            <li>Extremely lenient</li>\n",
    "            <li>Parses pages the same way a web browser does</li>\n",
    "            <li>Creates valid HTML5</li>\n",
    "         </ul>\n",
    "      </td>\n",
    "   <td>\n",
    "      <ul>\n",
    "         <li>Very slow</li>\n",
    "         <li>External Python dependency</li>\n",
    "      </ul>\n",
    "   </td>\n",
    "</tr>\n",
    "</table>\n",
    "\n",
    "\n",
    "To install these _parsers_, you can do it via: "
   ]
  },
  {
   "cell_type": "code",
   "execution_count": null,
   "metadata": {},
   "outputs": [],
   "source": [
    "!pip install lxml\n",
    "!pip install html5lib"
   ]
  },
  {
   "cell_type": "markdown",
   "metadata": {},
   "source": [
    "### Play content via BeautifulSoup\n",
    "\n",
    "The following code will be used for the rest:\n"
   ]
  },
  {
   "cell_type": "code",
   "execution_count": 3,
   "metadata": {},
   "outputs": [],
   "source": [
    "html_doc = \"\"\"\n",
    "<html><head><title>The Dormouse's story</title></head>\n",
    "<body>\n",
    "<p class=\"title\"><b>The Dormouse's story</b></p>\n",
    "\n",
    "<p class=\"story\">Once upon a time there were three little sisters; and their names were\n",
    "<a href=\"http://example.com/elsie\" class=\"sister\" id=\"link1\">Elsie</a>,\n",
    "<a href=\"http://example.com/lacie\" class=\"sister\" id=\"link2\">Lacie</a> and\n",
    "<a href=\"http://example.com/tillie\" class=\"sister\" id=\"link3\">Tillie</a>;\n",
    "and they lived at the bottom of a well.</p>\n",
    "\n",
    "<p class=\"story\">...</p>\n",
    "\"\"\""
   ]
  },
  {
   "cell_type": "code",
   "execution_count": 4,
   "metadata": {},
   "outputs": [],
   "source": [
    "from bs4 import BeautifulSoup\n",
    "soup = BeautifulSoup(html_doc, 'html.parser')"
   ]
  },
  {
   "cell_type": "markdown",
   "metadata": {},
   "source": [
    "### Find HTML content via HTML tag name\n",
    "\n",
    "You can find the content of an HTML page by the name of its HTML tag:"
   ]
  },
  {
   "cell_type": "code",
   "execution_count": 5,
   "metadata": {},
   "outputs": [
    {
     "data": {
      "text/plain": [
       "<head><title>The Dormouse's story</title></head>"
      ]
     },
     "execution_count": 5,
     "metadata": {},
     "output_type": "execute_result"
    }
   ],
   "source": [
    "soup.head"
   ]
  },
  {
   "cell_type": "code",
   "execution_count": 8,
   "metadata": {},
   "outputs": [
    {
     "data": {
      "text/plain": [
       "<title>The Dormouse's story</title>"
      ]
     },
     "execution_count": 8,
     "metadata": {},
     "output_type": "execute_result"
    }
   ],
   "source": [
    "soup.title"
   ]
  },
  {
   "cell_type": "markdown",
   "metadata": {},
   "source": [
    "### Find a parent item\n",
    "\n",
    "You can find a parent element to another element via a loop:"
   ]
  },
  {
   "cell_type": "code",
   "execution_count": 6,
   "metadata": {},
   "outputs": [
    {
     "data": {
      "text/plain": [
       "<a class=\"sister\" href=\"http://example.com/elsie\" id=\"link1\">Elsie</a>"
      ]
     },
     "execution_count": 6,
     "metadata": {},
     "output_type": "execute_result"
    }
   ],
   "source": [
    "link = soup.a\n",
    "link"
   ]
  },
  {
   "cell_type": "code",
   "execution_count": 7,
   "metadata": {},
   "outputs": [
    {
     "name": "stdout",
     "output_type": "stream",
     "text": [
      "p\n",
      "body\n",
      "html\n",
      "[document]\n"
     ]
    }
   ],
   "source": [
    "for parent in link.parents:\n",
    "    if parent is None:\n",
    "        print(parent)\n",
    "    else:\n",
    "        print(parent.name)"
   ]
  },
  {
   "cell_type": "markdown",
   "metadata": {},
   "source": [
    "### Find a nearby item\n",
    "\n",
    "Conversely, you can take a close element this way:"
   ]
  },
  {
   "cell_type": "code",
   "execution_count": 9,
   "metadata": {},
   "outputs": [
    {
     "name": "stdout",
     "output_type": "stream",
     "text": [
      "',\\n'\n",
      "<a class=\"sister\" href=\"http://example.com/lacie\" id=\"link2\">Lacie</a>\n",
      "' and\\n'\n",
      "<a class=\"sister\" href=\"http://example.com/tillie\" id=\"link3\">Tillie</a>\n",
      "';\\nand they lived at the bottom of a well.'\n"
     ]
    }
   ],
   "source": [
    "for sibling in soup.a.next_siblings:\n",
    "    print(repr(sibling))"
   ]
  },
  {
   "cell_type": "code",
   "execution_count": 10,
   "metadata": {},
   "outputs": [
    {
     "name": "stdout",
     "output_type": "stream",
     "text": [
      "' and\\n'\n",
      "<a class=\"sister\" href=\"http://example.com/lacie\" id=\"link2\">Lacie</a>\n",
      "',\\n'\n",
      "<a class=\"sister\" href=\"http://example.com/elsie\" id=\"link1\">Elsie</a>\n",
      "'Once upon a time there were three little sisters; and their names were\\n'\n"
     ]
    }
   ],
   "source": [
    "for sibling in soup.find(id=\"link3\").previous_siblings:\n",
    "    print(repr(sibling))"
   ]
  },
  {
   "cell_type": "markdown",
   "metadata": {},
   "source": [
    "### Find all items that meet a specific condition\n",
    "\n",
    "There is a very handy function in beautifulsoup which is _find_all()_. It allows you to find all the elements of an HTML page that meet certain criteria. For example:"
   ]
  },
  {
   "cell_type": "code",
   "execution_count": 11,
   "metadata": {},
   "outputs": [
    {
     "data": {
      "text/plain": [
       "[<title>The Dormouse's story</title>]"
      ]
     },
     "execution_count": 11,
     "metadata": {},
     "output_type": "execute_result"
    }
   ],
   "source": [
    "soup.find_all(\"title\")"
   ]
  },
  {
   "cell_type": "code",
   "execution_count": 12,
   "metadata": {},
   "outputs": [
    {
     "data": {
      "text/plain": [
       "[<p class=\"title\"><b>The Dormouse's story</b></p>]"
      ]
     },
     "execution_count": 12,
     "metadata": {},
     "output_type": "execute_result"
    }
   ],
   "source": [
    "soup.find_all(\"p\", \"title\")"
   ]
  },
  {
   "cell_type": "code",
   "execution_count": 13,
   "metadata": {},
   "outputs": [
    {
     "data": {
      "text/plain": [
       "[<a class=\"sister\" href=\"http://example.com/elsie\" id=\"link1\">Elsie</a>,\n",
       " <a class=\"sister\" href=\"http://example.com/lacie\" id=\"link2\">Lacie</a>,\n",
       " <a class=\"sister\" href=\"http://example.com/tillie\" id=\"link3\">Tillie</a>]"
      ]
     },
     "execution_count": 13,
     "metadata": {},
     "output_type": "execute_result"
    }
   ],
   "source": [
    "soup.find_all(\"a\")"
   ]
  },
  {
   "cell_type": "code",
   "execution_count": 14,
   "metadata": {},
   "outputs": [
    {
     "data": {
      "text/plain": [
       "[<a class=\"sister\" href=\"http://example.com/lacie\" id=\"link2\">Lacie</a>]"
      ]
     },
     "execution_count": 14,
     "metadata": {},
     "output_type": "execute_result"
    }
   ],
   "source": [
    "soup.find_all(id=\"link2\")"
   ]
  },
  {
   "cell_type": "code",
   "execution_count": 15,
   "metadata": {},
   "outputs": [
    {
     "data": {
      "text/plain": [
       "'Once upon a time there were three little sisters; and their names were\\n'"
      ]
     },
     "execution_count": 15,
     "metadata": {},
     "output_type": "execute_result"
    }
   ],
   "source": [
    "import re\n",
    "soup.find(string=re.compile(\"sisters\"))"
   ]
  },
  {
   "cell_type": "markdown",
   "metadata": {},
   "source": [
    "### Find elements via CSS\n",
    "\n",
    "Finally, content can be found via CSS selectors:"
   ]
  },
  {
   "cell_type": "code",
   "execution_count": 16,
   "metadata": {},
   "outputs": [
    {
     "data": {
      "text/plain": [
       "[<a class=\"sister\" href=\"http://example.com/elsie\" id=\"link1\">Elsie</a>,\n",
       " <a class=\"sister\" href=\"http://example.com/lacie\" id=\"link2\">Lacie</a>,\n",
       " <a class=\"sister\" href=\"http://example.com/tillie\" id=\"link3\">Tillie</a>]"
      ]
     },
     "execution_count": 16,
     "metadata": {},
     "output_type": "execute_result"
    }
   ],
   "source": [
    "soup.find_all(\"a\", class_=\"sister\")"
   ]
  },
  {
   "cell_type": "markdown",
   "metadata": {},
   "source": [
    "## Resources\n",
    "\n",
    "BeautifulSoup - [https://bit.ly/7Uhgz](https://www.crummy.com/software/BeautifulSoup/bs4/doc/#navigating-the-tree)\n"
   ]
  },
  {
   "cell_type": "code",
   "execution_count": null,
   "metadata": {},
   "outputs": [],
   "source": []
  }
 ],
 "metadata": {
  "kernelspec": {
   "display_name": "Python 3",
   "language": "python",
   "name": "python3"
  },
  "language_info": {
   "codemirror_mode": {
    "name": "ipython",
    "version": 3
   },
   "file_extension": ".py",
   "mimetype": "text/x-python",
   "name": "python",
   "nbconvert_exporter": "python",
   "pygments_lexer": "ipython3",
   "version": "3.7.6"
  }
 },
 "nbformat": 4,
 "nbformat_minor": 2
}
