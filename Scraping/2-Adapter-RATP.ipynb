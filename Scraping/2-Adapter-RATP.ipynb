{
 "cells": [
  {
   "cell_type": "markdown",
   "metadata": {
    "colab_type": "text",
    "id": "ZAgek1U583Yp"
   },
   "source": [
    "# RATP\n",
    "\n",
    "You ever get lost on the subway? We're going to solve this problem thanks to the RATP's api... "
   ]
  },
  {
   "cell_type": "markdown",
   "metadata": {
    "colab_type": "text",
    "id": "eKU4i9DA868d"
   },
   "source": [
    "0. Import the following libraries: \n",
    "\n",
    "      * requests\n",
    "      * pandas \n",
    "      * Image dans PIL\n",
    "      * io dans BytesIO"
   ]
  },
  {
   "cell_type": "code",
   "execution_count": 2,
   "metadata": {
    "colab": {},
    "colab_type": "code",
    "id": "UTtR-zQS8ysH"
   },
   "outputs": [],
   "source": [
    "from requests import get # On importe la fonction 'get' (téléchargement) de 'requests' \n",
    "import pandas as pd\n",
    "import requests\n",
    "from PIL import Image\n",
    "from io import BytesIO"
   ]
  },
  {
   "cell_type": "markdown",
   "metadata": {
    "colab_type": "text",
    "id": "GlL_3ZTK9GN8"
   },
   "source": [
    "1. Go to [http://restratpws.azurewebsites.net/swagger/](http://restratpws.azurewebsites.net/swagger/) and look at the map for the Metro lines using requests"
   ]
  },
  {
   "cell_type": "code",
   "execution_count": 5,
   "metadata": {},
   "outputs": [
    {
     "data": {
      "text/plain": [
       "[{'id': '100110001',\n",
       "  'name': 'La Défense / Château de Vincennes',\n",
       "  'shortName': 'M1',\n",
       "  'image': 'm1.gif'},\n",
       " {'id': '100110002',\n",
       "  'name': 'Porte Dauphine / Nation',\n",
       "  'shortName': 'M2',\n",
       "  'image': 'm2.gif'},\n",
       " {'id': '100110003',\n",
       "  'name': 'Pont de Levallois Bécon / Gallieni',\n",
       "  'shortName': 'M3',\n",
       "  'image': 'm3.gif'},\n",
       " {'id': '100110103',\n",
       "  'name': 'Gambetta / Porte des Lilas',\n",
       "  'shortName': 'M3B',\n",
       "  'image': 'm3b.gif'},\n",
       " {'id': '100110004',\n",
       "  'name': 'Mairie de Montrouge / Porte de Clignancourt',\n",
       "  'shortName': 'M4',\n",
       "  'image': 'm4.gif'},\n",
       " {'id': '100110005',\n",
       "  'name': \"Place d'Italie / Bobigny Pablo Picasso\",\n",
       "  'shortName': 'M5',\n",
       "  'image': 'm5.gif'},\n",
       " {'id': '100110006',\n",
       "  'name': 'Charles de Gaulle Etoile / Nation',\n",
       "  'shortName': 'M6',\n",
       "  'image': 'm6.gif'},\n",
       " {'id': '100110007',\n",
       "  'name': \"Mairie d'Ivry - Villejuif Louis Aragon / La Courneuve 8 mai 1945\",\n",
       "  'shortName': 'M7',\n",
       "  'image': 'm7.gif'},\n",
       " {'id': '100110107',\n",
       "  'name': 'Louis Blanc / Pré-St-Gervais',\n",
       "  'shortName': 'M7B',\n",
       "  'image': 'm7b.gif'},\n",
       " {'id': '100110008',\n",
       "  'name': 'Pointe du Lac / Balard',\n",
       "  'shortName': 'M8',\n",
       "  'image': 'm8.gif'},\n",
       " {'id': '100110009',\n",
       "  'name': 'Mairie de Montreuil / Pont de Sèvres',\n",
       "  'shortName': 'M9',\n",
       "  'image': 'm9.gif'},\n",
       " {'id': '100110010',\n",
       "  'name': \"Gare d'Austerlitz / Boulogne Pont de Saint-Cloud\",\n",
       "  'shortName': 'M10',\n",
       "  'image': 'm10.gif'},\n",
       " {'id': '100110011',\n",
       "  'name': 'Châtelet / Mairie des Lilas',\n",
       "  'shortName': 'M11',\n",
       "  'image': 'm11.gif'},\n",
       " {'id': '100110012',\n",
       "  'name': \"Front Populaire / Mairie d'Issy\",\n",
       "  'shortName': 'M12',\n",
       "  'image': 'm12.gif'},\n",
       " {'id': '100110013',\n",
       "  'name': 'Asnières-Gennevilliers Les Courtilles - Saint-Denis-Université / Châtillon-Montrouge',\n",
       "  'shortName': 'M13',\n",
       "  'image': 'm13.gif'},\n",
       " {'id': '100110014',\n",
       "  'name': 'Saint-Lazare / Olympiades',\n",
       "  'shortName': 'M14',\n",
       "  'image': 'm14.gif'}]"
      ]
     },
     "execution_count": 5,
     "metadata": {},
     "output_type": "execute_result"
    }
   ],
   "source": [
    "metro = requests.get('http://restratpws.azurewebsites.net/api/Lines/metro')\n",
    "metro.json()"
   ]
  },
  {
   "cell_type": "markdown",
   "metadata": {
    "colab_type": "text",
    "id": "aeD2ouWA9L6p"
   },
   "source": [
    " 2. Extract all stations on Line 9"
   ]
  },
  {
   "cell_type": "code",
   "execution_count": 7,
   "metadata": {},
   "outputs": [
    {
     "data": {
      "text/plain": [
       "[{'id': '108', 'name': 'Alma-Marceau'},\n",
       " {'id': '141', 'name': 'Billancourt'},\n",
       " {'id': '151', 'name': 'Bonne Nouvelle'},\n",
       " {'id': '175', 'name': 'Buzenval'},\n",
       " {'id': '195', 'name': 'Charonne'},\n",
       " {'id': '204', 'name': \"Chaussée d'Antin La Fayette\"},\n",
       " {'id': '235', 'name': 'Croix de Chavaux'},\n",
       " {'id': '265', 'name': 'Exelmans'},\n",
       " {'id': '275', 'name': 'Franklin D. Roosevelt'},\n",
       " {'id': '296', 'name': 'Grands Boulevards'},\n",
       " {'id': '302', 'name': 'Havre-Caumartin'},\n",
       " {'id': '310', 'name': 'Iéna'},\n",
       " {'id': '318', 'name': 'Jasmin'},\n",
       " {'id': '342', 'name': 'La Muette'},\n",
       " {'id': '395', 'name': 'Mairie de Montreuil'},\n",
       " {'id': '410', 'name': 'Maraîchers'},\n",
       " {'id': '412', 'name': 'Marcel Sembat'},\n",
       " {'id': '427', 'name': 'Michel-Ange Auteuil'},\n",
       " {'id': '428', 'name': 'Michel-Ange Molitor'},\n",
       " {'id': '430', 'name': 'Miromesnil'},\n",
       " {'id': '444', 'name': 'Nation'},\n",
       " {'id': '456', 'name': 'Oberkampf'},\n",
       " {'id': '503', 'name': 'Pont de Sèvres'},\n",
       " {'id': '518', 'name': 'Porte de Montreuil'},\n",
       " {'id': '520', 'name': 'Porte de Saint-Cloud'},\n",
       " {'id': '541', 'name': 'Ranelagh'},\n",
       " {'id': '548', 'name': 'Richelieu-Drouot'},\n",
       " {'id': '551', 'name': 'Robespierre'},\n",
       " {'id': '557', 'name': 'Rue de la Pompe'},\n",
       " {'id': '558', 'name': 'Rue des Boulets'},\n",
       " {'id': '545', 'name': 'République'},\n",
       " {'id': '562', 'name': 'Saint-Ambroise'},\n",
       " {'id': '563', 'name': 'Saint-Augustin'},\n",
       " {'id': '590', 'name': 'Saint-Philippe-du-Roule'},\n",
       " {'id': '613', 'name': 'Strasbourg-Saint-Denis'},\n",
       " {'id': '626', 'name': 'Trocadéro'},\n",
       " {'id': '657', 'name': 'Voltaire'}]"
      ]
     },
     "execution_count": 7,
     "metadata": {},
     "output_type": "execute_result"
    }
   ],
   "source": [
    "metro9 = requests.get('http://restratpws.azurewebsites.net/api/Stations/100110009')\n",
    "metro9.json()"
   ]
  },
  {
   "cell_type": "markdown",
   "metadata": {
    "colab_type": "text",
    "id": "V1ExLCy69OUz"
   },
   "source": [
    "3. Look at the directions on line 9"
   ]
  },
  {
   "cell_type": "code",
   "execution_count": 8,
   "metadata": {
    "colab": {},
    "colab_type": "code",
    "id": "bjFjLUqf8ysd",
    "outputId": "82ec6cd0-91cf-416d-a1e2-9c8564a8b42b"
   },
   "outputs": [
    {
     "data": {
      "text/plain": [
       "[{'way': 'A', 'name': 'Mairie de Montreuil'},\n",
       " {'way': 'R', 'name': 'Pont de Sèvres'}]"
      ]
     },
     "execution_count": 8,
     "metadata": {},
     "output_type": "execute_result"
    }
   ],
   "source": [
    "metro9 = requests.get('http://restratpws.azurewebsites.net/api/Directions/100110009')\n",
    "metro9.json()"
   ]
  },
  {
   "cell_type": "markdown",
   "metadata": {
    "colab_type": "text",
    "id": "KwalEFCZ9Q8Q"
   },
   "source": [
    "4. Watch the time of the next subways at the Franklin Roosevelt station in the direction of Pont de Sèvres."
   ]
  },
  {
   "cell_type": "code",
   "execution_count": 9,
   "metadata": {
    "colab": {},
    "colab_type": "code",
    "id": "rGn0RMtY8ysg",
    "outputId": "a25ac2fe-7540-426a-c28b-83416bc083e0"
   },
   "outputs": [
    {
     "data": {
      "text/plain": [
       "['5 mn', '7 mn', '14 mn', '18 mn']"
      ]
     },
     "execution_count": 9,
     "metadata": {},
     "output_type": "execute_result"
    }
   ],
   "source": [
    "metro_it = requests.get('http://restratpws.azurewebsites.net/api/Missions/100110009/from/275/way/R')\n",
    "metro_it.json()"
   ]
  },
  {
   "cell_type": "markdown",
   "metadata": {
    "colab_type": "text",
    "id": "7lNpfhgV9Tkz"
   },
   "source": [
    "5. Extract the logo from line 9 "
   ]
  },
  {
   "cell_type": "code",
   "execution_count": 16,
   "metadata": {
    "colab": {},
    "colab_type": "code",
    "id": "XiW1XgVi8ysS",
    "outputId": "feaf23c8-7239-49a5-b041-d9e98e0b6b34"
   },
   "outputs": [
    {
     "data": {
      "image/png": "[encoded data removed]",
      "text/plain": [
       "<PIL.GifImagePlugin.GifImageFile image mode=P size=21x21 at 0x1DA1D987BC8>"
      ]
     },
     "execution_count": 16,
     "metadata": {},
     "output_type": "execute_result"
    }
   ],
   "source": [
    "logo_line9 = requests.get('http://restratpws.azurewebsites.net/api/images/m9.gif')\n",
    "Image.open(BytesIO(logo_line9.content))"
   ]
  }
 ],
 "metadata": {
  "colab": {
   "name": "RATP - Exercice.ipynb",
   "provenance": [],
   "version": "0.3.2"
  },
  "kernelspec": {
   "display_name": "Python 3",
   "language": "python",
   "name": "python3"
  },
  "language_info": {
   "codemirror_mode": {
    "name": "ipython",
    "version": 3
   },
   "file_extension": ".py",
   "mimetype": "text/x-python",
   "name": "python",
   "nbconvert_exporter": "python",
   "pygments_lexer": "ipython3",
   "version": "3.7.6"
  }
 },
 "nbformat": 4,
 "nbformat_minor": 1
}
