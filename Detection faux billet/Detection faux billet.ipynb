{
 "cells": [
  {
   "cell_type": "markdown",
   "metadata": {},
   "source": [
    "# Détection des faux Billets"
   ]
  },
  {
   "cell_type": "markdown",
   "metadata": {},
   "source": [
    "Votre société de consulting informatique vous propose une nouvelle mission : créer un algorithme de détection de faux billets."
   ]
  },
  {
   "cell_type": "markdown",
   "metadata": {},
   "source": [
    "Le [jeu de données](https://s3-eu-west-1.amazonaws.com/static.oc-static.com/prod/courses/files/parcours-data-analyst/notes.csv)  contenant les caractéristiques géométriques de billets de banque. Pour chacun d'eux, nous connaissons :\n",
    "\n",
    " - la longueur du billet (en mm) ;  \n",
    " - la hauteur du billet (mesurée sur le côté gauche, en mm) ;  \n",
    " - La hauteur du billet (mesurée sur le côté droit, en mm) ;  \n",
    " - la marge entre le bord supérieur du billet et l'image de celui-ci (en mm) ;  \n",
    " - la marge entre le bord inférieur du billet et l'image de celui-ci (en mm) ;  \n",
    " - la diagonale du billet (en mm)."
   ]
  },
  {
   "cell_type": "markdown",
   "metadata": {},
   "source": [
    "L'étude va consister en 3 parties : \n",
    "\n",
    "Partie 1 : analyse exploratoire univariée et bivariée de votre jeu de données  \n",
    "Partie 2 : ACP \n",
    "    Vous réaliserez une analyse en composantes principales de l'échantillon, en suivant toutes ces étapes :  \n",
    "\n",
    "analyse de l'éboulis des valeurs propres ;\n",
    "représentation des variables par le cercle des corrélations ;\n",
    "représentation des individus par les plans factoriels ;\n",
    "analyser de la qualité de représentation et la contribution des individus.\n",
    "Pour chacune de ces étapes, commentez les résultats obtenus. La variable donnant la nature Vrai/Faux du billet sera utilisée comme variable illustrative.\n",
    "\n",
    "Si besoin de compléments sur l'ACP, n'hésitez pas à vous référez à [cours](https://openclassrooms.com/fr/courses/4525281-realisez-une-analyse-exploratoire-de-donnees/5280368-comprenez-lenjeu-de-lanalyse-en-composantes-principales) si besoin pour la partie plus théorique\n",
    "\n",
    "Partie 3 : Réaliser une classification des billets (révisions de kmeans ou régression logique, et aller creuser côté CAH)"
   ]
  },
  {
   "cell_type": "code",
   "execution_count": 50,
   "metadata": {},
   "outputs": [],
   "source": [
    "# Import des librairies\n",
    "import numpy as np\n",
    "import pandas as pd\n",
    "\n",
    "from mpl_toolkits.mplot3d import Axes3D\n",
    "import seaborn as sns\n",
    "\n",
    "import sklearn\n",
    "#classe pour l'ACP\n",
    "from sklearn.decomposition import PCA\n",
    "from sklearn import decomposition\n",
    "from sklearn import preprocessing\n",
    "from sklearn.preprocessing import StandardScaler\n",
    "\n",
    "import matplotlib.pyplot as plt\n",
    "\n",
    "from sklearn.datasets import make_blobs\n",
    "from sklearn.cluster import KMeans\n",
    "from sklearn import decomposition\n",
    "from sklearn import preprocessing\n",
    "from sklearn.model_selection import train_test_split\n",
    "from sklearn.linear_model import LogisticRegression\n",
    "from sklearn.metrics import confusion_matrix\n",
    "import sklearn.metrics as metrics\n",
    "\n",
    "\n",
    "from scipy.cluster.hierarchy import linkage, fcluster\n",
    "from scipy.cluster.hierarchy import dendrogram\n",
    "import scipy.stats as scs\n",
    "from scipy.stats import ks_2samp\n",
    "\n",
    "import statsmodels.api as sm\n",
    "import statsmodels.formula.api as smf\n",
    "from statsmodels.tools import add_constant\n",
    "from statsmodels.api import Logit\n",
    "\n",
    "from math import pi"
   ]
  },
  {
   "cell_type": "markdown",
   "metadata": {},
   "source": [
    "## Partie 0 : ANALYSES BIVARIES"
   ]
  },
  {
   "cell_type": "markdown",
   "metadata": {},
   "source": [
    "Dans cette partie, vous allez explorer vos données via des visualisations, par exemple :   \n",
    "    \n",
    "    - le nombre de billets vrai/faux  \n",
    "    - les distributions de longueurs, largeurs and co des billets de votre dataset\n",
    "    - longueur/largeur and co des billets vrais vs. faux\n",
    "    - etc -> be creative :)"
   ]
  },
  {
   "cell_type": "code",
   "execution_count": 51,
   "metadata": {},
   "outputs": [],
   "source": [
    "notes=pd.read_csv(\"./notes.csv\")"
   ]
  },
  {
   "cell_type": "code",
   "execution_count": 52,
   "metadata": {},
   "outputs": [
    {
     "data": {
      "text/html": [
       "<div>\n",
       "<style scoped>\n",
       "    .dataframe tbody tr th:only-of-type {\n",
       "        vertical-align: middle;\n",
       "    }\n",
       "\n",
       "    .dataframe tbody tr th {\n",
       "        vertical-align: top;\n",
       "    }\n",
       "\n",
       "    .dataframe thead th {\n",
       "        text-align: right;\n",
       "    }\n",
       "</style>\n",
       "<table border=\"1\" class=\"dataframe\">\n",
       "  <thead>\n",
       "    <tr style=\"text-align: right;\">\n",
       "      <th></th>\n",
       "      <th>is_genuine</th>\n",
       "      <th>diagonal</th>\n",
       "      <th>height_left</th>\n",
       "      <th>height_right</th>\n",
       "      <th>margin_low</th>\n",
       "      <th>margin_up</th>\n",
       "      <th>length</th>\n",
       "    </tr>\n",
       "  </thead>\n",
       "  <tbody>\n",
       "    <tr>\n",
       "      <th>0</th>\n",
       "      <td>True</td>\n",
       "      <td>171.81</td>\n",
       "      <td>104.86</td>\n",
       "      <td>104.95</td>\n",
       "      <td>4.52</td>\n",
       "      <td>2.89</td>\n",
       "      <td>112.83</td>\n",
       "    </tr>\n",
       "    <tr>\n",
       "      <th>1</th>\n",
       "      <td>True</td>\n",
       "      <td>171.67</td>\n",
       "      <td>103.74</td>\n",
       "      <td>103.70</td>\n",
       "      <td>4.01</td>\n",
       "      <td>2.87</td>\n",
       "      <td>113.29</td>\n",
       "    </tr>\n",
       "    <tr>\n",
       "      <th>2</th>\n",
       "      <td>True</td>\n",
       "      <td>171.83</td>\n",
       "      <td>103.76</td>\n",
       "      <td>103.76</td>\n",
       "      <td>4.40</td>\n",
       "      <td>2.88</td>\n",
       "      <td>113.84</td>\n",
       "    </tr>\n",
       "    <tr>\n",
       "      <th>3</th>\n",
       "      <td>True</td>\n",
       "      <td>171.80</td>\n",
       "      <td>103.78</td>\n",
       "      <td>103.65</td>\n",
       "      <td>3.73</td>\n",
       "      <td>3.12</td>\n",
       "      <td>113.63</td>\n",
       "    </tr>\n",
       "    <tr>\n",
       "      <th>4</th>\n",
       "      <td>True</td>\n",
       "      <td>172.05</td>\n",
       "      <td>103.70</td>\n",
       "      <td>103.75</td>\n",
       "      <td>5.04</td>\n",
       "      <td>2.27</td>\n",
       "      <td>113.55</td>\n",
       "    </tr>\n",
       "  </tbody>\n",
       "</table>\n",
       "</div>"
      ],
      "text/plain": [
       "   is_genuine  diagonal  height_left  height_right  margin_low  margin_up  \\\n",
       "0        True    171.81       104.86        104.95        4.52       2.89   \n",
       "1        True    171.67       103.74        103.70        4.01       2.87   \n",
       "2        True    171.83       103.76        103.76        4.40       2.88   \n",
       "3        True    171.80       103.78        103.65        3.73       3.12   \n",
       "4        True    172.05       103.70        103.75        5.04       2.27   \n",
       "\n",
       "   length  \n",
       "0  112.83  \n",
       "1  113.29  \n",
       "2  113.84  \n",
       "3  113.63  \n",
       "4  113.55  "
      ]
     },
     "execution_count": 52,
     "metadata": {},
     "output_type": "execute_result"
    }
   ],
   "source": [
    "notes.head()"
   ]
  },
  {
   "cell_type": "code",
   "execution_count": 53,
   "metadata": {},
   "outputs": [
    {
     "name": "stdout",
     "output_type": "stream",
     "text": [
      "<class 'pandas.core.frame.DataFrame'>\n",
      "RangeIndex: 170 entries, 0 to 169\n",
      "Data columns (total 7 columns):\n",
      " #   Column        Non-Null Count  Dtype  \n",
      "---  ------        --------------  -----  \n",
      " 0   is_genuine    170 non-null    bool   \n",
      " 1   diagonal      170 non-null    float64\n",
      " 2   height_left   170 non-null    float64\n",
      " 3   height_right  170 non-null    float64\n",
      " 4   margin_low    170 non-null    float64\n",
      " 5   margin_up     170 non-null    float64\n",
      " 6   length        170 non-null    float64\n",
      "dtypes: bool(1), float64(6)\n",
      "memory usage: 8.3 KB\n"
     ]
    }
   ],
   "source": [
    "notes.info()"
   ]
  },
  {
   "cell_type": "code",
   "execution_count": 54,
   "metadata": {},
   "outputs": [
    {
     "data": {
      "text/html": [
       "<div>\n",
       "<style scoped>\n",
       "    .dataframe tbody tr th:only-of-type {\n",
       "        vertical-align: middle;\n",
       "    }\n",
       "\n",
       "    .dataframe tbody tr th {\n",
       "        vertical-align: top;\n",
       "    }\n",
       "\n",
       "    .dataframe thead th {\n",
       "        text-align: right;\n",
       "    }\n",
       "</style>\n",
       "<table border=\"1\" class=\"dataframe\">\n",
       "  <thead>\n",
       "    <tr style=\"text-align: right;\">\n",
       "      <th></th>\n",
       "      <th>diagonal</th>\n",
       "      <th>height_left</th>\n",
       "      <th>height_right</th>\n",
       "      <th>margin_low</th>\n",
       "      <th>margin_up</th>\n",
       "      <th>length</th>\n",
       "    </tr>\n",
       "  </thead>\n",
       "  <tbody>\n",
       "    <tr>\n",
       "      <th>count</th>\n",
       "      <td>170.000000</td>\n",
       "      <td>170.000000</td>\n",
       "      <td>170.000000</td>\n",
       "      <td>170.000000</td>\n",
       "      <td>170.000000</td>\n",
       "      <td>170.000000</td>\n",
       "    </tr>\n",
       "    <tr>\n",
       "      <th>mean</th>\n",
       "      <td>171.940588</td>\n",
       "      <td>104.066353</td>\n",
       "      <td>103.928118</td>\n",
       "      <td>4.612118</td>\n",
       "      <td>3.170412</td>\n",
       "      <td>112.570412</td>\n",
       "    </tr>\n",
       "    <tr>\n",
       "      <th>std</th>\n",
       "      <td>0.305768</td>\n",
       "      <td>0.298185</td>\n",
       "      <td>0.330980</td>\n",
       "      <td>0.702103</td>\n",
       "      <td>0.236361</td>\n",
       "      <td>0.924448</td>\n",
       "    </tr>\n",
       "    <tr>\n",
       "      <th>min</th>\n",
       "      <td>171.040000</td>\n",
       "      <td>103.230000</td>\n",
       "      <td>103.140000</td>\n",
       "      <td>3.540000</td>\n",
       "      <td>2.270000</td>\n",
       "      <td>109.970000</td>\n",
       "    </tr>\n",
       "    <tr>\n",
       "      <th>25%</th>\n",
       "      <td>171.730000</td>\n",
       "      <td>103.842500</td>\n",
       "      <td>103.690000</td>\n",
       "      <td>4.050000</td>\n",
       "      <td>3.012500</td>\n",
       "      <td>111.855000</td>\n",
       "    </tr>\n",
       "    <tr>\n",
       "      <th>50%</th>\n",
       "      <td>171.945000</td>\n",
       "      <td>104.055000</td>\n",
       "      <td>103.950000</td>\n",
       "      <td>4.450000</td>\n",
       "      <td>3.170000</td>\n",
       "      <td>112.845000</td>\n",
       "    </tr>\n",
       "    <tr>\n",
       "      <th>75%</th>\n",
       "      <td>172.137500</td>\n",
       "      <td>104.287500</td>\n",
       "      <td>104.170000</td>\n",
       "      <td>5.127500</td>\n",
       "      <td>3.330000</td>\n",
       "      <td>113.287500</td>\n",
       "    </tr>\n",
       "    <tr>\n",
       "      <th>max</th>\n",
       "      <td>173.010000</td>\n",
       "      <td>104.860000</td>\n",
       "      <td>104.950000</td>\n",
       "      <td>6.280000</td>\n",
       "      <td>3.680000</td>\n",
       "      <td>113.980000</td>\n",
       "    </tr>\n",
       "  </tbody>\n",
       "</table>\n",
       "</div>"
      ],
      "text/plain": [
       "         diagonal  height_left  height_right  margin_low   margin_up  \\\n",
       "count  170.000000   170.000000    170.000000  170.000000  170.000000   \n",
       "mean   171.940588   104.066353    103.928118    4.612118    3.170412   \n",
       "std      0.305768     0.298185      0.330980    0.702103    0.236361   \n",
       "min    171.040000   103.230000    103.140000    3.540000    2.270000   \n",
       "25%    171.730000   103.842500    103.690000    4.050000    3.012500   \n",
       "50%    171.945000   104.055000    103.950000    4.450000    3.170000   \n",
       "75%    172.137500   104.287500    104.170000    5.127500    3.330000   \n",
       "max    173.010000   104.860000    104.950000    6.280000    3.680000   \n",
       "\n",
       "           length  \n",
       "count  170.000000  \n",
       "mean   112.570412  \n",
       "std      0.924448  \n",
       "min    109.970000  \n",
       "25%    111.855000  \n",
       "50%    112.845000  \n",
       "75%    113.287500  \n",
       "max    113.980000  "
      ]
     },
     "execution_count": 54,
     "metadata": {},
     "output_type": "execute_result"
    }
   ],
   "source": [
    "notes.describe()"
   ]
  },
  {
   "cell_type": "code",
   "execution_count": 55,
   "metadata": {},
   "outputs": [
    {
     "data": {
      "text/plain": [
       "(170, 7)"
      ]
     },
     "execution_count": 55,
     "metadata": {},
     "output_type": "execute_result"
    }
   ],
   "source": [
    "notes.shape"
   ]
  },
  {
   "cell_type": "code",
   "execution_count": 56,
   "metadata": {},
   "outputs": [
    {
     "data": {
      "text/plain": [
       "array(['is_genuine', 'diagonal', 'height_left', 'height_right',\n",
       "       'margin_low', 'margin_up', 'length'], dtype=object)"
      ]
     },
     "execution_count": 56,
     "metadata": {},
     "output_type": "execute_result"
    }
   ],
   "source": [
    "notes.columns.values"
   ]
  },
  {
   "cell_type": "code",
   "execution_count": 57,
   "metadata": {},
   "outputs": [
    {
     "data": {
      "text/plain": [
       "array([ True, False])"
      ]
     },
     "execution_count": 57,
     "metadata": {},
     "output_type": "execute_result"
    }
   ],
   "source": [
    "notes['is_genuine'].unique()"
   ]
  },
  {
   "cell_type": "code",
   "execution_count": 58,
   "metadata": {},
   "outputs": [
    {
     "data": {
      "text/plain": [
       "True     100\n",
       "False     70\n",
       "Name: is_genuine, dtype: int64"
      ]
     },
     "execution_count": 58,
     "metadata": {},
     "output_type": "execute_result"
    }
   ],
   "source": [
    "notes['is_genuine'].value_counts()"
   ]
  },
  {
   "cell_type": "code",
   "execution_count": 59,
   "metadata": {
    "scrolled": true
   },
   "outputs": [
    {
     "data": {
      "image/png": "[encoded data removed]",
      "text/plain": [
       "<Figure size 720x360 with 1 Axes>"
      ]
     },
     "metadata": {
      "needs_background": "light"
     },
     "output_type": "display_data"
    }
   ],
   "source": [
    "plt.figure(figsize=(10,5))\n",
    "sns.countplot(x='is_genuine', data=notes, palette='mako')\n",
    "plt.xlabel('Authenticité des billets',fontsize=15)\n",
    "plt.ylabel(\"Nombre de billets\",fontsize=15)\n",
    "plt.title(\"Nombre de billets authentique ou non\",fontsize=20)\n",
    "plt.show()"
   ]
  },
  {
   "cell_type": "code",
   "execution_count": 60,
   "metadata": {},
   "outputs": [
    {
     "name": "stdout",
     "output_type": "stream",
     "text": [
      "Pourcentage de billets faux : 41.17647058823529\n",
      "Pourcentage de billets vrai : 58.82352941176471\n"
     ]
    }
   ],
   "source": [
    "Faux = len(notes[notes['is_genuine']==False])\n",
    "Vrai = len(notes[notes['is_genuine']==True])\n",
    "\n",
    "nbr_Vrai = Faux/(Faux+Vrai)\n",
    "print(\"Pourcentage de billets faux :\", nbr_Vrai * 100)\n",
    "\n",
    "nbr_Faux = Vrai/(Faux+Vrai)\n",
    "print(\"Pourcentage de billets vrai :\", nbr_Faux * 100)"
   ]
  },
  {
   "cell_type": "code",
   "execution_count": 61,
   "metadata": {},
   "outputs": [
    {
     "data": {
      "text/plain": [
       "<matplotlib.axes._subplots.AxesSubplot at 0x1da2b3cac88>"
      ]
     },
     "execution_count": 61,
     "metadata": {},
     "output_type": "execute_result"
    },
    {
     "data": {
      "image/png": "[encoded data removed]",
      "text/plain": [
       "<Figure size 1080x720 with 2 Axes>"
      ]
     },
     "metadata": {
      "needs_background": "light"
     },
     "output_type": "display_data"
    }
   ],
   "source": [
    "plt.figure(figsize=(15,10))\n",
    "sns.heatmap (notes.corr(), annot = True)"
   ]
  },
  {
   "cell_type": "raw",
   "metadata": {},
   "source": [
    "On peut noter une corrélation importante entre _height_right_ et _height_left_"
   ]
  },
  {
   "cell_type": "code",
   "execution_count": 62,
   "metadata": {},
   "outputs": [],
   "source": [
    "#sns.pairplot(notes)"
   ]
  },
  {
   "cell_type": "raw",
   "metadata": {},
   "source": [
    "from pandas.plotting import scatter_matrix\n",
    "# Vision générale sur dataframe\n",
    "pd.plotting.scatter_matrix(notes, alpha=1, figsize=(15,10), diagonal='kde')\n",
    "plt.show()"
   ]
  },
  {
   "cell_type": "code",
   "execution_count": 63,
   "metadata": {},
   "outputs": [
    {
     "data": {
      "text/plain": [
       "Text(0, 0.5, 'height_right')"
      ]
     },
     "execution_count": 63,
     "metadata": {},
     "output_type": "execute_result"
    },
    {
     "data": {
      "image/png": "[encoded data removed]",
      "text/plain": [
       "<Figure size 432x288 with 1 Axes>"
      ]
     },
     "metadata": {
      "needs_background": "light"
     },
     "output_type": "display_data"
    }
   ],
   "source": [
    "plt.scatter(notes['height_left'], notes['height_right'])\n",
    "plt.xlabel('height_left')\n",
    "plt.ylabel('height_right')"
   ]
  },
  {
   "cell_type": "raw",
   "metadata": {},
   "source": [
    "def info_liste(liste):\n",
    "    \n",
    "    dict_1 = dict()\n",
    "    \n",
    "    dict_1[\"Moyenne\"] = liste.mean()\n",
    "    dict_1[\"Median\"] = liste.median()\n",
    "    dict_1[\"Mode\"] = liste.mode()[0]\n",
    "    dict_1[\"Variance\"] = liste.var()\n",
    "    dict_1[\"Ecart-type\"] = liste.std()\n",
    "    return dict_1"
   ]
  },
  {
   "cell_type": "code",
   "execution_count": 64,
   "metadata": {},
   "outputs": [
    {
     "data": {
      "text/plain": [
       "<seaborn.axisgrid.FacetGrid at 0x1da2bbdad08>"
      ]
     },
     "execution_count": 64,
     "metadata": {},
     "output_type": "execute_result"
    },
    {
     "data": {
      "image/png": "[encoded data removed]",
      "text/plain": [
       "<Figure size 360x360 with 1 Axes>"
      ]
     },
     "metadata": {
      "needs_background": "light"
     },
     "output_type": "display_data"
    }
   ],
   "source": [
    "sns.lmplot(x='height_right', y='height_left', data=notes)"
   ]
  },
  {
   "cell_type": "code",
   "execution_count": 65,
   "metadata": {},
   "outputs": [
    {
     "data": {
      "image/png": "[encoded data removed]",
      "text/plain": [
       "<Figure size 1080x360 with 1 Axes>"
      ]
     },
     "metadata": {
      "needs_background": "light"
     },
     "output_type": "display_data"
    }
   ],
   "source": [
    "#import fonctions as f\n",
    "\n",
    "X = notes.height_left\n",
    "Y = notes.height_right\n",
    "\n",
    "#fitLine = f.predict(X, X, Y)\n",
    "\n",
    "plt.figure(figsize=(15,5))\n",
    "axes = plt.axes()\n",
    "axes.grid() \n",
    "plt.scatter(X,Y)\n",
    "\n",
    "plt.xlabel('Taille hauteur gauche (mm)',fontsize=15)\n",
    "plt.ylabel(\"Taille hauteur droite (mm)\",fontsize=15)\n",
    "plt.title(\"Représentation de la corrélation entre la hauteur gauche et droite\",fontsize=20)\n",
    "plt.grid(False)\n",
    "\n",
    "plt.show()"
   ]
  },
  {
   "cell_type": "code",
   "execution_count": 66,
   "metadata": {},
   "outputs": [
    {
     "data": {
      "text/html": [
       "<div>\n",
       "<style scoped>\n",
       "    .dataframe tbody tr th:only-of-type {\n",
       "        vertical-align: middle;\n",
       "    }\n",
       "\n",
       "    .dataframe tbody tr th {\n",
       "        vertical-align: top;\n",
       "    }\n",
       "\n",
       "    .dataframe thead th {\n",
       "        text-align: right;\n",
       "    }\n",
       "</style>\n",
       "<table border=\"1\" class=\"dataframe\">\n",
       "  <thead>\n",
       "    <tr style=\"text-align: right;\">\n",
       "      <th></th>\n",
       "      <th>diagonal</th>\n",
       "      <th>height_left</th>\n",
       "      <th>height_right</th>\n",
       "      <th>margin_low</th>\n",
       "      <th>margin_up</th>\n",
       "      <th>length</th>\n",
       "    </tr>\n",
       "    <tr>\n",
       "      <th>is_genuine</th>\n",
       "      <th></th>\n",
       "      <th></th>\n",
       "      <th></th>\n",
       "      <th></th>\n",
       "      <th></th>\n",
       "      <th></th>\n",
       "    </tr>\n",
       "  </thead>\n",
       "  <tbody>\n",
       "    <tr>\n",
       "      <th>False</th>\n",
       "      <td>171.889857</td>\n",
       "      <td>104.230429</td>\n",
       "      <td>104.145571</td>\n",
       "      <td>5.281571</td>\n",
       "      <td>3.334571</td>\n",
       "      <td>111.660714</td>\n",
       "    </tr>\n",
       "    <tr>\n",
       "      <th>True</th>\n",
       "      <td>171.976100</td>\n",
       "      <td>103.951500</td>\n",
       "      <td>103.775900</td>\n",
       "      <td>4.143500</td>\n",
       "      <td>3.055500</td>\n",
       "      <td>113.207200</td>\n",
       "    </tr>\n",
       "  </tbody>\n",
       "</table>\n",
       "</div>"
      ],
      "text/plain": [
       "              diagonal  height_left  height_right  margin_low  margin_up  \\\n",
       "is_genuine                                                                 \n",
       "False       171.889857   104.230429    104.145571    5.281571   3.334571   \n",
       "True        171.976100   103.951500    103.775900    4.143500   3.055500   \n",
       "\n",
       "                length  \n",
       "is_genuine              \n",
       "False       111.660714  \n",
       "True        113.207200  "
      ]
     },
     "execution_count": 66,
     "metadata": {},
     "output_type": "execute_result"
    }
   ],
   "source": [
    "notes.groupby(by='is_genuine').mean()"
   ]
  },
  {
   "cell_type": "code",
   "execution_count": 67,
   "metadata": {},
   "outputs": [
    {
     "data": {
      "text/plain": [
       "<matplotlib.axes._subplots.AxesSubplot at 0x1da2a20c1c8>"
      ]
     },
     "execution_count": 67,
     "metadata": {},
     "output_type": "execute_result"
    },
    {
     "data": {
      "image/png": "[encoded data removed]",
      "text/plain": [
       "<Figure size 432x288 with 1 Axes>"
      ]
     },
     "metadata": {
      "needs_background": "light"
     },
     "output_type": "display_data"
    }
   ],
   "source": [
    "sns.boxplot( x=notes[\"is_genuine\"], y=notes[\"height_left\"], linewidth=3, width = 0.5)"
   ]
  },
  {
   "cell_type": "code",
   "execution_count": 68,
   "metadata": {},
   "outputs": [
    {
     "data": {
      "text/plain": [
       "<matplotlib.axes._subplots.AxesSubplot at 0x1da2b71e388>"
      ]
     },
     "execution_count": 68,
     "metadata": {},
     "output_type": "execute_result"
    },
    {
     "data": {
      "image/png": "[encoded data removed]",
      "text/plain": [
       "<Figure size 432x288 with 1 Axes>"
      ]
     },
     "metadata": {
      "needs_background": "light"
     },
     "output_type": "display_data"
    }
   ],
   "source": [
    "sns.boxplot( x=notes[\"is_genuine\"], y=notes[\"height_right\"], linewidth=3, width = 0.5)"
   ]
  },
  {
   "cell_type": "raw",
   "metadata": {},
   "source": [
    "diag = df.diagonal\n",
    "heiL = df.height_left \n",
    "heiR = df.height_right\n",
    "marL = df.margin_low\n",
    "marU = df.margin_up\n",
    "leng = df.length"
   ]
  },
  {
   "cell_type": "raw",
   "metadata": {},
   "source": [
    "for i in [diag, heiL, heiR, marL, marU, leng]:\n",
    "    print(i.name)\n",
    "    print(f.info_liste(i))\n",
    "    print(\"\\n\")"
   ]
  },
  {
   "cell_type": "code",
   "execution_count": 69,
   "metadata": {},
   "outputs": [],
   "source": [
    "#df = pd.DataFrame(notes.drop('is_genuine',axis=1))\n",
    "#df = pd.DataFrame(notes)\n",
    "#df.is_genuine = [1 if i == True else 0 for i in df.is_genuine]"
   ]
  },
  {
   "cell_type": "code",
   "execution_count": null,
   "metadata": {},
   "outputs": [],
   "source": []
  },
  {
   "cell_type": "code",
   "execution_count": null,
   "metadata": {},
   "outputs": [],
   "source": []
  },
  {
   "cell_type": "markdown",
   "metadata": {},
   "source": [
    "## Partie 1 : ANALYSE EN COMPOSANTES PRINCIPALES"
   ]
  },
  {
   "cell_type": "markdown",
   "metadata": {},
   "source": [
    "Repartez de l'exploration via l'étude VISA pour cette partie + le cours sur OC\n",
    "Dans tous les cas, je veux voir : \n",
    "    - un diagramme ebouli pour expliquer le pourcentage d'inertie de vos composantes principales\n",
    "    - un cercle des corrélations de vos variables + l'interprétation de celui-ci\n",
    "    - représentaiton des individus (= des billets) sur le plan factoriel"
   ]
  },
  {
   "cell_type": "code",
   "execution_count": 70,
   "metadata": {},
   "outputs": [],
   "source": [
    "from sklearn.decomposition import PCA\n",
    "from sklearn.preprocessing import scale\n",
    "# définition de la commande\n",
    "pca = PCA()\n",
    "# Sélection des variables quantitatives\n",
    "dat=notes[['diagonal', 'height_left', 'height_right', 'margin_low', 'margin_up', 'length']]\n",
    "data = pd.DataFrame(scale(dat),columns=dat.columns)\n"
   ]
  },
  {
   "cell_type": "code",
   "execution_count": 71,
   "metadata": {},
   "outputs": [
    {
     "data": {
      "text/plain": [
       "array([[ 2.15363875,  1.59970945,  1.78745079,  2.43346523,  0.69968952,\n",
       "        -1.26770217],\n",
       "       [-2.11041589, -0.52603892,  0.54256277,  0.34454951,  0.0674404 ,\n",
       "        -0.54460079],\n",
       "       [-1.97315242, -0.04810178,  0.85871563,  0.37481231, -0.4248861 ,\n",
       "         0.08048667],\n",
       "       ...,\n",
       "       [ 2.06724502,  0.84560244, -0.61028227, -1.71417169,  0.1169579 ,\n",
       "        -0.50433787],\n",
       "       [ 0.73925685, -0.97296457, -1.35977212, -0.19173617, -0.24355701,\n",
       "         0.21142914],\n",
       "       [ 1.50499242, -1.07972486,  0.18888855, -1.34755225, -0.2891493 ,\n",
       "        -0.06034599]])"
      ]
     },
     "execution_count": 71,
     "metadata": {},
     "output_type": "execute_result"
    }
   ],
   "source": [
    "# réduction\n",
    "X_scaled = pd.DataFrame(scale(dat),columns=dat.columns)\n",
    "# composantes principales\n",
    "C = pca.fit(data).transform(data)\n",
    "C"
   ]
  },
  {
   "cell_type": "code",
   "execution_count": 72,
   "metadata": {},
   "outputs": [
    {
     "name": "stdout",
     "output_type": "stream",
     "text": [
      "<class 'pandas.core.frame.DataFrame'>\n",
      "RangeIndex: 170 entries, 0 to 169\n",
      "Data columns (total 7 columns):\n",
      " #   Column        Non-Null Count  Dtype  \n",
      "---  ------        --------------  -----  \n",
      " 0   is_genuine    0 non-null      float64\n",
      " 1   diagonal      170 non-null    float64\n",
      " 2   height_left   170 non-null    float64\n",
      " 3   height_right  170 non-null    float64\n",
      " 4   margin_low    170 non-null    float64\n",
      " 5   margin_up     170 non-null    float64\n",
      " 6   length        170 non-null    float64\n",
      "dtypes: float64(7)\n",
      "memory usage: 9.4 KB\n"
     ]
    }
   ],
   "source": [
    "#passage des labels en numérique\n",
    "notes.is_genuine = notes.is_genuine.apply(lambda x:\n",
    "                                              \"0\" if x==\"True\"\n",
    "                                              else \"1\" if x==\"False\"\n",
    "                                              else \"NAN\")\n",
    "notes.is_genuine = notes.is_genuine.astype(\"float\")\n",
    "notes.info()"
   ]
  },
  {
   "cell_type": "code",
   "execution_count": 73,
   "metadata": {},
   "outputs": [],
   "source": [
    "notes['is_genuine'] = notes['is_genuine'].astype('category').cat.codes"
   ]
  },
  {
   "cell_type": "markdown",
   "metadata": {},
   "source": [
    "# Éboulis des valeurs propres\n",
    "\n",
    "Nous allons dans un premier temps faire un éboulis des valeurs propre, pour voir combien d'axes étudier.\n"
   ]
  },
  {
   "cell_type": "code",
   "execution_count": 74,
   "metadata": {},
   "outputs": [
    {
     "data": {
      "image/png": "[encoded data removed]",
      "text/plain": [
       "<Figure size 432x288 with 1 Axes>"
      ]
     },
     "metadata": {
      "needs_background": "light"
     },
     "output_type": "display_data"
    }
   ],
   "source": [
    "# Eboulis des valeurs propres\n",
    "plt.figure()\n",
    "plt.plot(pca.explained_variance_ratio_)\n",
    "plt.show()"
   ]
  },
  {
   "cell_type": "code",
   "execution_count": 75,
   "metadata": {},
   "outputs": [
    {
     "data": {
      "image/png": "[encoded data removed]",
      "text/plain": [
       "<Figure size 1080x720 with 1 Axes>"
      ]
     },
     "metadata": {
      "needs_background": "light"
     },
     "output_type": "display_data"
    }
   ],
   "source": [
    "plt.figure(figsize=(15,10))\n",
    "\n",
    "scree = pca.explained_variance_ratio_*100\n",
    "\n",
    "plt.bar(np.arange(len(scree))+1, scree)\n",
    "plt.plot(np.arange(len(scree))+1, scree.cumsum(),c=\"red\",marker='o')\n",
    "\n",
    "plt.xlabel(\"Rang de l'axe d'inertie\", fontsize=15)\n",
    "plt.ylabel(\"Pourcentage d'inertie\", fontsize=15)\n",
    "plt.title(\"Éboulis des valeurs propres\",fontsize=20)\n",
    "\n",
    "plt.show()"
   ]
  },
  {
   "cell_type": "code",
   "execution_count": 96,
   "metadata": {},
   "outputs": [
    {
     "data": {
      "text/html": [
       "<div>\n",
       "<style scoped>\n",
       "    .dataframe tbody tr th:only-of-type {\n",
       "        vertical-align: middle;\n",
       "    }\n",
       "\n",
       "    .dataframe tbody tr th {\n",
       "        vertical-align: top;\n",
       "    }\n",
       "\n",
       "    .dataframe thead th {\n",
       "        text-align: right;\n",
       "    }\n",
       "</style>\n",
       "<table border=\"1\" class=\"dataframe\">\n",
       "  <thead>\n",
       "    <tr style=\"text-align: right;\">\n",
       "      <th></th>\n",
       "      <th>Inertie %</th>\n",
       "    </tr>\n",
       "  </thead>\n",
       "  <tbody>\n",
       "    <tr>\n",
       "      <th>Axe 1</th>\n",
       "      <td>70.119</td>\n",
       "    </tr>\n",
       "    <tr>\n",
       "      <th>Axe 2</th>\n",
       "      <td>14.020</td>\n",
       "    </tr>\n",
       "    <tr>\n",
       "      <th>Axe 3</th>\n",
       "      <td>9.083</td>\n",
       "    </tr>\n",
       "    <tr>\n",
       "      <th>Axe 4</th>\n",
       "      <td>3.638</td>\n",
       "    </tr>\n",
       "    <tr>\n",
       "      <th>Axe 5</th>\n",
       "      <td>1.740</td>\n",
       "    </tr>\n",
       "  </tbody>\n",
       "</table>\n",
       "</div>"
      ],
      "text/plain": [
       "       Inertie %\n",
       "Axe 1     70.119\n",
       "Axe 2     14.020\n",
       "Axe 3      9.083\n",
       "Axe 4      3.638\n",
       "Axe 5      1.740"
      ]
     },
     "execution_count": 96,
     "metadata": {},
     "output_type": "execute_result"
    }
   ],
   "source": [
    "scree = pd.DataFrame(scree.round(3), index=('Axe 1','Axe 2','Axe 3','Axe 4','Axe 5'))\n",
    "scree.columns = ['Inertie %']\n",
    "scree"
   ]
  },
  {
   "cell_type": "code",
   "execution_count": 76,
   "metadata": {},
   "outputs": [
    {
     "data": {
      "image/png": "[encoded data removed]",
      "text/plain": [
       "<Figure size 432x288 with 1 Axes>"
      ]
     },
     "metadata": {
      "needs_background": "light"
     },
     "output_type": "display_data"
    }
   ],
   "source": [
    "# Diagrammes boîte des composantes principales\n",
    "plt.figure()\n",
    "plt.boxplot(C[:,0:20])\n",
    "plt.show()"
   ]
  },
  {
   "cell_type": "markdown",
   "metadata": {},
   "source": [
    "\n",
    "# Cercle de corrélation des variables."
   ]
  },
  {
   "cell_type": "code",
   "execution_count": 77,
   "metadata": {},
   "outputs": [
    {
     "data": {
      "image/png": "[encoded data removed]",
      "text/plain": [
       "<Figure size 576x576 with 1 Axes>"
      ]
     },
     "metadata": {
      "needs_background": "light"
     },
     "output_type": "display_data"
    }
   ],
   "source": [
    "# coordonnées des variables\n",
    "coord1=pca.components_[0]*np.sqrt(pca.explained_variance_[0])\n",
    "coord2=pca.components_[1]*np.sqrt(pca.explained_variance_[1])\n",
    "fig = plt.figure(figsize=(8,8))\n",
    "ax = fig.add_subplot(1, 1, 1)\n",
    "for i, j, nom in zip(coord1,coord2, data.columns):\n",
    "    plt.text(i, j, nom)\n",
    "    plt.arrow(0,0,i,j,color='r')\n",
    "plt.axis((-1.2,1.2,-1.2,1.2))\n",
    "# cercle\n",
    "c=plt.Circle((0,0), radius=1, color='b', fill=False)\n",
    "ax.add_patch(c)\n",
    "plt.show()"
   ]
  },
  {
   "cell_type": "markdown",
   "metadata": {},
   "source": [
    "# Représentation des individus"
   ]
  },
  {
   "cell_type": "code",
   "execution_count": 91,
   "metadata": {},
   "outputs": [
    {
     "data": {
      "image/png": "[encoded data removed]",
      "text/plain": [
       "<Figure size 720x576 with 1 Axes>"
      ]
     },
     "metadata": {
      "needs_background": "light"
     },
     "output_type": "display_data"
    }
   ],
   "source": [
    "plt.figure(figsize=(10,8))\n",
    "for i, j, nom in zip(C[:,0], C[:,1], notes['is_genuine']):\n",
    "    color = \"red\" if nom == \"0\" else \"blue\"\n",
    "    plt.text(i, j, nom, color=color)\n",
    "plt.axis((-2,4.5,-2,4))  \n",
    "plt.show()"
   ]
  },
  {
   "cell_type": "markdown",
   "metadata": {},
   "source": [
    "# Classification des variables\n",
    "\n",
    "QUESTION Les classes de variables sont-elles cohérentes avec l'interprétataion des axes?\n"
   ]
  },
  {
   "cell_type": "code",
   "execution_count": 79,
   "metadata": {},
   "outputs": [
    {
     "data": {
      "image/png": "[encoded data removed]",
      "text/plain": [
       "<Figure size 1080x576 with 1 Axes>"
      ]
     },
     "metadata": {
      "needs_background": "light"
     },
     "output_type": "display_data"
    }
   ],
   "source": [
    "# Stratégie utilisée pour aider à l'interprétation du plan principal \n",
    "# lorsque le nombre de variables est important\n",
    "from scipy.cluster.hierarchy import dendrogram, linkage\n",
    "Z = linkage(data.T, 'ward')\n",
    "plt.figure(figsize=(15, 8))\n",
    "plt.title('Hierarchical Clustering Dendrogram')\n",
    "plt.xlabel('Variable')\n",
    "plt.ylabel('Distance')\n",
    "dendrogram(Z,leaf_font_size=8.,labels=data.columns)\n",
    "plt.show()"
   ]
  },
  {
   "cell_type": "code",
   "execution_count": null,
   "metadata": {},
   "outputs": [],
   "source": []
  },
  {
   "cell_type": "code",
   "execution_count": null,
   "metadata": {},
   "outputs": [],
   "source": []
  },
  {
   "cell_type": "markdown",
   "metadata": {},
   "source": [
    "# Autre Méthode"
   ]
  },
  {
   "cell_type": "code",
   "execution_count": 80,
   "metadata": {},
   "outputs": [],
   "source": [
    "# choix du nombre de composantes à calculer\n",
    "n_comp = 5"
   ]
  },
  {
   "cell_type": "code",
   "execution_count": 81,
   "metadata": {},
   "outputs": [],
   "source": [
    "# import de l'échantillon\n",
    "data = notes[['diagonal', 'height_left', 'height_right', 'margin_low', 'margin_up','length']]"
   ]
  },
  {
   "cell_type": "code",
   "execution_count": 82,
   "metadata": {},
   "outputs": [],
   "source": [
    "# selection des colonnes à prendre en compte dans l'ACP\n",
    "data_pca = data[['diagonal', 'height_left', 'height_right', 'margin_low', 'margin_up','length']]"
   ]
  },
  {
   "cell_type": "code",
   "execution_count": 83,
   "metadata": {},
   "outputs": [],
   "source": [
    "# préparation des données pour l'ACP\n",
    "#data_pca = data_pca.fillna(data_pca.mean()) # Il est fréquent de remplacer les valeurs inconnues par la moyenne de la variable\n",
    "X = data_pca.values\n",
    "names = data.index # ou data.index pour avoir les intitulés\n",
    "features = data.columns"
   ]
  },
  {
   "cell_type": "code",
   "execution_count": 84,
   "metadata": {},
   "outputs": [],
   "source": [
    "# Centrage et Réduction\n",
    "std_scale = preprocessing.StandardScaler().fit(X)\n",
    "X_scaled = std_scale.transform(X)#ici\n"
   ]
  },
  {
   "cell_type": "code",
   "execution_count": 85,
   "metadata": {},
   "outputs": [
    {
     "data": {
      "text/plain": [
       "PCA(copy=True, iterated_power='auto', n_components=5, random_state=None,\n",
       "    svd_solver='auto', tol=0.0, whiten=False)"
      ]
     },
     "execution_count": 85,
     "metadata": {},
     "output_type": "execute_result"
    }
   ],
   "source": [
    "# Calcul des composantes principales\n",
    "pca = decomposition.PCA(n_components=n_comp)\n",
    "pca.fit(X_scaled)"
   ]
  },
  {
   "cell_type": "code",
   "execution_count": 97,
   "metadata": {},
   "outputs": [
    {
     "data": {
      "text/plain": [
       "array([[-3.02107700e-03, -3.75136635e-01,  9.21544369e-01,\n",
       "        -6.23627661e-01,  6.31168624e-01],\n",
       "       [-1.01124014e+00,  6.93762886e-02, -3.33843994e-01,\n",
       "        -7.02035271e-02,  1.81915868e-01],\n",
       "       [-1.23951059e+00, -5.37303477e-01, -2.01593698e-01,\n",
       "         1.94062924e-02, -4.36078620e-03],\n",
       "       [-1.41689723e+00,  1.65429601e-01, -1.56215891e-01,\n",
       "        -1.49500851e-01, -2.64483334e-02],\n",
       "       [-7.42004492e-01, -9.70984310e-01, -3.08273792e-01,\n",
       "         5.96162543e-01,  2.96492739e-01],\n",
       "       [-3.85559308e-01, -3.86870406e-01,  1.02027191e+00,\n",
       "         1.26885714e-01,  1.69736610e-01],\n",
       "       [-1.06824352e+00,  1.56141619e-01,  5.40864294e-02,\n",
       "         4.24825649e-01, -1.50186797e-01],\n",
       "       [-1.36702835e+00,  5.07083124e-01, -4.98523506e-01,\n",
       "        -1.97482744e-01, -1.05762274e-02],\n",
       "       [-1.16430335e+00,  1.67598470e-02, -1.87635280e-01,\n",
       "        -5.03182824e-02, -4.20674591e-01],\n",
       "       [ 1.53427251e-01, -4.06840675e-02,  3.86651013e-01,\n",
       "         5.03978173e-02,  1.98026798e-01],\n",
       "       [-1.03117103e+00,  8.26873450e-02,  7.24287824e-01,\n",
       "        -2.98670412e-01, -2.60126103e-01],\n",
       "       [-1.52554289e+00, -2.30080333e-03, -5.10484427e-02,\n",
       "         3.38123483e-02, -2.90010061e-01],\n",
       "       [-5.62660852e-01,  3.28883402e-01,  4.49039600e-01,\n",
       "         6.22558394e-03,  1.86679253e-01],\n",
       "       [-1.12444035e+00,  2.57031193e-01, -1.06869311e-01,\n",
       "        -1.99934849e-01, -1.16259835e-01],\n",
       "       [-1.14974747e+00,  2.32063155e-01,  1.14124384e-01,\n",
       "        -7.14663681e-02, -1.05106685e-01],\n",
       "       [-6.80930929e-01, -4.61597297e-01, -3.25107251e-01,\n",
       "        -1.02888775e-02,  4.03418039e-01],\n",
       "       [-1.06710304e+00, -1.81172271e-01,  2.08762591e-02,\n",
       "        -3.12319186e-01,  1.74583055e-01],\n",
       "       [-8.39213292e-01, -4.26838551e-01, -7.43661993e-02,\n",
       "         2.88632309e-01,  1.58698337e-01],\n",
       "       [-1.15807169e+00,  5.89086350e-01,  1.56129765e-02,\n",
       "        -1.84164266e-02, -4.26079542e-01],\n",
       "       [-1.00272172e+00, -2.66155126e-01,  1.21219227e-01,\n",
       "        -2.95605434e-01,  1.71282935e-01],\n",
       "       [-7.27217688e-01,  5.42676104e-02, -2.62409406e-01,\n",
       "         3.03445481e-01, -2.38985437e-03],\n",
       "       [-7.26485709e-01,  8.13504960e-02,  6.86762667e-01,\n",
       "         2.04018188e-01,  1.13469663e-01],\n",
       "       [-6.82836541e-01, -2.12951086e-02,  5.76154501e-01,\n",
       "        -4.38717966e-02,  8.36915372e-02],\n",
       "       [-5.83878807e-01, -2.43662992e-01,  5.72180379e-01,\n",
       "         4.20676516e-01, -5.22329389e-03],\n",
       "       [-8.51179671e-01,  6.33591421e-01,  9.88901105e-02,\n",
       "         1.52658717e-02, -1.32090250e-01],\n",
       "       [-1.27910827e+00, -3.54233523e-01,  7.53076168e-01,\n",
       "        -3.21165357e-01, -1.48356555e-01],\n",
       "       [-1.23343468e+00, -6.79666556e-01,  5.27721344e-01,\n",
       "         2.04111235e-01, -7.38071154e-02],\n",
       "       [-5.33633536e-01, -8.63873848e-01,  3.26710511e-01,\n",
       "        -4.15026634e-02,  1.05925353e-01],\n",
       "       [-1.16945816e+00,  3.33816984e-01,  3.58022739e-01,\n",
       "        -1.05898397e-01, -4.13109201e-03],\n",
       "       [-1.39627924e+00, -1.84863900e-01, -3.93606500e-01,\n",
       "         2.35337323e-01,  2.02321384e-01],\n",
       "       [-1.17339862e+00,  9.12543644e-02,  2.84578127e-01,\n",
       "         6.49448693e-03, -1.12413818e-01],\n",
       "       [-1.22495474e+00, -5.05469349e-01, -1.96929216e-01,\n",
       "         4.36239327e-02,  1.03327747e-01],\n",
       "       [-4.61093837e-01,  5.94770864e-01, -3.75576294e-03,\n",
       "         4.93759579e-02,  7.75063790e-02],\n",
       "       [-2.62373588e-01,  1.71066686e-01,  5.80309620e-01,\n",
       "         2.81795301e-01,  7.87928495e-02],\n",
       "       [-5.72790539e-01, -5.70973428e-02,  7.40597892e-01,\n",
       "         4.36574119e-01, -1.18438083e-01],\n",
       "       [-6.58230706e-01, -7.43548804e-01,  5.97128854e-02,\n",
       "        -3.01823134e-01,  1.76997124e-01],\n",
       "       [-1.00035792e+00, -8.45863996e-02,  5.09372459e-01,\n",
       "         2.21439285e-01,  9.50178636e-02],\n",
       "       [-1.40978197e+00,  1.33543744e-01,  4.83422699e-02,\n",
       "         2.52191922e-01,  1.16466938e-02],\n",
       "       [-1.18840288e+00, -4.42275707e-01,  4.48382108e-01,\n",
       "         1.03578111e-01,  2.34320509e-01],\n",
       "       [-6.92340475e-01,  1.28654048e-01, -7.22067097e-01,\n",
       "        -2.98103150e-01,  5.84417855e-01],\n",
       "       [-1.26845998e+00, -6.03143114e-01, -5.86493142e-01,\n",
       "        -1.14716402e-02,  1.83070004e-01],\n",
       "       [-3.46720091e-01,  1.59244829e-01, -1.52231159e-01,\n",
       "         3.16735696e-02,  2.70579368e-01],\n",
       "       [-6.91430192e-01, -3.88583439e-01, -4.71640801e-01,\n",
       "         3.39943253e-01,  5.92145038e-02],\n",
       "       [-1.68482123e-01,  4.02407699e-02,  4.97263845e-02,\n",
       "         5.31274127e-02,  3.34813050e-01],\n",
       "       [-6.08991833e-01,  5.01605200e-01, -6.72921477e-01,\n",
       "         2.35247549e-01, -6.77929213e-02],\n",
       "       [-9.53537545e-01,  1.21668785e-01, -6.94959332e-01,\n",
       "        -1.92760416e-01, -5.66743271e-02],\n",
       "       [-7.89241360e-01,  8.26894227e-02, -1.27346585e-01,\n",
       "        -4.21137137e-02,  4.22434457e-02],\n",
       "       [-1.36582583e+00,  2.39554338e-01,  1.75006593e-02,\n",
       "        -3.02740049e-01, -7.43954603e-02],\n",
       "       [-6.16020304e-01,  3.60630919e-01, -1.78936007e-01,\n",
       "        -1.79583987e-01,  6.69817848e-02],\n",
       "       [-1.32668124e+00, -3.59965661e-02, -6.51790312e-01,\n",
       "        -6.04276412e-02, -1.33807199e-01],\n",
       "       [-9.01064203e-01,  4.44945056e-01, -3.43238430e-01,\n",
       "        -4.65322364e-02,  1.68362923e-01],\n",
       "       [-1.68562236e-01, -2.02442412e-01,  4.59377884e-01,\n",
       "         1.48704710e-01,  2.92263717e-01],\n",
       "       [-5.23452670e-01,  3.86356403e-01, -4.04804811e-02,\n",
       "        -4.46224844e-01,  1.46742544e-01],\n",
       "       [-1.05441376e+00,  2.12234286e-01,  6.13032528e-01,\n",
       "        -8.35588848e-02, -8.45661229e-02],\n",
       "       [-9.29713493e-01,  2.82489790e-01, -5.58238374e-01,\n",
       "        -5.09448942e-02,  7.83887812e-03],\n",
       "       [-8.78632244e-01, -3.79607121e-01, -2.30916631e-01,\n",
       "         4.45399385e-01, -4.97207783e-02],\n",
       "       [-5.29881449e-01, -5.77481109e-02,  1.55246719e-01,\n",
       "         5.80620921e-01, -2.01428264e-01],\n",
       "       [-4.63007561e-01,  6.86901592e-02, -3.98367127e-01,\n",
       "         4.16212551e-01,  1.90355641e-01],\n",
       "       [-7.58179454e-01,  2.66044764e-01,  2.39200981e-01,\n",
       "        -9.75636661e-02, -1.14825901e-01],\n",
       "       [-8.30983553e-01,  1.32956263e-01,  1.18371443e-01,\n",
       "         2.35411189e-02, -2.09129446e-02],\n",
       "       [-8.09187927e-01,  1.45349397e-01, -2.93240852e-01,\n",
       "         3.86488749e-01, -8.34153500e-02],\n",
       "       [-1.07898731e+00,  5.38893201e-01, -4.54152595e-02,\n",
       "         2.56365480e-01, -1.43681073e-01],\n",
       "       [-1.04451365e+00,  2.12322885e-01,  6.27688251e-02,\n",
       "         3.23904720e-01, -2.20254082e-01],\n",
       "       [-7.59996605e-01,  2.46542340e-01, -2.63785829e-01,\n",
       "        -2.27569337e-01,  1.71551204e-02],\n",
       "       [-6.75917596e-01,  2.60228271e-02,  7.15217119e-02,\n",
       "        -4.57116645e-02, -5.86736284e-02],\n",
       "       [-8.25383993e-02, -1.70115006e-02,  4.29442837e-01,\n",
       "        -7.41819678e-03,  9.71934592e-02],\n",
       "       [-8.41046672e-01,  5.69191940e-01, -5.48656195e-01,\n",
       "         4.77903023e-02, -4.07750985e-02],\n",
       "       [-7.92110052e-01, -3.93822869e-01, -4.79567123e-01,\n",
       "         2.33702311e-01,  8.57470401e-02],\n",
       "       [-1.14901210e+00, -2.32467668e-01, -4.57775330e-02,\n",
       "         1.20395756e-01, -1.00679299e-01],\n",
       "       [ 4.35668896e-01,  8.53433460e-01,  1.78225585e-01,\n",
       "        -1.93155831e-01,  7.58902559e-02],\n",
       "       [-3.48620084e-01,  2.69757316e-01, -7.22373044e-01,\n",
       "        -6.47552291e-01,  7.72950071e-02],\n",
       "       [-8.09955094e-01,  2.11066580e-01,  2.07259997e-02,\n",
       "         2.28890432e-01, -3.18016386e-02],\n",
       "       [-3.89370318e-01,  5.34934609e-02, -4.01939913e-04,\n",
       "        -6.15162541e-03, -3.74200541e-02],\n",
       "       [-1.26875031e+00,  1.21549170e-01, -2.60409550e-01,\n",
       "        -3.78909437e-01,  1.02309264e-01],\n",
       "       [-1.53706147e+00,  1.46431269e-01,  1.99147889e-01,\n",
       "        -6.69582876e-02, -1.10745014e-01],\n",
       "       [-1.16857975e+00,  4.00531695e-01, -6.08709500e-01,\n",
       "        -3.78540974e-01,  4.34896793e-02],\n",
       "       [-4.97335778e-01, -1.08430418e-01,  4.31814701e-02,\n",
       "        -3.94584669e-02,  8.49183364e-02],\n",
       "       [-5.77529249e-01,  6.03374687e-01, -3.54848752e-01,\n",
       "        -1.05458940e-01,  8.05600361e-02],\n",
       "       [-3.91194598e-01,  7.06915169e-01,  4.10054458e-01,\n",
       "        -6.84041570e-02,  1.27066320e-01],\n",
       "       [-1.31438675e+00,  3.84684717e-02, -2.50683692e-01,\n",
       "        -1.35500712e-01,  9.91627733e-02],\n",
       "       [-1.22491728e-01,  3.85820608e-01, -1.66894222e-01,\n",
       "         2.36165938e-01, -6.00900181e-02],\n",
       "       [-6.09147620e-01,  6.35697424e-01, -1.22536587e-01,\n",
       "         5.40043796e-02,  8.54120582e-02],\n",
       "       [-9.39990743e-01, -1.98992249e-01, -3.13519111e-01,\n",
       "         5.28813199e-01, -6.33548606e-02],\n",
       "       [-7.41663905e-01,  2.55843415e-01,  2.91017044e-01,\n",
       "        -5.02132789e-02, -6.52801632e-02],\n",
       "       [-3.47817466e-01, -5.23891857e-02,  7.22605754e-01,\n",
       "        -9.79043449e-02,  8.09397141e-03],\n",
       "       [-6.00575800e-01, -1.81799998e-01, -1.91196194e-02,\n",
       "         1.97779062e-01, -7.64572760e-02],\n",
       "       [-7.46813041e-01, -1.46460557e-01,  2.37743631e-02,\n",
       "         3.02418744e-01,  8.86211479e-02],\n",
       "       [-1.15283053e+00, -2.46356701e-01, -3.44748487e-01,\n",
       "         2.93774800e-01, -1.90534628e-01],\n",
       "       [-9.39288533e-01,  4.64537867e-01,  3.23606076e-01,\n",
       "        -3.59389126e-01,  6.96365430e-02],\n",
       "       [-1.24345798e+00, -1.30511736e-01,  5.68302686e-02,\n",
       "        -4.62067279e-02, -7.75030826e-02],\n",
       "       [-8.99655605e-01, -4.63593439e-03, -4.31947075e-01,\n",
       "         1.17137625e-01,  7.69570155e-02],\n",
       "       [-6.91980124e-01, -1.33207566e-01,  2.76585762e-01,\n",
       "         2.70033293e-01,  4.64468780e-02],\n",
       "       [-9.90049139e-01,  1.59268611e-01, -4.26283264e-01,\n",
       "         1.40287638e-01, -8.43258389e-02],\n",
       "       [-1.20178602e+00,  4.05920609e-01, -4.85436459e-01,\n",
       "        -1.46288273e-01, -9.42311844e-02],\n",
       "       [-1.17792580e+00, -1.74888019e-01, -3.36713234e-01,\n",
       "        -9.97075321e-03, -1.19131090e-01],\n",
       "       [-8.31795998e-01, -2.94564586e-01,  3.09251474e-01,\n",
       "         4.72760680e-01, -4.82204636e-02],\n",
       "       [-2.59415187e-01, -2.30518140e-01,  3.88110471e-01,\n",
       "        -1.45938432e-01,  1.77701586e-01],\n",
       "       [-7.20393065e-01,  2.97015901e-01, -4.87734284e-01,\n",
       "        -2.26334664e-01,  1.21991599e-01],\n",
       "       [-4.63286628e-01, -1.12344649e-01,  6.20583894e-02,\n",
       "         1.46513360e-01, -3.21790464e-02],\n",
       "       [-8.60479738e-01,  2.38350266e-01, -2.61034419e-01,\n",
       "         4.98945594e-02,  1.69159421e-01],\n",
       "       [ 7.61636583e-01,  1.01698916e-01, -2.02198053e-01,\n",
       "        -5.07880755e-01, -4.54541792e-02],\n",
       "       [ 1.92632680e+00,  8.97425922e-02,  5.26817218e-02,\n",
       "         3.38798957e-02, -7.32001744e-02],\n",
       "       [ 1.78067734e-01,  4.62123541e-01,  2.26577320e-01,\n",
       "        -2.54913111e-01, -6.33231791e-02],\n",
       "       [ 6.22115295e-01, -7.07526909e-02,  4.42049007e-01,\n",
       "        -1.87393875e-01,  1.86693979e-02],\n",
       "       [ 1.40562653e+00, -4.69115303e-01, -1.52518126e-01,\n",
       "        -5.39347960e-02, -5.42723166e-02],\n",
       "       [ 1.01147230e+00, -1.46102197e-01,  7.43782091e-02,\n",
       "         4.64093941e-02, -3.34544402e-02],\n",
       "       [ 3.89009406e-01,  3.95620167e-01,  3.31432459e-01,\n",
       "        -6.70511211e-02, -3.58335142e-01],\n",
       "       [ 7.63107912e-01, -3.94676164e-02,  2.02871561e-02,\n",
       "        -2.66595249e-01, -1.78271900e-01],\n",
       "       [ 1.10552153e+00,  2.96453311e-01, -1.47420850e-02,\n",
       "         3.99628067e-02, -2.88394491e-01],\n",
       "       [ 7.92855136e-01, -3.53015584e-01,  6.40597985e-01,\n",
       "        -1.32863385e-01, -1.38335837e-01],\n",
       "       [ 8.63961842e-01,  1.12962305e+00,  3.64810528e-01,\n",
       "        -1.14436183e-01,  1.33530130e-01],\n",
       "       [ 8.43553717e-01, -2.94284539e-01,  3.02760716e-01,\n",
       "        -3.28711617e-02, -1.36629045e-01],\n",
       "       [ 3.86954305e-01, -2.76162747e-01,  1.01463410e+00,\n",
       "        -3.35675613e-01, -1.64963509e-01],\n",
       "       [ 1.41968386e+00, -2.59098346e-01, -1.31989171e-01,\n",
       "         1.16552312e-01, -2.39089098e-02],\n",
       "       [ 8.91006360e-01, -1.62711946e-01,  5.70067395e-02,\n",
       "         1.95865967e-01, -6.92232330e-02],\n",
       "       [ 6.57769554e-01,  1.02225126e+00,  4.38951131e-01,\n",
       "         2.33132192e-01,  1.73813641e-02],\n",
       "       [ 1.31243502e+00, -7.23642815e-01, -5.03031634e-02,\n",
       "         3.50339602e-03,  1.07123976e-01],\n",
       "       [ 1.43097607e+00, -7.28870437e-01, -2.04199755e-01,\n",
       "         7.94017405e-02,  7.92480110e-02],\n",
       "       [-2.82063028e-01, -1.34294196e+00,  2.22158911e-01,\n",
       "        -2.86805025e-01, -2.27096303e-01],\n",
       "       [ 1.34842606e+00,  4.82087377e-01, -3.77390640e-01,\n",
       "        -3.08496989e-01, -7.53909595e-02],\n",
       "       [ 1.09097409e+00,  8.82219404e-02,  1.39798532e-01,\n",
       "        -3.33538966e-01, -2.73283066e-01],\n",
       "       [ 2.04151097e+00, -5.93923392e-01,  8.53990213e-02,\n",
       "         3.08999516e-01,  1.31326880e-01],\n",
       "       [ 1.16220833e+00, -8.24673070e-01,  8.61033559e-01,\n",
       "        -6.21305251e-02,  6.95011243e-02],\n",
       "       [ 1.06697597e+00, -3.70187118e-02,  4.33677114e-01,\n",
       "        -1.17049199e-01,  8.98864920e-02],\n",
       "       [ 7.17904482e-01, -3.45152780e-02,  2.06745040e-01,\n",
       "        -2.70364040e-01,  3.34739347e-01],\n",
       "       [ 9.26638074e-01,  1.23135107e-01, -3.03674482e-03,\n",
       "        -1.04237274e-01, -1.97878904e-01],\n",
       "       [ 4.90948238e-01,  1.06913423e-01,  3.40892480e-01,\n",
       "        -2.46309127e-01, -1.01114363e-01],\n",
       "       [ 9.52060898e-01, -9.31062213e-02,  5.85022792e-01,\n",
       "         1.17353089e-01, -1.99706970e-01],\n",
       "       [ 4.84313052e-01, -1.15754822e-01,  2.06992248e-01,\n",
       "        -3.72217453e-02, -2.11865822e-01],\n",
       "       [ 8.50262728e-01,  6.10216426e-02,  8.08445550e-02,\n",
       "        -5.76469425e-01, -2.29987176e-01],\n",
       "       [ 1.07064597e+00, -1.85454194e-01, -4.49823505e-01,\n",
       "        -1.87401602e-01,  1.87078042e-01],\n",
       "       [ 1.69024322e+00, -6.50572049e-01, -5.22086652e-01,\n",
       "        -1.52171872e-02, -1.49647794e-01],\n",
       "       [ 1.02291921e+00, -2.60082204e-01,  1.33522552e-01,\n",
       "        -9.64162286e-02, -1.38967324e-01],\n",
       "       [ 1.05677046e+00, -2.13873198e-01,  1.81737141e-02,\n",
       "        -3.80141897e-01, -2.04833772e-01],\n",
       "       [ 3.88217921e-01, -9.08572682e-01, -2.98015096e-01,\n",
       "        -4.91761144e-01, -1.99028531e-01],\n",
       "       [ 1.33689630e+00, -7.49013072e-01, -1.88671191e-01,\n",
       "         7.10883843e-02, -2.53838769e-01],\n",
       "       [ 1.41688250e+00, -5.53490111e-02, -3.55317234e-01,\n",
       "        -5.50816803e-02, -1.39687787e-01],\n",
       "       [ 1.70103952e+00,  1.00882347e+00,  2.82016653e-01,\n",
       "        -1.35883921e-01,  3.23278196e-01],\n",
       "       [ 8.99238018e-01, -7.79632209e-01,  3.13714483e-02,\n",
       "        -2.99876576e-01,  4.51219518e-03],\n",
       "       [ 5.14673418e-01, -1.21641412e+00, -6.46672248e-02,\n",
       "        -2.24877895e-01,  7.33842178e-02],\n",
       "       [ 1.15207459e+00,  2.57596346e-01,  6.92794295e-02,\n",
       "        -2.72659425e-01, -1.92686172e-01],\n",
       "       [ 1.15804152e+00,  3.22270964e-01, -6.11927197e-01,\n",
       "         2.21762065e-01, -4.18314503e-02],\n",
       "       [ 2.27876138e+00,  2.45586255e-01, -2.42792419e-01,\n",
       "        -1.99013551e-02,  1.54661466e-01],\n",
       "       [ 1.07074813e+00, -1.78900178e-01,  3.02928346e-01,\n",
       "        -1.08443902e-01, -1.42552017e-02],\n",
       "       [ 1.95932080e-01, -1.06775803e+00, -5.53498628e-01,\n",
       "         1.29566638e-02, -9.78337066e-02],\n",
       "       [ 3.29986375e-01, -1.47723683e+00,  2.94010527e-01,\n",
       "        -7.57733109e-02, -6.16513241e-02],\n",
       "       [ 2.04598184e+00, -7.68424436e-02,  7.36131163e-02,\n",
       "         1.42759345e-01,  1.42001320e-01],\n",
       "       [ 1.84396943e+00,  1.10158574e+00,  4.12627730e-01,\n",
       "         1.10848573e-01,  1.70561578e-01],\n",
       "       [ 1.25255949e+00, -1.52677464e-01, -2.30283605e-01,\n",
       "        -1.16457772e-01, -2.43202127e-03],\n",
       "       [ 1.06638654e+00,  5.94449228e-01, -1.56146679e-01,\n",
       "        -7.93276805e-02, -3.31186701e-01],\n",
       "       [ 8.15231825e-01, -9.52448147e-01, -8.10160344e-02,\n",
       "         1.70352361e-01, -1.13623785e-01],\n",
       "       [ 2.76191137e+00,  3.63922884e-01, -8.58600215e-01,\n",
       "         4.86431395e-01,  1.79852951e-01],\n",
       "       [ 1.07110938e+00,  3.09146825e-01, -7.51027595e-01,\n",
       "         2.00495316e-01, -1.25415452e-01],\n",
       "       [ 2.35160179e+00, -2.97808354e-01, -5.75818084e-01,\n",
       "         1.83147186e-01,  1.01791065e-01],\n",
       "       [ 1.53104887e+00, -2.69479580e-02, -3.05277838e-01,\n",
       "        -1.48219867e-01, -6.00728555e-02],\n",
       "       [ 1.86326495e+00, -1.51380994e-01, -8.48440775e-02,\n",
       "         3.21146964e-01, -1.13748723e-01],\n",
       "       [ 1.07517494e+00,  1.19705545e-01, -7.74305953e-01,\n",
       "        -1.71430650e-01, -1.58903150e-01],\n",
       "       [ 1.16881020e+00, -6.03179779e-01, -4.35949497e-01,\n",
       "        -1.18962551e-01, -5.95115468e-02],\n",
       "       [ 2.22993262e+00, -6.45774601e-01, -3.59469050e-02,\n",
       "         1.18104743e-01,  1.71828598e-01],\n",
       "       [ 1.75553971e+00,  1.55490732e+00,  8.26103763e-02,\n",
       "        -3.54200783e-01,  2.66045284e-01],\n",
       "       [ 1.05560085e+00,  1.79593630e+00,  2.16959721e-01,\n",
       "         3.62588792e-01, -1.65013478e-01],\n",
       "       [ 1.81889314e+00,  7.37323552e-01, -3.94925873e-02,\n",
       "         1.79233277e-01,  4.36613280e-01],\n",
       "       [ 1.42159506e+00, -3.15226231e-01, -3.69948410e-01,\n",
       "         3.78324924e-02,  3.52472890e-02],\n",
       "       [ 1.72843991e+00, -2.28665191e-01, -2.58678774e-01,\n",
       "         3.97861069e-02, -9.99288481e-02],\n",
       "       [ 1.25041244e+00, -5.39251913e-01, -4.30005033e-01,\n",
       "        -1.63981241e-01,  1.67704125e-01],\n",
       "       [ 1.12228231e+00, -7.62235873e-02,  3.50568700e-01,\n",
       "        -1.36758623e-01, -3.12010721e-01],\n",
       "       [ 1.66768333e+00,  5.27391422e-01,  8.89445866e-01,\n",
       "         8.00303882e-01,  1.42309519e-01],\n",
       "       [ 1.73293155e+00,  8.51215941e-01,  3.14474754e-01,\n",
       "         4.35994718e-01, -7.59364878e-03],\n",
       "       [ 6.51214130e-01,  3.68166414e-01, -1.92375874e-01,\n",
       "        -1.24301699e-01, -2.42582979e-01],\n",
       "       [ 1.85088613e+00,  1.01052918e-01, -3.17691717e-01,\n",
       "         3.04711105e-01, -9.50549456e-02]])"
      ]
     },
     "execution_count": 97,
     "metadata": {},
     "output_type": "execute_result"
    }
   ],
   "source": [
    "D = pca.fit(data).transform(data)\n",
    "D"
   ]
  },
  {
   "cell_type": "code",
   "execution_count": null,
   "metadata": {},
   "outputs": [],
   "source": []
  },
  {
   "cell_type": "markdown",
   "metadata": {},
   "source": [
    "# Éboulis des valeurs propres\n",
    "\n",
    "Nous allons dans un premier temps faire un éboulis des valeurs propre, pour voir combien d'axes étudier."
   ]
  },
  {
   "cell_type": "code",
   "execution_count": 87,
   "metadata": {
    "scrolled": true
   },
   "outputs": [
    {
     "data": {
      "image/png": "[encoded data removed]",
      "text/plain": [
       "<Figure size 432x288 with 1 Axes>"
      ]
     },
     "metadata": {
      "needs_background": "light"
     },
     "output_type": "display_data"
    }
   ],
   "source": [
    "# Eboulis des valeurs propres\n",
    "plt.figure()\n",
    "plt.plot(pca.explained_variance_ratio_)\n",
    "plt.show()"
   ]
  },
  {
   "cell_type": "code",
   "execution_count": null,
   "metadata": {},
   "outputs": [],
   "source": []
  },
  {
   "cell_type": "code",
   "execution_count": null,
   "metadata": {},
   "outputs": [],
   "source": []
  },
  {
   "cell_type": "code",
   "execution_count": 105,
   "metadata": {},
   "outputs": [
    {
     "data": {
      "image/png": "[encoded data removed]",
      "text/plain": [
       "<Figure size 1080x720 with 1 Axes>"
      ]
     },
     "metadata": {
      "needs_background": "light"
     },
     "output_type": "display_data"
    }
   ],
   "source": [
    "plt.figure(figsize=(15,10))\n",
    "\n",
    "scree = pca.explained_variance_ratio_*100\n",
    "\n",
    "plt.bar(np.arange(len(scree))+1, scree)\n",
    "plt.plot(np.arange(len(scree))+1, scree.cumsum(),c=\"red\",marker='o')\n",
    "\n",
    "plt.xlabel(\"Rang de l'axe d'inertie\", fontsize=15)\n",
    "plt.ylabel(\"Pourcentage d'inertie\", fontsize=15)\n",
    "plt.title(\"Éboulis des valeurs propres\",fontsize=20)\n",
    "\n",
    "plt.show()"
   ]
  },
  {
   "cell_type": "raw",
   "metadata": {},
   "source": [
    "\n",
    "\n",
    "On peut voir sur l'éboulis que le premier plan représente plus de 60 % de l'inertie. De plus en considérant le critère de Kaiser on peut négliger les axes qui représente moins de (100/p)% d'inertie avec ici p à 6, soit 16.66 %\n"
   ]
  },
  {
   "cell_type": "code",
   "execution_count": 98,
   "metadata": {},
   "outputs": [
    {
     "data": {
      "image/png": "[encoded data removed]",
      "text/plain": [
       "<Figure size 720x576 with 1 Axes>"
      ]
     },
     "metadata": {
      "needs_background": "light"
     },
     "output_type": "display_data"
    }
   ],
   "source": [
    "plt.figure(figsize=(10,8))\n",
    "for i, j, nom in zip(C[:,0], C[:,1], notes['is_genuine']):\n",
    "    color = \"red\" if nom == \"True\" else \"blue\"\n",
    "    plt.text(i, j, nom, color=color)\n",
    "plt.axis((-6,7.5,-5,6))  \n",
    "plt.show()"
   ]
  },
  {
   "cell_type": "code",
   "execution_count": 106,
   "metadata": {},
   "outputs": [
    {
     "data": {
      "text/html": [
       "<div>\n",
       "<style scoped>\n",
       "    .dataframe tbody tr th:only-of-type {\n",
       "        vertical-align: middle;\n",
       "    }\n",
       "\n",
       "    .dataframe tbody tr th {\n",
       "        vertical-align: top;\n",
       "    }\n",
       "\n",
       "    .dataframe thead th {\n",
       "        text-align: right;\n",
       "    }\n",
       "</style>\n",
       "<table border=\"1\" class=\"dataframe\">\n",
       "  <thead>\n",
       "    <tr style=\"text-align: right;\">\n",
       "      <th></th>\n",
       "      <th>Inertie %</th>\n",
       "    </tr>\n",
       "  </thead>\n",
       "  <tbody>\n",
       "    <tr>\n",
       "      <th>Axe 1</th>\n",
       "      <td>70.119</td>\n",
       "    </tr>\n",
       "    <tr>\n",
       "      <th>Axe 2</th>\n",
       "      <td>14.020</td>\n",
       "    </tr>\n",
       "    <tr>\n",
       "      <th>Axe 3</th>\n",
       "      <td>9.083</td>\n",
       "    </tr>\n",
       "    <tr>\n",
       "      <th>Axe 4</th>\n",
       "      <td>3.638</td>\n",
       "    </tr>\n",
       "    <tr>\n",
       "      <th>Axe 5</th>\n",
       "      <td>1.740</td>\n",
       "    </tr>\n",
       "  </tbody>\n",
       "</table>\n",
       "</div>"
      ],
      "text/plain": [
       "       Inertie %\n",
       "Axe 1     70.119\n",
       "Axe 2     14.020\n",
       "Axe 3      9.083\n",
       "Axe 4      3.638\n",
       "Axe 5      1.740"
      ]
     },
     "execution_count": 106,
     "metadata": {},
     "output_type": "execute_result"
    }
   ],
   "source": [
    "scree = pd.DataFrame(scree.round(3), index=('Axe 1','Axe 2','Axe 3','Axe 4','Axe 5'))\n",
    "scree.columns = ['Inertie %']\n",
    "scree"
   ]
  },
  {
   "cell_type": "code",
   "execution_count": 100,
   "metadata": {},
   "outputs": [
    {
     "data": {
      "image/png": "[encoded data removed]",
      "text/plain": [
       "<Figure size 432x288 with 1 Axes>"
      ]
     },
     "metadata": {
      "needs_background": "light"
     },
     "output_type": "display_data"
    }
   ],
   "source": [
    "# Diagrammes boîte des composantes principales\n",
    "plt.figure()\n",
    "plt.boxplot(C[:,0:20])\n",
    "plt.show()"
   ]
  },
  {
   "cell_type": "code",
   "execution_count": 102,
   "metadata": {},
   "outputs": [
    {
     "data": {
      "image/png": "[encoded data removed]",
      "text/plain": [
       "<Figure size 720x576 with 1 Axes>"
      ]
     },
     "metadata": {
      "needs_background": "light"
     },
     "output_type": "display_data"
    }
   ],
   "source": [
    "plt.figure(figsize=(10,8))\n",
    "for i, j, nom in zip(C[:,0], C[:,1], notes['is_genuine']):\n",
    "    color = \"red\" if nom == \"1\" else \"blue\"\n",
    "    plt.text(i, j, nom, color=color)\n",
    "plt.axis((-6,7.5,-5,6))  \n",
    "plt.show()"
   ]
  },
  {
   "cell_type": "markdown",
   "metadata": {},
   "source": [
    "# Cercle de corrélation des variables."
   ]
  },
  {
   "cell_type": "code",
   "execution_count": 103,
   "metadata": {},
   "outputs": [
    {
     "data": {
      "image/png": "[encoded data removed]",
      "text/plain": [
       "<Figure size 576x576 with 1 Axes>"
      ]
     },
     "metadata": {
      "needs_background": "light"
     },
     "output_type": "display_data"
    }
   ],
   "source": [
    "# coordonnées des variables\n",
    "coord1=pca.components_[1]*np.sqrt(pca.explained_variance_[1])\n",
    "coord2=pca.components_[2]*np.sqrt(pca.explained_variance_[2])\n",
    "fig = plt.figure(figsize=(8,8))\n",
    "ax = fig.add_subplot(1, 1, 1)\n",
    "for i, j, nom in zip(coord1,coord2, data.columns):\n",
    "    plt.text(i, j, nom)\n",
    "    plt.arrow(0,0,i,j,color='r')\n",
    "plt.axis((-1.2,1.2,-1.2,1.2))\n",
    "# cercle\n",
    "c=plt.Circle((0,0), radius=1, color='b', fill=False)\n",
    "ax.add_patch(c)\n",
    "plt.show()"
   ]
  },
  {
   "cell_type": "code",
   "execution_count": null,
   "metadata": {},
   "outputs": [],
   "source": []
  },
  {
   "cell_type": "code",
   "execution_count": 99,
   "metadata": {},
   "outputs": [
    {
     "ename": "NameError",
     "evalue": "name 'display_circles' is not defined",
     "output_type": "error",
     "traceback": [
      "\u001b[1;31m---------------------------------------------------------------------------\u001b[0m",
      "\u001b[1;31mNameError\u001b[0m                                 Traceback (most recent call last)",
      "\u001b[1;32m<ipython-input-99-ffb7f47e6eb7>\u001b[0m in \u001b[0;36m<module>\u001b[1;34m\u001b[0m\n\u001b[0;32m      1\u001b[0m \u001b[1;31m# Cercle des corrélations\u001b[0m\u001b[1;33m\u001b[0m\u001b[1;33m\u001b[0m\u001b[1;33m\u001b[0m\u001b[0m\n\u001b[0;32m      2\u001b[0m \u001b[0mpcs\u001b[0m \u001b[1;33m=\u001b[0m \u001b[0mpca\u001b[0m\u001b[1;33m.\u001b[0m\u001b[0mcomponents_\u001b[0m\u001b[1;33m\u001b[0m\u001b[1;33m\u001b[0m\u001b[0m\n\u001b[1;32m----> 3\u001b[1;33m \u001b[0mdisplay_circles\u001b[0m\u001b[1;33m(\u001b[0m\u001b[0mpcs\u001b[0m\u001b[1;33m,\u001b[0m \u001b[0mn_comp\u001b[0m\u001b[1;33m,\u001b[0m \u001b[0mpca\u001b[0m\u001b[1;33m,\u001b[0m \u001b[1;33m[\u001b[0m\u001b[1;33m(\u001b[0m\u001b[1;36m0\u001b[0m\u001b[1;33m,\u001b[0m\u001b[1;36m1\u001b[0m\u001b[1;33m)\u001b[0m\u001b[1;33m]\u001b[0m\u001b[1;33m,\u001b[0m \u001b[0mlabels\u001b[0m \u001b[1;33m=\u001b[0m \u001b[0mnp\u001b[0m\u001b[1;33m.\u001b[0m\u001b[0marray\u001b[0m\u001b[1;33m(\u001b[0m\u001b[0mfeatures\u001b[0m\u001b[1;33m)\u001b[0m\u001b[1;33m)\u001b[0m\u001b[1;33m\u001b[0m\u001b[1;33m\u001b[0m\u001b[0m\n\u001b[0m",
      "\u001b[1;31mNameError\u001b[0m: name 'display_circles' is not defined"
     ]
    }
   ],
   "source": [
    "# Cercle des corrélations\n",
    "pcs = pca.components_\n",
    "display_circles(pcs, n_comp, pca, [(0,1)], labels = np.array(features))"
   ]
  },
  {
   "cell_type": "raw",
   "metadata": {},
   "source": []
  },
  {
   "cell_type": "markdown",
   "metadata": {},
   "source": [
    "## Partie 2 : PREDICTION"
   ]
  },
  {
   "cell_type": "markdown",
   "metadata": {},
   "source": [
    "Effectuer la prédiction de nouveaux billets via un algorithme que vous allez mettre en place (kmeans? regression logistique? A vous de voir).  \n",
    "Si besoin, je vous fournirai un nouveau jeu de données de billets afin que vous prédisiez s'ils sont vrais ou faux et qu'on valide ensuite !"
   ]
  },
  {
   "cell_type": "markdown",
   "metadata": {},
   "source": [
    "# Régression logistique\n",
    "\n",
    "Dans cette partie, nous allons nous concentrer sur la partie dans laquelle le programme fera le choix de l'authenticité du billet. Nous allons utiliser une régression logistique au vu de la classification."
   ]
  },
  {
   "cell_type": "code",
   "execution_count": null,
   "metadata": {},
   "outputs": [],
   "source": [
    "\n",
    "\n"
   ]
  },
  {
   "cell_type": "code",
   "execution_count": 114,
   "metadata": {},
   "outputs": [
    {
     "ename": "ValueError",
     "evalue": "This solver needs samples of at least 2 classes in the data, but the data contains only one class: -1",
     "output_type": "error",
     "traceback": [
      "\u001b[1;31m---------------------------------------------------------------------------\u001b[0m",
      "\u001b[1;31mValueError\u001b[0m                                Traceback (most recent call last)",
      "\u001b[1;32m<ipython-input-114-b3fb2e11a657>\u001b[0m in \u001b[0;36m<module>\u001b[1;34m\u001b[0m\n\u001b[0;32m      5\u001b[0m \u001b[1;33m\u001b[0m\u001b[0m\n\u001b[0;32m      6\u001b[0m \u001b[0mlogistic\u001b[0m \u001b[1;33m=\u001b[0m \u001b[0mLogisticRegression\u001b[0m\u001b[1;33m(\u001b[0m\u001b[1;33m)\u001b[0m\u001b[1;33m\u001b[0m\u001b[1;33m\u001b[0m\u001b[0m\n\u001b[1;32m----> 7\u001b[1;33m \u001b[0mlogistic\u001b[0m\u001b[1;33m.\u001b[0m\u001b[0mfit\u001b[0m\u001b[1;33m(\u001b[0m\u001b[0mX\u001b[0m\u001b[1;33m,\u001b[0m\u001b[0my\u001b[0m\u001b[1;33m)\u001b[0m\u001b[1;33m\u001b[0m\u001b[1;33m\u001b[0m\u001b[0m\n\u001b[0m\u001b[0;32m      8\u001b[0m \u001b[1;33m\u001b[0m\u001b[0m\n",
      "\u001b[1;32m~\\anaconda3\\lib\\site-packages\\sklearn\\linear_model\\_logistic.py\u001b[0m in \u001b[0;36mfit\u001b[1;34m(self, X, y, sample_weight)\u001b[0m\n\u001b[0;32m   1556\u001b[0m             raise ValueError(\"This solver needs samples of at least 2 classes\"\n\u001b[0;32m   1557\u001b[0m                              \u001b[1;34m\" in the data, but the data contains only one\"\u001b[0m\u001b[1;33m\u001b[0m\u001b[1;33m\u001b[0m\u001b[0m\n\u001b[1;32m-> 1558\u001b[1;33m                              \" class: %r\" % classes_[0])\n\u001b[0m\u001b[0;32m   1559\u001b[0m \u001b[1;33m\u001b[0m\u001b[0m\n\u001b[0;32m   1560\u001b[0m         \u001b[1;32mif\u001b[0m \u001b[0mlen\u001b[0m\u001b[1;33m(\u001b[0m\u001b[0mself\u001b[0m\u001b[1;33m.\u001b[0m\u001b[0mclasses_\u001b[0m\u001b[1;33m)\u001b[0m \u001b[1;33m==\u001b[0m \u001b[1;36m2\u001b[0m\u001b[1;33m:\u001b[0m\u001b[1;33m\u001b[0m\u001b[1;33m\u001b[0m\u001b[0m\n",
      "\u001b[1;31mValueError\u001b[0m: This solver needs samples of at least 2 classes in the data, but the data contains only one class: -1"
     ]
    }
   ],
   "source": [
    "\n",
    "\n",
    "from sklearn.linear_model import LogisticRegression\n",
    "cols = ['diagonal','height_left','height_right','margin_low','margin_up','length']\n",
    "X = notes[cols]\n",
    "y = notes.is_genuine\n",
    "\n",
    "logistic = LogisticRegression()\n",
    "logistic.fit(X,y)\n",
    "\n"
   ]
  },
  {
   "cell_type": "code",
   "execution_count": null,
   "metadata": {},
   "outputs": [],
   "source": [
    ".is_genuine"
   ]
  },
  {
   "cell_type": "code",
   "execution_count": null,
   "metadata": {},
   "outputs": [],
   "source": []
  },
  {
   "cell_type": "code",
   "execution_count": null,
   "metadata": {},
   "outputs": [],
   "source": []
  },
  {
   "cell_type": "code",
   "execution_count": null,
   "metadata": {},
   "outputs": [],
   "source": []
  }
 ],
 "metadata": {
  "kernelspec": {
   "display_name": "Python 3",
   "language": "python",
   "name": "python3"
  },
  "language_info": {
   "codemirror_mode": {
    "name": "ipython",
    "version": 3
   },
   "file_extension": ".py",
   "mimetype": "text/x-python",
   "name": "python",
   "nbconvert_exporter": "python",
   "pygments_lexer": "ipython3",
   "version": "3.7.6"
  },
  "toc": {
   "base_numbering": 1,
   "nav_menu": {},
   "number_sections": true,
   "sideBar": true,
   "skip_h1_title": false,
   "title_cell": "Table of Contents",
   "title_sidebar": "SOMMAIRE",
   "toc_cell": false,
   "toc_position": {
    "height": "calc(100% - 180px)",
    "left": "10px",
    "top": "150px",
    "width": "384px"
   },
   "toc_section_display": true,
   "toc_window_display": true
  }
 },
 "nbformat": 4,
 "nbformat_minor": 2
}
